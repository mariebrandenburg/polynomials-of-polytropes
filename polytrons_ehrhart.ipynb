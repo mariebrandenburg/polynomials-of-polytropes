{
 "cells": [
  {
   "cell_type": "markdown",
   "metadata": {},
   "source": [
    "# The Input Section"
   ]
  },
  {
   "cell_type": "markdown",
   "metadata": {},
   "source": [
    "You only need to change ``global_n``"
   ]
  },
  {
   "cell_type": "code",
   "execution_count": 1,
   "metadata": {},
   "outputs": [
    {
     "data": {
      "text/plain": [
       "[x12, x13, x21, x23, x31, x32]"
      ]
     },
     "execution_count": 1,
     "metadata": {},
     "output_type": "execute_result"
    }
   ],
   "source": [
    "global_n = 3\n",
    "\n",
    "length = global_n^2 - global_n\n",
    "xvars = [var('x%s%s'%(i,j)) for i in range(1,global_n+1) for j in range(1,global_n+1) if not i==j]\n",
    "xvars"
   ]
  },
  {
   "cell_type": "markdown",
   "metadata": {},
   "source": [
    "# Preamble: A lot of functions."
   ]
  },
  {
   "cell_type": "code",
   "execution_count": 2,
   "metadata": {},
   "outputs": [],
   "source": [
    "def symbols_to_vector(symbolic_expression):\n",
    "    string = str(symbolic_expression)\n",
    "    vec = [0]*(length + 1)\n",
    "\n",
    "    if string == \"0\":\n",
    "        return vector(vec)\n",
    "\n",
    "    sign = 1\n",
    "    factor = 1\n",
    "    variable = 1\n",
    "\n",
    "    symbols_vec = [0]+xvars \n",
    "\n",
    "    terms =  string.replace('-',' - ').split()\n",
    "    for term in terms:\n",
    "        letters = term.split(\"*\")\n",
    "        if len(letters) == 1: #term is either of the form '+' or '-' or a variable or constant\n",
    "            letter = letters[0]\n",
    "            if letter in [\"+\"]:\n",
    "                sign = 1\n",
    "            elif letter in [\"-\"]:\n",
    "                sign = -1\n",
    "            elif letter.isdigit():\n",
    "                vec[0] = sign*int(letter)\n",
    "                factor = 1\n",
    "                sign = 1\n",
    "            elif var(letter) in symbols_vec:\n",
    "                index = symbols_vec.index(var(letter))\n",
    "                vec[index] = factor*sign\n",
    "                factor = 1\n",
    "                sign = 1\n",
    "        else: #term is of the form factor*variable or -variable\n",
    "            for letter in letters:\n",
    "                if letter.isdigit():\n",
    "                    factor = int(letter)\n",
    "                elif var(letter) in symbols_vec:\n",
    "                    index = symbols_vec.index(var(letter))\n",
    "                    vec[index] = factor*sign\n",
    "                    factor = 1\n",
    "                    sign = 1\n",
    "    return vector(vec)\n",
    "\n",
    "def vector_to_symbols(vec):\n",
    "        symbols_vec = vector([0]+xvars) #TODO\n",
    "        return symbols_vec.dot_product(vector(vec))\n",
    "\n",
    "class Expression:\n",
    "    \n",
    "    def __init__(self, coordinates, assumptions):\n",
    "        self.assumptions = assumptions\n",
    "        self.coordinates = vector(coordinates)\n",
    "        \n",
    "    def is_valid_strict(self):\n",
    "        #checks if a strict inequality (question) is satified under the assumptions of other strict inequalities\n",
    "        #this is not satisfied if intP interected with H_c is nonempty\n",
    "        P = Polyhedron(ieqs = self.assumptions)\n",
    "        #complement of halfspace defined by strict inequality in question\n",
    "        H_c = Polyhedron(ieqs = [[-i for i in self.coordinates]]) \n",
    "        if len(H_c.intersection(P).vertices())==0:\n",
    "            return true\n",
    "        else:\n",
    "            for F in P.faces(P.dimension()-1):\n",
    "                if H_c.intersection(F.as_polyhedron()) == H_c.intersection(P):\n",
    "                    return true\n",
    "        return false\n",
    "    \n",
    "    def is_valid_nonstrict(self):\n",
    "        #checks if a non-strict inequality (question) is satified under the assumptions of other strict inequalities\n",
    "        #this is satisfied if intP is contained in H. H is closed, so this is equivalent to P contianed in H\n",
    "        P = Polyhedron(ieqs = self.assumptions)\n",
    "        H = Polyhedron(ieqs = [self.coordinates]) \n",
    "        if H.intersection(P)==P:\n",
    "            return true\n",
    "        else:     \n",
    "            return false\n",
    "\n",
    "    def  __gt__(self, other):\n",
    "        #definition of >\n",
    "        #return self.is_valid_strict(assumptions, self.coordinates - other.coordinates)\n",
    "        return Expression(coordinates = self.coordinates - other.coordinates, assumptions = self.assumptions).is_valid_strict()\n",
    "    \n",
    "    def __lt__(self,other):\n",
    "        #definition of <\n",
    "        return Expression(coordinates = other.coordinates - self.coordinates, assumptions = self.assumptions).is_valid_strict()\n",
    "    \n",
    "    def __eq__(self, other):\n",
    "        #definition of ==\n",
    "        if Expression(coordinates = self.coordinates - other.coordinates, assumptions = self.assumptions).is_valid_nonstrict() and Expression(coordinates = other.coordinates - self.coordinates, assumptions = self.assumptions).is_valid_nonstrict(): \n",
    "            return true\n",
    "        else:\n",
    "            return false\n",
    "    \n",
    "    def __le__(self, other):\n",
    "        #definition of <=\n",
    "        return (self<other or self==other)\n",
    "    \n",
    "    def __ge__(self, other):\n",
    "        #definition of >=\n",
    "        return (self>other or self==other)\n",
    "    \n",
    "    def __add__(self,other):\n",
    "        #definition of +\n",
    "        return Expression(coordinates = self.coordinates + other.coordinates, assumptions = self.assumptions)\n",
    "    \n",
    "    def __sub__(self,other):\n",
    "        #definition of -\n",
    "        return Expression(coordinates = self.coordinates - other.coordinates, assumptions = self.assumptions)\n",
    "    \n",
    "    def is_comparable_to(self, other):\n",
    "        if self>= other or self <= other:\n",
    "            return true\n",
    "        else:\n",
    "            return false\n",
    "        \n",
    "    def as_symbols(self):\n",
    "        symbols_vec = vector([0]+xvars)\n",
    "        return symbols_vec.dot_product(vector(self.coordinates))\n",
    "    \n",
    "\n",
    "\n",
    "def minimum(expr1, expr2):\n",
    "    if expr1 <= expr2:\n",
    "        return expr1\n",
    "    elif expr2 <= expr1:\n",
    "        return expr2\n",
    "    else:\n",
    "        print(\"cannot decide minimum of \"+str(expr1)+\" and \"+str(expr2))\n",
    "\n",
    "def intersect_trop_lines(assumptions, first,second):\n",
    "    #translate symbolic expressions into vectors\n",
    "    a_ex = Expression(assumptions = assumptions, coordinates = symbols_to_vector(first[0]))\n",
    "    b_ex = Expression(assumptions = assumptions, coordinates = symbols_to_vector(first[1]))\n",
    "    c_ex = Expression(assumptions = assumptions, coordinates = symbols_to_vector(second[0]))\n",
    "    d_ex = Expression(assumptions = assumptions, coordinates = symbols_to_vector(second[1]))\n",
    "    res = []\n",
    "    if c_ex>a_ex and d_ex>b_ex and c_ex-a_ex<d_ex-b_ex: #region 1\n",
    "        res = [c_ex, b_ex - a_ex + c_ex]\n",
    "    #elif c_ex>a_ex and d_ex>b_ex and c_ex-a_ex==d_ex-b_ex: #region 1 intersected 2\n",
    "    #    return []\n",
    "    elif c_ex>a_ex and d_ex>b_ex and c_ex-a_ex>d_ex-b_ex: #region 2\n",
    "        res = [a_ex - b_ex + d_ex, d_ex]\n",
    "    #elif c_ex>a_ex and d_ex==b_ex and c_ex-a_ex>d_ex-b_ex: #region 2 intersected 3\n",
    "    #    return []\n",
    "    elif c_ex>a_ex and d_ex<b_ex and c_ex-a_ex>d_ex-b_ex: #region 3\n",
    "        res = [a_ex, d_ex]\n",
    "    #elif c_ex==a_ex and d_ex<b_ex and c_ex-a_ex>d_ex-b_ex: #region 3 intersected 4\n",
    "    #    return []\n",
    "    elif c_ex<a_ex and d_ex<b_ex and c_ex-a_ex>d_ex-b_ex: #region 4\n",
    "        res = [a_ex, a_ex - c_ex + d_ex]\n",
    "    #elif c_ex<a_ex and d_ex<b_ex and c_ex-a_ex==d_ex-b_ex: #region 4 intersected 5\n",
    "    #    return []   \n",
    "    elif c_ex<a_ex and d_ex<b_ex and c_ex-a_ex<d_ex-b_ex: #region 5\n",
    "        res = [b_ex + c_ex - d_ex, b_ex]\n",
    "    #elif c_ex<a_ex and d_ex==b_ex and c_ex-a_ex<d_ex-b_ex: #region 5 intersected 6\n",
    "    #    return []\n",
    "    elif c_ex<a_ex and d_ex>b_ex and c_ex-a_ex<d_ex-b_ex: #region 6\n",
    "        res = [c_ex, b_ex]\n",
    "    #elif c_ex==a_ex and d_ex>b_ex and c_ex-a_ex<d_ex-b_ex: #region 6 intersected 1\n",
    "    #    return []\n",
    "    \n",
    "    elif a_ex>c_ex and b_ex>d_ex and a_ex-c_ex<b_ex-d_ex: #region 1\n",
    "        res = [a_ex, d_ex - c_ex + a_ex]\n",
    "    elif a_ex>c_ex and b_ex>d_ex and a_ex-c_ex>b_ex-d_ex: #region 2\n",
    "        res = [c_ex - d_ex + b_ex, b_ex]\n",
    "    elif a_ex>c_ex and b_ex<d_ex and a_ex-c_ex>b_ex-d_ex: #region 3\n",
    "        res = [c_ex, b_ex]\n",
    "    elif a_ex<c_ex and b_ex<d_ex and a_ex-c_ex>b_ex-d_ex: #region 4\n",
    "        res = [c_ex, c_ex - a_ex + b_ex]  \n",
    "    elif a_ex<c_ex and b_ex<d_ex and a_ex-c_ex<b_ex-d_ex: #region 5\n",
    "        res = [d_ex + a_ex - b_ex, d_ex]\n",
    "    elif a_ex<c_ex and b_ex>d_ex and a_ex-c_ex<b_ex-d_ex: #region 6\n",
    "        res = [a_ex, d_ex]\n",
    "\n",
    "    if len(res):\n",
    "        return [el.as_symbols() for el in res]\n",
    "\n",
    "    \n",
    "class polytron:\n",
    "    def __init__(self, assumptions, vertices):\n",
    "        self.assumptions = assumptions\n",
    "        self.vertices = vertices\n",
    "        self.pseudovertices = self.get_pseudo_and_edges(assumptions, self.vertices)[0]\n",
    "        self.edges = self.get_pseudo_and_edges(assumptions, vertices)[1]\n",
    "        \n",
    "    def get_pseudo_and_edges(self, assumptions, vertices):\n",
    "        pseudovertices = copy(vertices)\n",
    "        edges = []\n",
    "        for pair in Subsets(range(len(vertices)),2):\n",
    "            intersection = intersect_trop_lines(assumptions, vertices[pair[0]],vertices[pair[1]])\n",
    "            if intersection:\n",
    "                pseudovertices.append(intersection)\n",
    "                index = len(pseudovertices)-1\n",
    "                edges.append([pair[0],index])\n",
    "                edges.append([pair[1],index])\n",
    "            else:\n",
    "                edges.append(list(pair))\n",
    "        return [pseudovertices, edges]\n",
    "\n",
    "\n",
    "def tangent_cone(polytron, vertex_index):\n",
    "    \n",
    "    def primitive_vector_in_edge_direction(assumptions, direction):\n",
    "        x = Expression(assumptions = assumptions, coordinates = symbols_to_vector(direction[0]))\n",
    "        y = Expression(assumptions = assumptions, coordinates = symbols_to_vector(direction[1]))\n",
    "        x_negative = Expression(assumptions = assumptions, coordinates = [-i for i in x.coordinates])\n",
    "        y_negative = Expression(assumptions = assumptions, coordinates = [-i for i in y.coordinates])\n",
    "        zero = Expression(assumptions = assumptions, coordinates = symbols_to_vector(0))\n",
    "        \n",
    "        if x==zero and y>zero:\n",
    "            primitive = [ 0, 1]\n",
    "        elif x==zero and y<zero:\n",
    "            primitive = [ 0,-1]\n",
    "        elif x>zero and y>zero:\n",
    "            primitive = [ 1, 1]\n",
    "        elif x>zero and y==zero:\n",
    "            primitive = [ 1, 0]\n",
    "        elif x<zero and y==zero:\n",
    "            primitive = [-1, 0]\n",
    "        elif x<zero and y<zero:\n",
    "            primitive = [-1,-1]\n",
    "        else:\n",
    "            print 'cannot find primitive vector in direction ('+str(x.coordinates)+' , '+str(y.coordinates)+') under assumptions '+str(x.assumptions)\n",
    "        return primitive\n",
    "    \n",
    "    ##compute the generating function of the tangent cone at the given vertex\n",
    "    vertex = polytron.pseudovertices[vertex_index]\n",
    "    \n",
    "    \n",
    "    #find neighbours of vertex\n",
    "    incident_edges_index = [edge for edge in polytron.edges if vertex_index in edge]\n",
    "    neighbours_index = []\n",
    "    for edge_index in incident_edges_index:\n",
    "        for index in edge_index:\n",
    "            if index==vertex_index:\n",
    "                continue\n",
    "            else:\n",
    "                neighbours_index.append(index)    \n",
    "    neighbours = [ polytron.pseudovertices[index] for index in neighbours_index ]\n",
    "    \n",
    "    #compute edge-directions\n",
    "    edge_directions = [ [neighbour[0]-vertex[0],neighbour[1]-vertex[1]] for neighbour in neighbours ]\n",
    "    \n",
    "    primitives=[]\n",
    "    #find primitive vector in edge-direction\n",
    "    for direction in edge_directions:\n",
    "        primitives.append(primitive_vector_in_edge_direction(polytron.assumptions, direction))\n",
    "    \n",
    "    \n",
    "    t1, t2, n = var('t1, t2, n')\n",
    "    return ( t1^(n*vertex[0])* t2^(n*vertex[1]) )  / ( (1 - t1^primitives[0][0] * t2^primitives[0][1]) * (1 - t1^primitives[1][0] * t2^primitives[1][1])  )\n"
   ]
  },
  {
   "cell_type": "markdown",
   "metadata": {},
   "source": [
    "# Constructing the Kleene fan"
   ]
  },
  {
   "cell_type": "markdown",
   "metadata": {},
   "source": [
    "Making the Polyhedral Subdivision of $\\mathbb R^d$  for 6 variables"
   ]
  },
  {
   "cell_type": "markdown",
   "metadata": {},
   "source": [
    "The Setup: "
   ]
  },
  {
   "cell_type": "code",
   "execution_count": 3,
   "metadata": {},
   "outputs": [],
   "source": [
    "def create_incidence_matrix(size):\n",
    "    return matrix([[var('x%s%s'%(i,j)) if not i==j else 0 for j in range(1,size+1) ] for i in range(1,size+1)])"
   ]
  },
  {
   "cell_type": "code",
   "execution_count": 4,
   "metadata": {},
   "outputs": [
    {
     "data": {
      "image/png": "[encoded data removed]",
      "text/plain": [
       "Graphics object consisting of 18 graphics primitives"
      ]
     },
     "metadata": {},
     "output_type": "display_data"
    }
   ],
   "source": [
    "D = create_incidence_matrix(global_n)\n",
    "DG = DiGraph(D,weighted = True)\n",
    "DG.show(edge_labels = True)"
   ]
  },
  {
   "cell_type": "code",
   "execution_count": 5,
   "metadata": {},
   "outputs": [],
   "source": [
    "#here lists are always to be considered as tropical sum of the respective elements of the list, e.g.\n",
    "# [3,5] --> min(3,5)\n",
    "\n",
    "def trop_mult(list1,list2):\n",
    "    # tropical multiplication symbolic lists\n",
    "    # trop_mult([1,2],[3,4]) = [1+3, 1+4, 2+3, 2+4]\n",
    "    return list(set([el1 + el2 for el1 in list1 for el2 in list2]))\n",
    "\n",
    "def trop_sum(list1,list2):\n",
    "    # tropical sum of symbolic lists\n",
    "    # trop_sum([1,2],[3,4]) = [1, 2, 3, 4]\n",
    "    return list(set(list1+list2))\n",
    "\n",
    "\n",
    "def trop_mat_mult(A_,B_):\n",
    "    #tropical matrix multiplication of symbolic matrices\n",
    "    Arows = len(list(A_))\n",
    "    Acols = len(list(A_[0]))\n",
    "    Brows = len(list(B_))\n",
    "    Bcols = len(list(B_[0]))\n",
    "    P = [[0]*Bcols]*Arows\n",
    "    A = [ map(lambda x: [x] if not isinstance(x, list) else x, A_[i] ) for i in range(Arows) ]\n",
    "    B = [ map(lambda x: [x] if not isinstance(x, list) else x, B_[i] ) for i in range(Brows) ]\n",
    "    P =   [[  list(set(sum([trop_mult(A[i][k],B[k][j]) for k in range(Acols)],[]))) for i in range(Arows)] for j in range(Bcols) ]\n",
    "    return P\n",
    "\n",
    "def trop_mat_pwr(D,n):\n",
    "    #tropical matrix power of symbolic matrices\n",
    "    D_pwr = D\n",
    "    for k in range(n-1):\n",
    "        D_pwr = trop_mat_mult(D_pwr,D)\n",
    "    return D_pwr"
   ]
  },
  {
   "cell_type": "code",
   "execution_count": 6,
   "metadata": {
    "scrolled": true
   },
   "outputs": [
    {
     "data": {
      "text/html": [
       "<html><script type=\"math/tex; mode=display\">\\newcommand{\\Bold}[1]{\\mathbf{#1}}\\verb|Here|\\phantom{\\verb!x!}\\verb|is|\\phantom{\\verb!x!}\\verb|the|\\phantom{\\verb!x!}\\verb|Kleene|\\phantom{\\verb!x!}\\verb|star|\\phantom{\\verb!x!}\\verb|of|\\phantom{\\verb!x!}\\verb|of|\\phantom{\\verb!x!}\\verb|the|\\phantom{\\verb!x!}\\verb|graph:|</script></html>"
      ],
      "text/plain": [
       "'Here is the Kleene star of of the graph:'"
      ]
     },
     "metadata": {},
     "output_type": "display_data"
    },
    {
     "data": {
      "text/html": [
       "<html><script type=\"math/tex; mode=display\">\\newcommand{\\Bold}[1]{\\mathbf{#1}}\\left[\\phantom{\\verb!x!}\\verb|min(0,|\\phantom{\\verb!x!}\\verb|x12|\\phantom{\\verb!x!}\\verb|+|\\phantom{\\verb!x!}\\verb|x21,|\\phantom{\\verb!x!}\\verb|x13|\\phantom{\\verb!x!}\\verb|+|\\phantom{\\verb!x!}\\verb|x31)|, \\phantom{\\verb!x!}\\verb|min(x21,|\\phantom{\\verb!x!}\\verb|x23|\\phantom{\\verb!x!}\\verb|+|\\phantom{\\verb!x!}\\verb|x31)|, \\phantom{\\verb!x!}\\verb|min(x31,|\\phantom{\\verb!x!}\\verb|x21|\\phantom{\\verb!x!}\\verb|+|\\phantom{\\verb!x!}\\verb|x32)|\\right]</script></html>"
      ],
      "text/plain": [
       "[' min(0, x12 + x21, x13 + x31)',\n",
       " ' min(x21, x23 + x31)',\n",
       " ' min(x31, x21 + x32)']"
      ]
     },
     "metadata": {},
     "output_type": "display_data"
    },
    {
     "data": {
      "text/html": [
       "<html><script type=\"math/tex; mode=display\">\\newcommand{\\Bold}[1]{\\mathbf{#1}}\\left[\\phantom{\\verb!x!}\\verb|min(x13|\\phantom{\\verb!x!}\\verb|+|\\phantom{\\verb!x!}\\verb|x32,|\\phantom{\\verb!x!}\\verb|x12)|, \\phantom{\\verb!x!}\\verb|min(x12|\\phantom{\\verb!x!}\\verb|+|\\phantom{\\verb!x!}\\verb|x21,|\\phantom{\\verb!x!}\\verb|0,|\\phantom{\\verb!x!}\\verb|x23|\\phantom{\\verb!x!}\\verb|+|\\phantom{\\verb!x!}\\verb|x32)|, \\phantom{\\verb!x!}\\verb|min(x12|\\phantom{\\verb!x!}\\verb|+|\\phantom{\\verb!x!}\\verb|x31,|\\phantom{\\verb!x!}\\verb|x32)|\\right]</script></html>"
      ],
      "text/plain": [
       "[' min(x13 + x32, x12)',\n",
       " ' min(x12 + x21, 0, x23 + x32)',\n",
       " ' min(x12 + x31, x32)']"
      ]
     },
     "metadata": {},
     "output_type": "display_data"
    },
    {
     "data": {
      "text/html": [
       "<html><script type=\"math/tex; mode=display\">\\newcommand{\\Bold}[1]{\\mathbf{#1}}\\left[\\phantom{\\verb!x!}\\verb|min(x13,|\\phantom{\\verb!x!}\\verb|x12|\\phantom{\\verb!x!}\\verb|+|\\phantom{\\verb!x!}\\verb|x23)|, \\phantom{\\verb!x!}\\verb|min(x23,|\\phantom{\\verb!x!}\\verb|x13|\\phantom{\\verb!x!}\\verb|+|\\phantom{\\verb!x!}\\verb|x21)|, \\phantom{\\verb!x!}\\verb|min(0,|\\phantom{\\verb!x!}\\verb|x23|\\phantom{\\verb!x!}\\verb|+|\\phantom{\\verb!x!}\\verb|x32,|\\phantom{\\verb!x!}\\verb|x13|\\phantom{\\verb!x!}\\verb|+|\\phantom{\\verb!x!}\\verb|x31)|\\right]</script></html>"
      ],
      "text/plain": [
       "[' min(x13, x12 + x23)',\n",
       " ' min(x23, x13 + x21)',\n",
       " ' min(0, x23 + x32, x13 + x31)']"
      ]
     },
     "metadata": {},
     "output_type": "display_data"
    }
   ],
   "source": [
    "D_star = trop_mat_pwr(D,global_n-1)\n",
    "show(\"Here is the Kleene star of of the graph:\")\n",
    "for row in D_star:\n",
    "    show([\" min\"+str(tuple(el)) for el in row])"
   ]
  },
  {
   "cell_type": "markdown",
   "metadata": {},
   "source": [
    "Creating the regions of the Kleene fan"
   ]
  },
  {
   "cell_type": "code",
   "execution_count": 7,
   "metadata": {},
   "outputs": [],
   "source": [
    "def create_regions(kleene):\n",
    "    polyhedral_cplx = []\n",
    "    for row in kleene:\n",
    "        for liste in row:\n",
    "            F = []\n",
    "            for entry in liste:\n",
    "                others = copy(liste)\n",
    "                others.remove(entry)\n",
    "                R = Polyhedron(ieqs = [ symbols_to_vector(entry) - symbols_to_vector(other) for other in others ])\n",
    "                F.append(R)\n",
    "            polyhedral_cplx.append(F)\n",
    "    #nonneg = [ Polyhedron(ieqs = [[0]*(i+1)+[1]+[0]*(length - (i+1))])  for i in range(length) ]\n",
    "    return polyhedral_cplx"
   ]
  },
  {
   "cell_type": "markdown",
   "metadata": {},
   "source": [
    "Find the feasible, full dimensional regions:"
   ]
  },
  {
   "cell_type": "code",
   "execution_count": 8,
   "metadata": {},
   "outputs": [],
   "source": [
    "def regions_of_complex(polyhedral_complex):\n",
    "    r\"\"\"\n",
    "    Returns the feasible regions of the ``polyhedral_complex``.\n",
    "    Follows the method of regions in the hyperplane arrangements.\n",
    "    \n",
    "    INPUT: \n",
    "    \n",
    "    - ``polyhedral_complex`` -- list. A list of polyhedron objects\n",
    "    \n",
    "    OUTPUT:\n",
    "    \n",
    "    A tuple of regions.\n",
    "    \"\"\"\n",
    "    length = len(polyhedral_complex[0][0].vertices()[0])\n",
    "    R = polyhedral_complex[0][0].base_ring()\n",
    "    universe = Polyhedron(eqns = [[0] + [0]*length],base_ring = R)\n",
    "    regions = [universe]\n",
    "    for fan in polyhedral_complex:\n",
    "        subdivided = []\n",
    "        for region in regions:\n",
    "            for cone in fan:\n",
    "                part = region.intersection(cone)\n",
    "                if part.dim()==length:\n",
    "                    subdivided.append(part)\n",
    "        regions = subdivided\n",
    "    return tuple(regions)"
   ]
  },
  {
   "cell_type": "markdown",
   "metadata": {},
   "source": [
    "Test it on the fans"
   ]
  },
  {
   "cell_type": "code",
   "execution_count": 9,
   "metadata": {},
   "outputs": [
    {
     "data": {
      "text/plain": [
       "9"
      ]
     },
     "execution_count": 9,
     "metadata": {},
     "output_type": "execute_result"
    }
   ],
   "source": [
    "six_variables_complex = create_regions(D_star)\n",
    "len(six_variables_complex)"
   ]
  },
  {
   "cell_type": "code",
   "execution_count": 10,
   "metadata": {},
   "outputs": [],
   "source": [
    "regions = regions_of_complex(six_variables_complex)"
   ]
  },
  {
   "cell_type": "code",
   "execution_count": 11,
   "metadata": {
    "scrolled": true
   },
   "outputs": [
    {
     "data": {
      "text/plain": [
       "117"
      ]
     },
     "execution_count": 11,
     "metadata": {},
     "output_type": "execute_result"
    }
   ],
   "source": [
    "len(regions)"
   ]
  },
  {
   "cell_type": "markdown",
   "metadata": {},
   "source": [
    "Discard the infeasible regions"
   ]
  },
  {
   "cell_type": "code",
   "execution_count": 12,
   "metadata": {},
   "outputs": [],
   "source": [
    "def feasible_regions(initial_regions,D_star):\n",
    "    r\"\"\"\n",
    "    From the regions of a polyhedral complex, return the feasible regions.\n",
    "    \n",
    "    INPUT:\n",
    "    \n",
    "    -  ``initial_regions`` -- tuple of polyhedron objects. \n",
    "    \n",
    "    OUTPUT:\n",
    "    \n",
    "    tuple of polyhedron objects representiing the feasible regions.\n",
    "    \"\"\"\n",
    "\n",
    "    final_regions = list(initial_regions)\n",
    "    for region in initial_regions:\n",
    "        ass = region.inequalities_list()\n",
    "        removed = False\n",
    "        for index in range(len(D_star)):\n",
    "            for entry in D_star[index][index]:\n",
    "                if not entry==0 and not removed:\n",
    "                    q = Expression(coordinates=symbols_to_vector(entry), assumptions = ass)\n",
    "                    if q.is_valid_strict():\n",
    "                        continue\n",
    "                    else:\n",
    "                        final_regions.remove(region)\n",
    "                        removed = True\n",
    "    return final_regions"
   ]
  },
  {
   "cell_type": "code",
   "execution_count": 13,
   "metadata": {},
   "outputs": [],
   "source": [
    "feas_regs = feasible_regions(regions,D_star)"
   ]
  },
  {
   "cell_type": "code",
   "execution_count": 14,
   "metadata": {},
   "outputs": [
    {
     "data": {
      "text/plain": [
       "18"
      ]
     },
     "execution_count": 14,
     "metadata": {},
     "output_type": "execute_result"
    }
   ],
   "source": [
    "len(feas_regs)"
   ]
  },
  {
   "cell_type": "markdown",
   "metadata": {},
   "source": [
    "# Examine the regions"
   ]
  },
  {
   "cell_type": "code",
   "execution_count": 15,
   "metadata": {},
   "outputs": [
    {
     "data": {
      "text/html": [
       "<html><script type=\"math/tex; mode=display\">\\newcommand{\\Bold}[1]{\\mathbf{#1}}\\verb|The|\\phantom{\\verb!x!}\\verb|inequalities|\\phantom{\\verb!x!}\\verb|for|\\phantom{\\verb!x!}\\verb|the|\\phantom{\\verb!x!}\\verb|first|\\phantom{\\verb!x!}\\verb|region|\\phantom{\\verb!x!}\\verb|are|</script></html>"
      ],
      "text/plain": [
       "'The inequalities for the first region are'"
      ]
     },
     "metadata": {},
     "output_type": "display_data"
    },
    {
     "data": {
      "text/plain": [
       "[[0, -1, 1, 0, 0, 0, 1],\n",
       " [0, 0, -1, 0, 1, -1, 1],\n",
       " [0, 1, 0, 0, 0, 1, -1],\n",
       " [0, 0, 0, 1, -1, -1, 0]]"
      ]
     },
     "execution_count": 15,
     "metadata": {},
     "output_type": "execute_result"
    }
   ],
   "source": [
    "first_region= feas_regs[0]\n",
    "show(\"The inequalities for the first region are\")\n",
    "first_region.inequalities_list()"
   ]
  },
  {
   "cell_type": "code",
   "execution_count": 16,
   "metadata": {},
   "outputs": [
    {
     "data": {
      "text/html": [
       "<html><script type=\"math/tex; mode=display\">\\newcommand{\\Bold}[1]{\\mathbf{#1}}\\verb|Thus,|\\phantom{\\verb!x!}\\verb|the|\\phantom{\\verb!x!}\\verb|inequalities|\\phantom{\\verb!x!}\\verb|for|\\phantom{\\verb!x!}\\verb|the|\\phantom{\\verb!x!}\\verb|corresponding|\\phantom{\\verb!x!}\\verb|Kleene|\\phantom{\\verb!x!}\\verb|star|\\phantom{\\verb!x!}\\verb|are|</script></html>"
      ],
      "text/plain": [
       "'Thus, the inequalities for the corresponding Kleene star are'"
      ]
     },
     "metadata": {},
     "output_type": "display_data"
    },
    {
     "data": {
      "text/html": [
       "<html><script type=\"math/tex; mode=display\">\\newcommand{\\Bold}[1]{\\mathbf{#1}}-x_{12} + x_{13} + x_{32} > 0</script></html>"
      ],
      "text/plain": [
       "-x12 + x13 + x32 > 0"
      ]
     },
     "metadata": {},
     "output_type": "display_data"
    },
    {
     "data": {
      "text/html": [
       "<html><script type=\"math/tex; mode=display\">\\newcommand{\\Bold}[1]{\\mathbf{#1}}-x_{13} + x_{23} - x_{31} + x_{32} > 0</script></html>"
      ],
      "text/plain": [
       "-x13 + x23 - x31 + x32 > 0"
      ]
     },
     "metadata": {},
     "output_type": "display_data"
    },
    {
     "data": {
      "text/html": [
       "<html><script type=\"math/tex; mode=display\">\\newcommand{\\Bold}[1]{\\mathbf{#1}}x_{12} + x_{31} - x_{32} > 0</script></html>"
      ],
      "text/plain": [
       "x12 + x31 - x32 > 0"
      ]
     },
     "metadata": {},
     "output_type": "display_data"
    },
    {
     "data": {
      "text/html": [
       "<html><script type=\"math/tex; mode=display\">\\newcommand{\\Bold}[1]{\\mathbf{#1}}x_{21} - x_{23} - x_{31} > 0</script></html>"
      ],
      "text/plain": [
       "x21 - x23 - x31 > 0"
      ]
     },
     "metadata": {},
     "output_type": "display_data"
    }
   ],
   "source": [
    "show(\"Thus, the inequalities for the corresponding Kleene star are\")\n",
    "for ieq in first_region.inequalities():\n",
    "    show(Expression(assumptions = first_region.inequalities(), coordinates = ieq).as_symbols()>0)"
   ]
  },
  {
   "cell_type": "markdown",
   "metadata": {},
   "source": [
    "Computing the corresponding Kleene star:"
   ]
  },
  {
   "cell_type": "code",
   "execution_count": 17,
   "metadata": {},
   "outputs": [],
   "source": [
    "def minim(liste):\n",
    "    m = liste[0]\n",
    "    for el in liste[1:]:\n",
    "        m = minimum(m,el)\n",
    "    return m"
   ]
  },
  {
   "cell_type": "code",
   "execution_count": 18,
   "metadata": {},
   "outputs": [],
   "source": [
    "def kleene_star(region,D_star):\n",
    "    ass = region.inequalities_list()\n",
    "    K = [[minim(map(lambda x: Expression(assumptions = ass, coordinates = symbols_to_vector(x)), entry)).as_symbols() for entry in row] for row in D_star ]\n",
    "    return matrix(K)"
   ]
  },
  {
   "cell_type": "code",
   "execution_count": 19,
   "metadata": {
    "scrolled": false
   },
   "outputs": [
    {
     "data": {
      "text/html": [
       "<html><script type=\"math/tex; mode=display\">\\newcommand{\\Bold}[1]{\\mathbf{#1}}\\verb|The|\\phantom{\\verb!x!}\\verb|above|\\phantom{\\verb!x!}\\verb|inequalities|\\phantom{\\verb!x!}\\verb|imply|\\phantom{\\verb!x!}\\verb|the|\\phantom{\\verb!x!}\\verb|following|\\phantom{\\verb!x!}\\verb|Kleene|\\phantom{\\verb!x!}\\verb|star|</script></html>"
      ],
      "text/plain": [
       "'The above inequalities imply the following Kleene star'"
      ]
     },
     "metadata": {},
     "output_type": "display_data"
    },
    {
     "data": {
      "text/html": [
       "<html><script type=\"math/tex; mode=display\">\\newcommand{\\Bold}[1]{\\mathbf{#1}}\\left(\\begin{array}{rrr}\n",
       "0 & x_{23} + x_{31} & x_{31} \\\\\n",
       "x_{12} & 0 & x_{32} \\\\\n",
       "x_{13} & x_{23} & 0\n",
       "\\end{array}\\right)</script></html>"
      ],
      "text/plain": [
       "[        0 x23 + x31       x31]\n",
       "[      x12         0       x32]\n",
       "[      x13       x23         0]"
      ]
     },
     "metadata": {},
     "output_type": "display_data"
    }
   ],
   "source": [
    "show(\"The above inequalities imply the following Kleene star\")\n",
    "show(kleene_star(first_region,D_star))"
   ]
  },
  {
   "cell_type": "markdown",
   "metadata": {},
   "source": [
    "# Compute Polytropes"
   ]
  },
  {
   "cell_type": "code",
   "execution_count": 20,
   "metadata": {},
   "outputs": [],
   "source": [
    "def tropical_vertices_from_region(region, D_star):\n",
    "    r\"\"\"\n",
    "    Return the symbolic tropical vertices corresponding to \n",
    "    a certain region. \n",
    "    \n",
    "    INPUT:\n",
    "    \n",
    "    - ``region`` -- a polyhedron object. \n",
    "    \n",
    "    OUTPUT:\n",
    "    \n",
    "    A list of the tropical vertices (already in the plane). \n",
    "    \"\"\"\n",
    "\n",
    "    Kleene = kleene_star(region,D_star)\n",
    "    L = list()\n",
    "    for i in range(len(Kleene.rows())):\n",
    "        new_row = list()\n",
    "        j = Kleene.row(i)[0]\n",
    "        for k in range(1,len(Kleene.row(i))):\n",
    "            new_row.append(Kleene.row(i)[k] - j)\n",
    "        L.append(new_row)\n",
    "    return L"
   ]
  },
  {
   "cell_type": "code",
   "execution_count": 21,
   "metadata": {},
   "outputs": [
    {
     "data": {
      "text/html": [
       "<html><script type=\"math/tex; mode=display\">\\newcommand{\\Bold}[1]{\\mathbf{#1}}\\verb|This|\\phantom{\\verb!x!}\\verb|Kleene|\\phantom{\\verb!x!}\\verb|star|\\phantom{\\verb!x!}\\verb|corresponds|\\phantom{\\verb!x!}\\verb|to|\\phantom{\\verb!x!}\\verb|a|\\phantom{\\verb!x!}\\verb|polytrope|\\phantom{\\verb!x!}\\verb|with|\\phantom{\\verb!x!}\\verb|tropical|\\phantom{\\verb!x!}\\verb|vertices|</script></html>"
      ],
      "text/plain": [
       "'This Kleene star corresponds to a polytrope with tropical vertices'"
      ]
     },
     "metadata": {},
     "output_type": "display_data"
    },
    {
     "data": {
      "text/html": [
       "<html><script type=\"math/tex; mode=display\">\\newcommand{\\Bold}[1]{\\mathbf{#1}}\\left(\\begin{array}{rrr}\n",
       "x_{23} + x_{31} & -x_{12} & -x_{13} + x_{23} \\\\\n",
       "x_{31} & -x_{12} + x_{32} & -x_{13}\n",
       "\\end{array}\\right)</script></html>"
      ],
      "text/plain": [
       "[ x23 + x31       -x12 -x13 + x23]\n",
       "[       x31 -x12 + x32       -x13]"
      ]
     },
     "metadata": {},
     "output_type": "display_data"
    }
   ],
   "source": [
    "verts = tropical_vertices_from_region(first_region,D_star)\n",
    "show(\"This Kleene star corresponds to a polytrope with tropical vertices\")\n",
    "show(matrix(verts).transpose())"
   ]
  },
  {
   "cell_type": "markdown",
   "metadata": {},
   "source": [
    "Given the tropical vertices and the respective set of inequalities, we can now define our polytrope."
   ]
  },
  {
   "cell_type": "code",
   "execution_count": 22,
   "metadata": {},
   "outputs": [],
   "source": [
    "ass = first_region.inequalities_list()\n",
    "poly = polytron(assumptions = ass, vertices = verts)"
   ]
  },
  {
   "cell_type": "code",
   "execution_count": 23,
   "metadata": {},
   "outputs": [
    {
     "data": {
      "text/plain": [
       "[[x23 + x31, x31], [-x12, -x12 + x32], [-x13 + x23, -x13]]"
      ]
     },
     "execution_count": 23,
     "metadata": {},
     "output_type": "execute_result"
    }
   ],
   "source": [
    "poly.vertices"
   ]
  },
  {
   "cell_type": "code",
   "execution_count": 24,
   "metadata": {},
   "outputs": [
    {
     "data": {
      "text/plain": [
       "[[x23 + x31, x31],\n",
       " [-x12, -x12 + x32],\n",
       " [-x13 + x23, -x13],\n",
       " [x31 - x32, x31],\n",
       " [-x12, -x13]]"
      ]
     },
     "execution_count": 24,
     "metadata": {},
     "output_type": "execute_result"
    }
   ],
   "source": [
    "poly.pseudovertices"
   ]
  },
  {
   "cell_type": "markdown",
   "metadata": {},
   "source": [
    "# Do it for all regions."
   ]
  },
  {
   "cell_type": "markdown",
   "metadata": {},
   "source": [
    "In our output, we have a lot of redundancy. Even more, all hexagons have the same Kleene star!"
   ]
  },
  {
   "cell_type": "code",
   "execution_count": 25,
   "metadata": {},
   "outputs": [
    {
     "name": "stdout",
     "output_type": "stream",
     "text": [
      "number of pseudovertices: 5\n",
      "Kleene star: \n"
     ]
    },
    {
     "data": {
      "text/html": [
       "<html><script type=\"math/tex; mode=display\">\\newcommand{\\Bold}[1]{\\mathbf{#1}}\\left(\\begin{array}{rrr}\n",
       "0 & x_{23} + x_{31} & x_{31} \\\\\n",
       "x_{12} & 0 & x_{32} \\\\\n",
       "x_{13} & x_{23} & 0\n",
       "\\end{array}\\right)</script></html>"
      ],
      "text/plain": [
       "[        0 x23 + x31       x31]\n",
       "[      x12         0       x32]\n",
       "[      x13       x23         0]"
      ]
     },
     "metadata": {},
     "output_type": "display_data"
    },
    {
     "name": "stdout",
     "output_type": "stream",
     "text": [
      "number of pseudovertices: 5\n",
      "Kleene star: \n"
     ]
    },
    {
     "data": {
      "text/html": [
       "<html><script type=\"math/tex; mode=display\">\\newcommand{\\Bold}[1]{\\mathbf{#1}}\\left(\\begin{array}{rrr}\n",
       "0 & x_{23} + x_{31} & x_{31} \\\\\n",
       "x_{12} & 0 & x_{32} \\\\\n",
       "x_{13} & x_{23} & 0\n",
       "\\end{array}\\right)</script></html>"
      ],
      "text/plain": [
       "[        0 x23 + x31       x31]\n",
       "[      x12         0       x32]\n",
       "[      x13       x23         0]"
      ]
     },
     "metadata": {},
     "output_type": "display_data"
    },
    {
     "name": "stdout",
     "output_type": "stream",
     "text": [
      "number of pseudovertices: 6\n",
      "Kleene star: \n"
     ]
    },
    {
     "data": {
      "text/html": [
       "<html><script type=\"math/tex; mode=display\">\\newcommand{\\Bold}[1]{\\mathbf{#1}}\\left(\\begin{array}{rrr}\n",
       "0 & x_{21} & x_{31} \\\\\n",
       "x_{12} & 0 & x_{32} \\\\\n",
       "x_{13} & x_{23} & 0\n",
       "\\end{array}\\right)</script></html>"
      ],
      "text/plain": [
       "[  0 x21 x31]\n",
       "[x12   0 x32]\n",
       "[x13 x23   0]"
      ]
     },
     "metadata": {},
     "output_type": "display_data"
    },
    {
     "name": "stdout",
     "output_type": "stream",
     "text": [
      "number of pseudovertices: 6\n",
      "Kleene star: \n"
     ]
    },
    {
     "data": {
      "text/html": [
       "<html><script type=\"math/tex; mode=display\">\\newcommand{\\Bold}[1]{\\mathbf{#1}}\\left(\\begin{array}{rrr}\n",
       "0 & x_{21} & x_{31} \\\\\n",
       "x_{12} & 0 & x_{32} \\\\\n",
       "x_{13} & x_{23} & 0\n",
       "\\end{array}\\right)</script></html>"
      ],
      "text/plain": [
       "[  0 x21 x31]\n",
       "[x12   0 x32]\n",
       "[x13 x23   0]"
      ]
     },
     "metadata": {},
     "output_type": "display_data"
    },
    {
     "name": "stdout",
     "output_type": "stream",
     "text": [
      "number of pseudovertices: 5\n",
      "Kleene star: \n"
     ]
    },
    {
     "data": {
      "text/html": [
       "<html><script type=\"math/tex; mode=display\">\\newcommand{\\Bold}[1]{\\mathbf{#1}}\\left(\\begin{array}{rrr}\n",
       "0 & x_{21} & x_{31} \\\\\n",
       "x_{12} & 0 & x_{32} \\\\\n",
       "x_{13} & x_{13} + x_{21} & 0\n",
       "\\end{array}\\right)</script></html>"
      ],
      "text/plain": [
       "[        0       x21       x31]\n",
       "[      x12         0       x32]\n",
       "[      x13 x13 + x21         0]"
      ]
     },
     "metadata": {},
     "output_type": "display_data"
    },
    {
     "name": "stdout",
     "output_type": "stream",
     "text": [
      "number of pseudovertices: 6\n",
      "Kleene star: \n"
     ]
    },
    {
     "data": {
      "text/html": [
       "<html><script type=\"math/tex; mode=display\">\\newcommand{\\Bold}[1]{\\mathbf{#1}}\\left(\\begin{array}{rrr}\n",
       "0 & x_{21} & x_{31} \\\\\n",
       "x_{12} & 0 & x_{32} \\\\\n",
       "x_{13} & x_{23} & 0\n",
       "\\end{array}\\right)</script></html>"
      ],
      "text/plain": [
       "[  0 x21 x31]\n",
       "[x12   0 x32]\n",
       "[x13 x23   0]"
      ]
     },
     "metadata": {},
     "output_type": "display_data"
    },
    {
     "name": "stdout",
     "output_type": "stream",
     "text": [
      "number of pseudovertices: 5\n",
      "Kleene star: \n"
     ]
    },
    {
     "data": {
      "text/html": [
       "<html><script type=\"math/tex; mode=display\">\\newcommand{\\Bold}[1]{\\mathbf{#1}}\\left(\\begin{array}{rrr}\n",
       "0 & x_{21} & x_{31} \\\\\n",
       "x_{12} & 0 & x_{12} + x_{31} \\\\\n",
       "x_{13} & x_{23} & 0\n",
       "\\end{array}\\right)</script></html>"
      ],
      "text/plain": [
       "[        0       x21       x31]\n",
       "[      x12         0 x12 + x31]\n",
       "[      x13       x23         0]"
      ]
     },
     "metadata": {},
     "output_type": "display_data"
    },
    {
     "name": "stdout",
     "output_type": "stream",
     "text": [
      "number of pseudovertices: 5\n",
      "Kleene star: \n"
     ]
    },
    {
     "data": {
      "text/html": [
       "<html><script type=\"math/tex; mode=display\">\\newcommand{\\Bold}[1]{\\mathbf{#1}}\\left(\\begin{array}{rrr}\n",
       "0 & x_{21} & x_{31} \\\\\n",
       "x_{13} + x_{32} & 0 & x_{32} \\\\\n",
       "x_{13} & x_{23} & 0\n",
       "\\end{array}\\right)</script></html>"
      ],
      "text/plain": [
       "[        0       x21       x31]\n",
       "[x13 + x32         0       x32]\n",
       "[      x13       x23         0]"
      ]
     },
     "metadata": {},
     "output_type": "display_data"
    },
    {
     "name": "stdout",
     "output_type": "stream",
     "text": [
      "number of pseudovertices: 5\n",
      "Kleene star: \n"
     ]
    },
    {
     "data": {
      "text/html": [
       "<html><script type=\"math/tex; mode=display\">\\newcommand{\\Bold}[1]{\\mathbf{#1}}\\left(\\begin{array}{rrr}\n",
       "0 & x_{21} & x_{31} \\\\\n",
       "x_{13} + x_{32} & 0 & x_{32} \\\\\n",
       "x_{13} & x_{23} & 0\n",
       "\\end{array}\\right)</script></html>"
      ],
      "text/plain": [
       "[        0       x21       x31]\n",
       "[x13 + x32         0       x32]\n",
       "[      x13       x23         0]"
      ]
     },
     "metadata": {},
     "output_type": "display_data"
    },
    {
     "name": "stdout",
     "output_type": "stream",
     "text": [
      "number of pseudovertices: 5\n",
      "Kleene star: \n"
     ]
    },
    {
     "data": {
      "text/html": [
       "<html><script type=\"math/tex; mode=display\">\\newcommand{\\Bold}[1]{\\mathbf{#1}}\\left(\\begin{array}{rrr}\n",
       "0 & x_{21} & x_{21} + x_{32} \\\\\n",
       "x_{12} & 0 & x_{32} \\\\\n",
       "x_{13} & x_{23} & 0\n",
       "\\end{array}\\right)</script></html>"
      ],
      "text/plain": [
       "[        0       x21 x21 + x32]\n",
       "[      x12         0       x32]\n",
       "[      x13       x23         0]"
      ]
     },
     "metadata": {},
     "output_type": "display_data"
    },
    {
     "name": "stdout",
     "output_type": "stream",
     "text": [
      "number of pseudovertices: 5\n",
      "Kleene star: \n"
     ]
    },
    {
     "data": {
      "text/html": [
       "<html><script type=\"math/tex; mode=display\">\\newcommand{\\Bold}[1]{\\mathbf{#1}}\\left(\\begin{array}{rrr}\n",
       "0 & x_{21} & x_{21} + x_{32} \\\\\n",
       "x_{12} & 0 & x_{32} \\\\\n",
       "x_{13} & x_{23} & 0\n",
       "\\end{array}\\right)</script></html>"
      ],
      "text/plain": [
       "[        0       x21 x21 + x32]\n",
       "[      x12         0       x32]\n",
       "[      x13       x23         0]"
      ]
     },
     "metadata": {},
     "output_type": "display_data"
    },
    {
     "name": "stdout",
     "output_type": "stream",
     "text": [
      "number of pseudovertices: 5\n",
      "Kleene star: \n"
     ]
    },
    {
     "data": {
      "text/html": [
       "<html><script type=\"math/tex; mode=display\">\\newcommand{\\Bold}[1]{\\mathbf{#1}}\\left(\\begin{array}{rrr}\n",
       "0 & x_{21} & x_{31} \\\\\n",
       "x_{12} & 0 & x_{32} \\\\\n",
       "x_{12} + x_{23} & x_{23} & 0\n",
       "\\end{array}\\right)</script></html>"
      ],
      "text/plain": [
       "[        0       x21       x31]\n",
       "[      x12         0       x32]\n",
       "[x12 + x23       x23         0]"
      ]
     },
     "metadata": {},
     "output_type": "display_data"
    },
    {
     "name": "stdout",
     "output_type": "stream",
     "text": [
      "number of pseudovertices: 6\n",
      "Kleene star: \n"
     ]
    },
    {
     "data": {
      "text/html": [
       "<html><script type=\"math/tex; mode=display\">\\newcommand{\\Bold}[1]{\\mathbf{#1}}\\left(\\begin{array}{rrr}\n",
       "0 & x_{21} & x_{31} \\\\\n",
       "x_{12} & 0 & x_{32} \\\\\n",
       "x_{13} & x_{23} & 0\n",
       "\\end{array}\\right)</script></html>"
      ],
      "text/plain": [
       "[  0 x21 x31]\n",
       "[x12   0 x32]\n",
       "[x13 x23   0]"
      ]
     },
     "metadata": {},
     "output_type": "display_data"
    },
    {
     "name": "stdout",
     "output_type": "stream",
     "text": [
      "number of pseudovertices: 5\n",
      "Kleene star: \n"
     ]
    },
    {
     "data": {
      "text/html": [
       "<html><script type=\"math/tex; mode=display\">\\newcommand{\\Bold}[1]{\\mathbf{#1}}\\left(\\begin{array}{rrr}\n",
       "0 & x_{21} & x_{31} \\\\\n",
       "x_{12} & 0 & x_{32} \\\\\n",
       "x_{12} + x_{23} & x_{23} & 0\n",
       "\\end{array}\\right)</script></html>"
      ],
      "text/plain": [
       "[        0       x21       x31]\n",
       "[      x12         0       x32]\n",
       "[x12 + x23       x23         0]"
      ]
     },
     "metadata": {},
     "output_type": "display_data"
    },
    {
     "name": "stdout",
     "output_type": "stream",
     "text": [
      "number of pseudovertices: 5\n",
      "Kleene star: \n"
     ]
    },
    {
     "data": {
      "text/html": [
       "<html><script type=\"math/tex; mode=display\">\\newcommand{\\Bold}[1]{\\mathbf{#1}}\\left(\\begin{array}{rrr}\n",
       "0 & x_{21} & x_{31} \\\\\n",
       "x_{12} & 0 & x_{32} \\\\\n",
       "x_{13} & x_{13} + x_{21} & 0\n",
       "\\end{array}\\right)</script></html>"
      ],
      "text/plain": [
       "[        0       x21       x31]\n",
       "[      x12         0       x32]\n",
       "[      x13 x13 + x21         0]"
      ]
     },
     "metadata": {},
     "output_type": "display_data"
    },
    {
     "name": "stdout",
     "output_type": "stream",
     "text": [
      "number of pseudovertices: 6\n",
      "Kleene star: \n"
     ]
    },
    {
     "data": {
      "text/html": [
       "<html><script type=\"math/tex; mode=display\">\\newcommand{\\Bold}[1]{\\mathbf{#1}}\\left(\\begin{array}{rrr}\n",
       "0 & x_{21} & x_{31} \\\\\n",
       "x_{12} & 0 & x_{32} \\\\\n",
       "x_{13} & x_{23} & 0\n",
       "\\end{array}\\right)</script></html>"
      ],
      "text/plain": [
       "[  0 x21 x31]\n",
       "[x12   0 x32]\n",
       "[x13 x23   0]"
      ]
     },
     "metadata": {},
     "output_type": "display_data"
    },
    {
     "name": "stdout",
     "output_type": "stream",
     "text": [
      "number of pseudovertices: 6\n",
      "Kleene star: \n"
     ]
    },
    {
     "data": {
      "text/html": [
       "<html><script type=\"math/tex; mode=display\">\\newcommand{\\Bold}[1]{\\mathbf{#1}}\\left(\\begin{array}{rrr}\n",
       "0 & x_{21} & x_{31} \\\\\n",
       "x_{12} & 0 & x_{32} \\\\\n",
       "x_{13} & x_{23} & 0\n",
       "\\end{array}\\right)</script></html>"
      ],
      "text/plain": [
       "[  0 x21 x31]\n",
       "[x12   0 x32]\n",
       "[x13 x23   0]"
      ]
     },
     "metadata": {},
     "output_type": "display_data"
    },
    {
     "name": "stdout",
     "output_type": "stream",
     "text": [
      "number of pseudovertices: 5\n",
      "Kleene star: \n"
     ]
    },
    {
     "data": {
      "text/html": [
       "<html><script type=\"math/tex; mode=display\">\\newcommand{\\Bold}[1]{\\mathbf{#1}}\\left(\\begin{array}{rrr}\n",
       "0 & x_{21} & x_{31} \\\\\n",
       "x_{12} & 0 & x_{12} + x_{31} \\\\\n",
       "x_{13} & x_{23} & 0\n",
       "\\end{array}\\right)</script></html>"
      ],
      "text/plain": [
       "[        0       x21       x31]\n",
       "[      x12         0 x12 + x31]\n",
       "[      x13       x23         0]"
      ]
     },
     "metadata": {},
     "output_type": "display_data"
    }
   ],
   "source": [
    "for region in feas_regs:\n",
    "    verts = tropical_vertices_from_region(region,D_star)\n",
    "    ass = region.inequalities_list()\n",
    "    poly = polytron(ass, verts)\n",
    "    pseudo = poly.pseudovertices\n",
    "    kleene = kleene_star(region,D_star) \n",
    "    print(\"number of pseudovertices: \"+str(len(pseudo)))\n",
    "    print(\"Kleene star: \")\n",
    "    show(kleene)"
   ]
  },
  {
   "cell_type": "markdown",
   "metadata": {},
   "source": [
    "# Group the regions by symmetry"
   ]
  },
  {
   "cell_type": "markdown",
   "metadata": {},
   "source": [
    "We now group the regions according to their orbit under the action of $S_n$"
   ]
  },
  {
   "cell_type": "code",
   "execution_count": 26,
   "metadata": {},
   "outputs": [
    {
     "name": "stdout",
     "output_type": "stream",
     "text": [
      "True\n"
     ]
    }
   ],
   "source": [
    "def mat_eq(m1,m2,perm):\n",
    "    #returns whether matrices m1, m2 are the same under permutation of indices    \n",
    "    indices = [(i,j) for i in range(global_n) for j in range(global_n)]\n",
    "    for i,j in indices:\n",
    "        if not m1[i][j] == m2[perm[i]][perm[j]]:\n",
    "            return false\n",
    "    return true\n",
    "\n",
    "\n",
    "print mat_eq([[0, 12, 13], [21, 0, 23], [31, 32, 0]], [[0, 21, 23], [12, 0, 13], [32, 31, 0]], [1,0,2])"
   ]
  },
  {
   "cell_type": "code",
   "execution_count": 27,
   "metadata": {},
   "outputs": [],
   "source": [
    "def vec_to_mat(vec):\n",
    "    #converts vector of length n^2-n into nxn-matrix with zeros on the diagonal\n",
    "    mat = []\n",
    "    vec = vec[1:]\n",
    "    for k in range(global_n):\n",
    "        row = [el for el in vec[k*(global_n-1) : (k+1)*(global_n-1)]]\n",
    "        row.insert(k,0)\n",
    "        mat.append(row)\n",
    "    return mat"
   ]
  },
  {
   "cell_type": "code",
   "execution_count": 28,
   "metadata": {},
   "outputs": [
    {
     "data": {
      "text/plain": [
       "True"
      ]
     },
     "execution_count": 28,
     "metadata": {},
     "output_type": "execute_result"
    }
   ],
   "source": [
    "def list_of_mat_eq(l1, l2, perm):\n",
    "    #returns whether 2 sets of matrices are the same under permutation of indices\n",
    "    if not len(l1)==len(l2):\n",
    "        return false\n",
    "    \n",
    "    for p in Permutations(range(len(l1))):\n",
    "        hope = True\n",
    "        for i in range(len(l1)):\n",
    "            if not mat_eq(l1[i],l2[p[i]],perm):\n",
    "                hope = False\n",
    "                break\n",
    "        if hope:\n",
    "            return true\n",
    "    return false\n",
    "\n",
    "l1 = [[0, -1, 1, 0, 0, 0, 1], [0, 0, 0, -1, 1, 1, 0], [0, 0, 1, 0, -1, 1, -1], [0, 1, -1, 1, 0, -1, 0]]\n",
    "l2 = [[0, -1, 1, 0, 0, 0, 1], [0, 0, -1, 0, 1, -1, 1], [0, 0, 0, -1, 1, 1, 0], [0, 1, 0, 1, -1, 0, -1]]\n",
    "list_of_mat_eq([vec_to_mat(el) for el in l1],[vec_to_mat(el) for el in l2],[1,0,2])"
   ]
  },
  {
   "cell_type": "code",
   "execution_count": 29,
   "metadata": {},
   "outputs": [
    {
     "data": {
      "text/plain": [
       "False"
      ]
     },
     "execution_count": 29,
     "metadata": {},
     "output_type": "execute_result"
    }
   ],
   "source": [
    "def regions_eq(P1,P2):\n",
    "    #returns whether two regions are the same under permutation of indices\n",
    "    ieqs1 = [vec_to_mat(vec) for vec in P1.inequalities_list()]\n",
    "    ieqs2 = [vec_to_mat(vec) for vec in P2.inequalities_list()]\n",
    "    \n",
    "    if not len(P1.inequalities_list())==len(P2.inequalities_list()):\n",
    "        return false\n",
    "    \n",
    "    for p in Permutations(range(global_n)): #permutation of indices\n",
    "        if list_of_mat_eq(ieqs1, ieqs2, p):\n",
    "            return true\n",
    "    return false\n",
    "\n",
    "regions_eq(feas_regs[12],feas_regs[13])"
   ]
  },
  {
   "cell_type": "code",
   "execution_count": 30,
   "metadata": {},
   "outputs": [],
   "source": [
    "def group_by_symmetry(feas_regs):\n",
    "    groups = [[feas_regs[0]]]\n",
    "    for region in feas_regs[1:]:\n",
    "        new_group = True\n",
    "        for group in groups:\n",
    "            if regions_eq(region,group[0]):\n",
    "                group.append(region)\n",
    "                new_group = False\n",
    "                break\n",
    "        if new_group:\n",
    "            groups.append([region])\n",
    "    return groups"
   ]
  },
  {
   "cell_type": "code",
   "execution_count": 31,
   "metadata": {},
   "outputs": [
    {
     "data": {
      "text/plain": [
       "3"
      ]
     },
     "execution_count": 31,
     "metadata": {},
     "output_type": "execute_result"
    }
   ],
   "source": [
    "representatives = [group[0] for group in group_by_symmetry(feas_regs)]\n",
    "len(representatives)"
   ]
  },
  {
   "cell_type": "markdown",
   "metadata": {},
   "source": [
    "# Let's look at the remaining regions again"
   ]
  },
  {
   "cell_type": "code",
   "execution_count": 32,
   "metadata": {},
   "outputs": [
    {
     "name": "stdout",
     "output_type": "stream",
     "text": [
      "number of pseudovertices: 5\n",
      "Kleene star: \n"
     ]
    },
    {
     "data": {
      "text/html": [
       "<html><script type=\"math/tex; mode=display\">\\newcommand{\\Bold}[1]{\\mathbf{#1}}\\left(\\begin{array}{rrr}\n",
       "0 & x_{23} + x_{31} & x_{31} \\\\\n",
       "x_{12} & 0 & x_{32} \\\\\n",
       "x_{13} & x_{23} & 0\n",
       "\\end{array}\\right)</script></html>"
      ],
      "text/plain": [
       "[        0 x23 + x31       x31]\n",
       "[      x12         0       x32]\n",
       "[      x13       x23         0]"
      ]
     },
     "metadata": {},
     "output_type": "display_data"
    },
    {
     "name": "stdout",
     "output_type": "stream",
     "text": [
      "number of pseudovertices: 5\n",
      "Kleene star: \n"
     ]
    },
    {
     "data": {
      "text/html": [
       "<html><script type=\"math/tex; mode=display\">\\newcommand{\\Bold}[1]{\\mathbf{#1}}\\left(\\begin{array}{rrr}\n",
       "0 & x_{23} + x_{31} & x_{31} \\\\\n",
       "x_{12} & 0 & x_{32} \\\\\n",
       "x_{13} & x_{23} & 0\n",
       "\\end{array}\\right)</script></html>"
      ],
      "text/plain": [
       "[        0 x23 + x31       x31]\n",
       "[      x12         0       x32]\n",
       "[      x13       x23         0]"
      ]
     },
     "metadata": {},
     "output_type": "display_data"
    },
    {
     "name": "stdout",
     "output_type": "stream",
     "text": [
      "number of pseudovertices: 6\n",
      "Kleene star: \n"
     ]
    },
    {
     "data": {
      "text/html": [
       "<html><script type=\"math/tex; mode=display\">\\newcommand{\\Bold}[1]{\\mathbf{#1}}\\left(\\begin{array}{rrr}\n",
       "0 & x_{21} & x_{31} \\\\\n",
       "x_{12} & 0 & x_{32} \\\\\n",
       "x_{13} & x_{23} & 0\n",
       "\\end{array}\\right)</script></html>"
      ],
      "text/plain": [
       "[  0 x21 x31]\n",
       "[x12   0 x32]\n",
       "[x13 x23   0]"
      ]
     },
     "metadata": {},
     "output_type": "display_data"
    }
   ],
   "source": [
    "for region in representatives:\n",
    "    verts = tropical_vertices_from_region(region,D_star)\n",
    "    ass = region.inequalities_list()\n",
    "    poly = polytron(ass, verts)\n",
    "    pseudo = poly.pseudovertices\n",
    "    kleene = kleene_star(region,D_star) \n",
    "    print(\"number of pseudovertices: \"+str(len(pseudo)))\n",
    "    print(\"Kleene star: \")\n",
    "    show(kleene)"
   ]
  },
  {
   "cell_type": "markdown",
   "metadata": {},
   "source": [
    "# Generating function and Ehrhart Polynomial"
   ]
  },
  {
   "cell_type": "markdown",
   "metadata": {},
   "source": [
    "We compute the generating function using Brion's Theorem"
   ]
  },
  {
   "cell_type": "code",
   "execution_count": 33,
   "metadata": {},
   "outputs": [],
   "source": [
    "def gen_fct(polytron):\n",
    "    return sum([tangent_cone(polytron,vertex_index) for vertex_index in range(len(polytron.pseudovertices))])"
   ]
  },
  {
   "cell_type": "code",
   "execution_count": 34,
   "metadata": {},
   "outputs": [
    {
     "data": {
      "text/plain": [
       "-(t1^(n*x12 + n*x13 + n*x21 + n*x32 + 2)*t2^(n*x12 + n*x13 + n*x21 + 1) - t1^(n*x12 + n*x13 + n*x21 + n*x32 + 1)*t2^(n*x12 + n*x13 + n*x21 + 1) - t1^(n*x12 + n*x13 + n*x21 + n*x32 + 2)*t2^(n*x12 + n*x13 + n*x23 + n*x31 + 2) + t1^(n*x12 + n*x13 + n*x31 + 1)*t2^(n*x12 + n*x13 + n*x23 + n*x31 + 2) + t1^(n*x12 + n*x13 + n*x21 + n*x32 + 1)*t2^(n*x12 + n*x13 + n*x23 + n*x31 + 1) - t1^(n*x12 + n*x13 + n*x31 + 1)*t2^(n*x12 + n*x13 + n*x23 + n*x31 + 1) + t1^(n*x12 + n*x23 + n*x32 + 1)*t2^(n*x12 + n*x23 + 1) - t1^(n*x13 + n*x32 + 1)*t2^(n*x12 + n*x23 + 1) - t1^(n*x12 + n*x23 + n*x32 + 1)*t2^(n*x12 + n*x23) + t1^(n*x13 + n*x32)*t2^(n*x12 + n*x23) + t1^(n*x13 + n*x32 + 1)*t2^(n*x13 + n*x23 + n*x32 + 1) - t1^(n*x13 + n*x32)*t2^(n*x13 + n*x23 + n*x32 + 1))*t1^(-n*x12 - n*x13 - n*x32)*t2^(-n*x12 - n*x13 - n*x23)/((t1*t2 - 1)*(t1 - 1)*(t2 - 1))"
      ]
     },
     "execution_count": 34,
     "metadata": {},
     "output_type": "execute_result"
    }
   ],
   "source": [
    "generating_f = gen_fct(poly).factor()\n",
    "generating_f"
   ]
  },
  {
   "cell_type": "markdown",
   "metadata": {},
   "source": [
    "We can get the Ehrhart Pplynomial by evaluating the generating function at $(1,\\dots,1)$. But since this would mean division by zero in this case, we first have to replace all variables by $(1-t)$ apply l'hopital."
   ]
  },
  {
   "cell_type": "code",
   "execution_count": 35,
   "metadata": {},
   "outputs": [],
   "source": [
    "def lhopital(generating_f):\n",
    "    #substitute all variables by (1-t)\n",
    "    t = var('t')\n",
    "    for j in range(1,3):\n",
    "         generating_f = generating_f.subs({var('t'+str(j)):1-t})\n",
    "        #generating_f = generating_f.subs({var('t'+str(j)):1-j*t})\n",
    "    \n",
    "    #l'hopital\n",
    "    p = generating_f.numerator()\n",
    "    q = generating_f.denominator()\n",
    "    alpha = 0\n",
    "    p_deriv= p\n",
    "    q_deriv = q\n",
    "    while true:\n",
    "        p_deriv = p_deriv.derivative(t)\n",
    "        q_deriv = q_deriv.derivative(t)\n",
    "        alpha += 1\n",
    "        if not (p_deriv(t=0)==0 or q_deriv(t=0)==0):\n",
    "            break\n",
    "    return p_deriv(t=0)/q_deriv(t=0)"
   ]
  },
  {
   "cell_type": "code",
   "execution_count": 36,
   "metadata": {},
   "outputs": [
    {
     "data": {
      "text/plain": [
       "-1/2*n^2*x12^2 - 1/2*n^2*x13^2 - 1/2*n^2*x21^2 - 1/2*n^2*x23^2 - 1/2*n^2*x31^2 - 1/2*n^2*x32^2 + 1/2*n*x12 + 1/2*(2*n^2*x12 + n)*x13 + 1/2*n*x21 + 1/2*(2*n^2*x13 + 2*n^2*x21 + n)*x23 + 1/2*(2*n^2*x21 + n)*x31 + 1/2*(2*n^2*x12 + 2*n^2*x31 + n)*x32 + 1"
      ]
     },
     "execution_count": 36,
     "metadata": {},
     "output_type": "execute_result"
    }
   ],
   "source": [
    "ehrhart = lhopital(generating_f).simplify_full()\n",
    "ehrhart"
   ]
  },
  {
   "cell_type": "markdown",
   "metadata": {},
   "source": [
    "# Do it for all regions once more"
   ]
  },
  {
   "cell_type": "markdown",
   "metadata": {},
   "source": [
    "Computing the generating function for all feasible regions"
   ]
  },
  {
   "cell_type": "code",
   "execution_count": 37,
   "metadata": {},
   "outputs": [],
   "source": [
    "generating_fcts = {}\n",
    "count = -1\n",
    "for region in representatives:\n",
    "    verts = tropical_vertices_from_region(region,D_star)\n",
    "    ass = region.inequalities_list()\n",
    "    poly = polytron(ass, verts)\n",
    "    pseudo = poly.pseudovertices\n",
    "    count += 1\n",
    "    try:\n",
    "        generating_f = gen_fct(poly).factor()\n",
    "        generating_fcts[generating_f] = ass\n",
    "    except:\n",
    "        print 'impossible to compute generating function for region '+str(count)\n",
    "        continue"
   ]
  },
  {
   "cell_type": "code",
   "execution_count": 38,
   "metadata": {},
   "outputs": [],
   "source": [
    "multivariate_ehrhart = {}\n",
    "for generating_f, ieqs in generating_fcts.items():\n",
    "    ehr = lhopital(generating_f).simplify_full()\n",
    "    multivariate_ehrhart[ehr] = ieqs"
   ]
  },
  {
   "cell_type": "code",
   "execution_count": 39,
   "metadata": {},
   "outputs": [
    {
     "name": "stdout",
     "output_type": "stream",
     "text": [
      "-1/2*n^2*x12^2 - 1/2*n^2*x13^2 - 1/2*n^2*x21^2 - 1/2*n^2*x23^2 - 1/2*n^2*x31^2 - 1/2*n^2*x32^2 + 1/2*n*x12 + 1/2*(2*n^2*x12 + n)*x13 + 1/2*n*x21 + 1/2*(2*n^2*x13 + 2*n^2*x21 + n)*x23 + 1/2*(2*n^2*x21 + n)*x31 + 1/2*(2*n^2*x12 + 2*n^2*x31 + n)*x32 + 1\n",
      "   if -x12 + x13 + x32 > 0, -x13 + x23 - x31 + x32 > 0, -x21 + x23 + x31 > 0, x12 + x21 - x23 - x32 > 0\n",
      "\n",
      "-1/2*n^2*x12^2 - 1/2*n^2*x13^2 - 1/2*n^2*x32^2 + 1/2*n*x12 + 1/2*(2*n^2*x12 + n)*x13 + (n^2*x13 + n)*x23 + (n^2*x23 + n)*x31 + 1/2*(2*n^2*x12 + 2*n^2*x31 + n)*x32 + 1\n",
      "   if -x12 + x13 + x32 > 0, x21 - x23 - x31 > 0, x13 - x23 + x31 - x32 > 0, x12 - x13 + x23 > 0\n",
      "\n"
     ]
    }
   ],
   "source": [
    "for ehr, ieqs in multivariate_ehrhart.items():\n",
    "    print ehr\n",
    "    conditions = [vector_to_symbols(ieq)>0 for ieq in ieqs]\n",
    "    print \"   if \"+str(conditions).strip('[]')\n",
    "    print \"\""
   ]
  },
  {
   "cell_type": "code",
   "execution_count": null,
   "metadata": {},
   "outputs": [],
   "source": []
  }
 ],
 "metadata": {
  "kernelspec": {
   "display_name": "SageMath 8.3",
   "language": "",
   "name": "sagemath"
  },
  "language_info": {
   "codemirror_mode": {
    "name": "ipython",
    "version": 2
   },
   "file_extension": ".py",
   "mimetype": "text/x-python",
   "name": "python",
   "nbconvert_exporter": "python",
   "pygments_lexer": "ipython2",
   "version": "2.7.15"
  }
 },
 "nbformat": 4,
 "nbformat_minor": 2
}
