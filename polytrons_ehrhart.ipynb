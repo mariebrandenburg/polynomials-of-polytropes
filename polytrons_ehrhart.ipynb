{
 "cells": [
  {
   "cell_type": "code",
   "execution_count": 368,
   "metadata": {},
   "outputs": [],
   "source": [
    "def intersect_trop_lines(first,second):\n",
    "    a = first[0]\n",
    "    b = first[1]\n",
    "    c = second[0]\n",
    "    d = second[1]\n",
    "    #anchored at (c,d)\n",
    "    if a>c and b>d and a>b: #1\n",
    "        return [c+b,d+b]\n",
    "    if a>c and b>d and a<b: #2\n",
    "        return [c+a,d+a]\n",
    "    if a>c and b>d and a==b:\n",
    "        return [c+b-d,b]\n",
    "    if a<c and b>d: #3\n",
    "        return [a,d]\n",
    "    if a<c and b<d and a<b: #4\n",
    "        return [a+d-b,d]\n",
    "    if a<c and b<d and a>b: #5\n",
    "        return [c,b+c-a]\n",
    "    if a<c and b<d and a==b:\n",
    "        return [c,b+c-a]\n",
    "    if a>c and d>b: #6\n",
    "        return [c,b]\n",
    "    #anchored at (a,b)\n",
    "    if c>a and d>b and c>d: #1\n",
    "        return [a+d,b+d]\n",
    "    if c>a and d>b and c<d: #2\n",
    "        return [a+c,b+c]\n",
    "    if c>a and d>b and c==d:\n",
    "        return [a+d-b,d]\n",
    "    if c<a and d>b: #3\n",
    "        return [c,b]\n",
    "    if c<a and d<b and c<d: #4\n",
    "        return [c+b-d,b]\n",
    "    if c<a and d<b and c>d: #5\n",
    "        return [a,d+a-c]\n",
    "    if c<a and d<b and c==d:\n",
    "        return [a,d+a-c]\n",
    "    if c>a and b>d: #6\n",
    "        return [a,d]\n",
    "    \n",
    "    \n",
    "def compute_pseudovertices(vertices):\n",
    "    pseudovertices = copy(vertices)\n",
    "    edges = []\n",
    "    for pair in Subsets(range(len(vertices)),2):\n",
    "        if intersect_trop_lines(vertices[pair[0]],vertices[pair[1]]):\n",
    "            pseudovertices.append(intersect_trop_lines(vertices[pair[0]],vertices[pair[1]]))\n",
    "            index = len(pseudovertices)-1\n",
    "            edges.append([pair[0],index])\n",
    "            edges.append([pair[1],index])\n",
    "        else:\n",
    "            edges.append(list(pair))\n",
    "    return {'pseudo': pseudovertices, 'edges': edges, 'vertices': vertices}\n",
    "\n",
    "\n",
    "def tangent_cone(polytron, vertex_index):\n",
    "    \n",
    "    def primitive_vector_in_edge_direction(direction):\n",
    "        x = direction[0]\n",
    "        y = direction[1]\n",
    "        if x==0 and y>0:\n",
    "            primitive = [ 0, 1]\n",
    "        elif x==0 and y<0:\n",
    "            primitive = [ 0,-1]\n",
    "        elif x>0 and y>0:\n",
    "            primitive = [ 1, 1]\n",
    "        elif x>0 and y==0:\n",
    "            primitive = [ 1, 0]\n",
    "        elif x<0 and y==0:\n",
    "            primitive = [-1, 0]\n",
    "        elif x<0 and y<0:\n",
    "            primitive = [-1,-1]\n",
    "        else:\n",
    "            print 'not assigned'\n",
    "        return primitive\n",
    "    \n",
    "    ##compute the generating function of the tangent cone at the given vertex\n",
    "    vertex = polytron['pseudo'][vertex_index]\n",
    "    \n",
    "    \n",
    "    #find neighbours of vertex\n",
    "    incident_edges_index = [edge for edge in polytron[\"edges\"] if vertex_index in edge]\n",
    "    neighbours_index = []\n",
    "    for edge_index in incident_edges_index:\n",
    "        for index in edge_index:\n",
    "            if index==vertex_index:\n",
    "                continue\n",
    "            else:\n",
    "                neighbours_index.append(index)    \n",
    "    neighbours = [ polytron['pseudo'][index] for index in neighbours_index ]\n",
    "    \n",
    "    #compute edge-directions\n",
    "    edge_directions = [ [neighbour[0]-vertex[0],neighbour[1]-vertex[1]] for neighbour in neighbours ]\n",
    "    \n",
    "    primitives=[]\n",
    "    #find primitive vector in edge-direction\n",
    "    for direction in edge_directions:\n",
    "        primitives.append(primitive_vector_in_edge_direction(direction))\n",
    "    \n",
    "    \n",
    "    t1, t2, n = var('t1, t2, n')\n",
    "    return ( t1^(n*vertex[0])* t2^(n*vertex[1]) )  / ( (1 - t1^primitives[0][0] * t2^primitives[0][1]) * (1 - t1^primitives[1][0] * t2^primitives[1][1])  )\n",
    "\n",
    "def gen_fct(polytron):\n",
    "    #for vertex_index in range(len(polytron[\"pseudo\"])):\n",
    "        #print tangent_cone(polytron,vertex_index)  \n",
    "    return sum([tangent_cone(polytron,vertex_index) for vertex_index in range(len(polytron[\"pseudo\"]))])\n",
    "\n",
    "def ehrhart(polytron,evaluation):\n",
    "    solutions = [gen_fct(polytron)(a=evaluation[0],b=evaluation[1]).factor()(n=k).factor()(t1=1,t2=1) for k in range(1,4)]\n",
    "    mat = matrix([ [1,1,1],\n",
    "                   [4,2,1],\n",
    "                   [9,3,1] ])\n",
    "    coeffs = mat.solve_right(vector(solutions))\n",
    "    t = var('t')\n",
    "    return sum(coeffs[i]*t^(2-i) for i in range(3))\n",
    "        \n"
   ]
  },
  {
   "cell_type": "code",
   "execution_count": 369,
   "metadata": {},
   "outputs": [
    {
     "name": "stdout",
     "output_type": "stream",
     "text": [
      "(t1^2*t1^(a*n)*t1^(b*n)*t1^(3*n)*t1^(2*n)*t2^2*t2^(a*n)*t2^n - t1*t1^(a*n)*t1^(b*n)*t1^(3*n)*t1^(2*n)*t2*t2^(a*n)*t2^n - t1^2*t1^(a*n)*t1^(b*n)*t1^(3*n)*t1^(2*n)*t2 - t1*t1^(a*n)*t1^(3*n)*t2^2*t2^(a*n)*t2^n + t1*t1^(a*n)*t1^(3*n)*t2*t2^(a*n)*t2^n + t1*t1^(a*n)*t1^(b*n)*t1^(3*n)*t1^(2*n) + t1^(2*n)*t2 - t1^(2*n))/((t1*t2 - 1)*(t1 - 1)*t1^((a + 3)*n)*t1^(2*n)*(t2 - 1)*t2^(a*n))\n"
     ]
    },
    {
     "data": {
      "text/plain": [
       "5/2*t^2 + 7/2*t + 1"
      ]
     },
     "execution_count": 369,
     "metadata": {},
     "output_type": "execute_result"
    }
   ],
   "source": [
    "a, b = var('a, b')\n",
    "forget(assumptions())\n",
    "assume( a>-1, -a-3<b, -b - 2<0)\n",
    "\n",
    "vertices = [[b,1],[-a-3,-a],[b,-a]]\n",
    "polytron = compute_pseudovertices(vertices)\n",
    "#print polytron\n",
    "\n",
    "#print gen_fct(polytron).numerator_denominator() \n",
    "generating_f = gen_fct(polytron).factor()\n",
    "print generating_f\n",
    "ehrhart(polytron,[0,0])"
   ]
  },
  {
   "cell_type": "code",
   "execution_count": 362,
   "metadata": {},
   "outputs": [
    {
     "name": "stdout",
     "output_type": "stream",
     "text": [
      "((t - 1)^4*(-t + 1)^(2*a*n)*(-t + 1)^(b*n)*(-t + 1)^(3*n)*(-t + 1)^(2*n)*(-t + 1)^n + (t - 1)^3*(-t + 1)^(a*n)*(-t + 1)^(b*n)*(-t + 1)^(3*n)*(-t + 1)^(2*n) - (t - 1)^2*(-t + 1)^(2*a*n)*(-t + 1)^(b*n)*(-t + 1)^(3*n)*(-t + 1)^(2*n)*(-t + 1)^n + (t - 1)^3*(-t + 1)^(2*a*n)*(-t + 1)^(3*n)*(-t + 1)^n - (t - 1)*(-t + 1)^(a*n)*(-t + 1)^(b*n)*(-t + 1)^(3*n)*(-t + 1)^(2*n) + (t - 1)^2*(-t + 1)^(2*a*n)*(-t + 1)^(3*n)*(-t + 1)^n - (t - 1)*(-t + 1)^(2*n) - (-t + 1)^(2*n))/(((t - 1)^2 - 1)*t^2*(-t + 1)^((a + 3)*n)*(-t + 1)^(a*n)*(-t + 1)^(2*n))\n"
     ]
    }
   ],
   "source": [
    "#substitute all variables by (1-t)\n",
    "t = var('t')\n",
    "for j in range(1,3):\n",
    "     generating_f = generating_f.subs({var('t'+str(j)):1-t})\n",
    "    #generating_f = generating_f.subs({var('t'+str(j)):1-j*t})\n",
    "print generating_f"
   ]
  },
  {
   "cell_type": "code",
   "execution_count": 363,
   "metadata": {},
   "outputs": [
    {
     "name": "stdout",
     "output_type": "stream",
     "text": [
      "1/2*(a^2 + 2*(a + 1)*b + 6*a + 5)*n^2 + 1/2*(3*a + 2*b + 7)*n + 1\n"
     ]
    }
   ],
   "source": [
    "#l'hopital\n",
    "p = generating_f.numerator()\n",
    "q = generating_f.denominator()\n",
    "alpha = 0\n",
    "p_deriv= p\n",
    "q_deriv = q\n",
    "while true:\n",
    "    p_deriv = p_deriv.derivative(t)\n",
    "    q_deriv = q_deriv.derivative(t)\n",
    "    alpha += 1\n",
    "    if not (p_deriv(t=0)==0 or q_deriv(t)==0):\n",
    "        break\n",
    "result = p_deriv(t=0)/q_deriv(t=0)\n",
    "print result.simplify_full()"
   ]
  },
  {
   "cell_type": "code",
   "execution_count": 364,
   "metadata": {},
   "outputs": [
    {
     "data": {
      "text/plain": [
       "6*n^2 + 5*n + 1"
      ]
     },
     "execution_count": 364,
     "metadata": {},
     "output_type": "execute_result"
    }
   ],
   "source": [
    "result(a=1,b=0).simplify_full()"
   ]
  },
  {
   "cell_type": "markdown",
   "metadata": {},
   "source": [
    "Making the Polyhedral Subdivision of $\\mathbb R^d$  for 6 variables"
   ]
  },
  {
   "cell_type": "markdown",
   "metadata": {},
   "source": [
    "The Setup: "
   ]
  },
  {
   "cell_type": "code",
   "execution_count": 10,
   "metadata": {},
   "outputs": [
    {
     "data": {
      "image/png": "[encoded data removed]",
      "text/plain": [
       "Graphics object consisting of 18 graphics primitives"
      ]
     },
     "metadata": {},
     "output_type": "display_data"
    }
   ],
   "source": [
    "a,b,c,d,e,f = var('a,b,c,d,e,f')\n",
    "D = matrix([[0,a,b],[c,0,d],[e,f,0]])\n",
    "DG = DiGraph(D,weighted = True)\n",
    "DG.show(edge_labels = True)"
   ]
  },
  {
   "cell_type": "markdown",
   "metadata": {},
   "source": [
    "Here is the Kleene star of D:\n",
    "D_Star = $\n",
    "\\begin{pmatrix}\n",
    "min(0,a+c,b+e) & min(a,a,b+f)   & min(b,a+d,b) \\\\\n",
    "min(c,c,d+e)   & min(a+c,0,d+f) & min(c+b,d,d) \\\\\n",
    "min(e,f+c,e)   & min(a+e,f,f)   & min(e+b,d+f,0)\n",
    "\\end{pmatrix}$"
   ]
  },
  {
   "cell_type": "code",
   "execution_count": 27,
   "metadata": {},
   "outputs": [],
   "source": [
    "#(1,1)\n",
    "H1  = Polyhedron(eqns=[[0,1,0,1,0,0,0]],ieqs=[[0,-1,1,-1,0,1,0]])\n",
    "H2  = Polyhedron(eqns=[[0,0,1,0,0,1,0]],ieqs=[[0,1,-1,1,0,-1,0]])\n",
    "#(1,2)\n",
    "H3  = Polyhedron(ieqs=[[0,-1,1,0,0,0,1]])\n",
    "#(1,3)\n",
    "H4  = Polyhedron(ieqs=[[0,1,-1,0,1,0,0]])\n",
    "#(2,1)\n",
    "H5  = Polyhedron(ieqs=[[0,0,0,-1,1,1,0]])\n",
    "#(2,2)\n",
    "H6  = Polyhedron(eqns=[[0,1,0,1,0,0,0]],ieqs=[[0,0,0,0,1,0,1]])\n",
    "H7  = Polyhedron(eqns=[[0,0,0,0,1,0,1]],ieqs=[[0,1,0,1,0,0,0]])\n",
    "#(2,3)\n",
    "H8  = Polyhedron(ieqs=[[0,0,1,1,-1,0,0]])\n",
    "#(3,1)\n",
    "H9  = Polyhedron(ieqs=[[0,0,0,1,0,-1,1]])\n",
    "#(3,2)\n",
    "H10 = Polyhedron(ieqs=[[0,1,0,0,0,1,-1]])\n",
    "#(3,3)\n",
    "H11 = Polyhedron(eqns=[[0,0,1,0,0,1,0]],ieqs=[[0,0,0,0,1,0,1]])\n",
    "H12 = Polyhedron(eqns=[[0,0,0,0,1,0,1]],ieqs=[[0,0,1,0,0,1,0]])"
   ]
  },
  {
   "cell_type": "markdown",
   "metadata": {},
   "source": [
    "Redoing the Hyperplanes as regions"
   ]
  },
  {
   "cell_type": "code",
   "execution_count": 99,
   "metadata": {},
   "outputs": [],
   "source": [
    "#(1,1)\n",
    "R1   = Polyhedron(ieqs = [[0,-1,1,-1,0,1,0],[0,-1,0,-1,0,0,0]])\n",
    "R2   = Polyhedron(ieqs = [[0,1,0,1,0,0,0],[0,0,1,0,0,1,0]])\n",
    "R3   = Polyhedron(ieqs = [[0,0,-1,0,0,-1,0],[0,1,-1,1,0,-1,0]])\n",
    "F11  = [R1,R2,R3]\n",
    "#(1,2)\n",
    "R4   = Polyhedron(ieqs = [[0,-1,1,0,0,0,1]])\n",
    "R5   = Polyhedron(ieqs = [[0,1,-1,0,0,0,-1]])\n",
    "F12  = [R4,R5]\n",
    "#(1,3)\n",
    "R6   = Polyhedron(ieqs = [[0,1,-1,0,1,0,0]])\n",
    "R7   = Polyhedron(ieqs = [[0,-1,1,0,-1,0,0]])\n",
    "F13  = [R6,R7]\n",
    "#(2,1)\n",
    "R8   = Polyhedron(ieqs = [[0,0,0,-1,1,1,0]])\n",
    "R9   = Polyhedron(ieqs = [[0,0,0,1,-1,-1,0]])\n",
    "F21  = [R8,R9]\n",
    "#(2,2)\n",
    "R10  = Polyhedron(ieqs = [[0,-1,0,-1,1,0,1],[0,-1,0,-1,0,0,0]])\n",
    "R11  = Polyhedron(ieqs = [[0,0,0,0,1,0,1],[0,1,0,1,0,0,0]])\n",
    "R12  = Polyhedron(ieqs = [[0,0,0,0,-1,0,-1],[0,1,0,1,-1,0,-1]])\n",
    "F22  = [R10,R11,R12]\n",
    "#(2,3)\n",
    "R13  = Polyhedron(ieqs = [[0,0,1,1,-1,0,0]])\n",
    "R14  = Polyhedron(ieqs = [[0,0,-1,-1,1,0,0]])\n",
    "F23  = [R13,R14]\n",
    "#(3,1)\n",
    "R15  = Polyhedron(ieqs = [[0,0,0,1,0,-1,1]])\n",
    "R16  = Polyhedron(ieqs = [[0,0,0,-1,0,1,-1]])\n",
    "F31  = [R15,R16]\n",
    "#(3,2)\n",
    "R17  = Polyhedron(ieqs = [[0,1,0,0,0,1,-1]])\n",
    "R18  = Polyhedron(ieqs = [[0,-1,0,0,0,-1,1]])\n",
    "F32  = [R17,R18]\n",
    "#(3,3)\n",
    "R19  = Polyhedron(ieqs = [[0,0,-1,0,1,-1,1],[0,0,-1,0,0,-1,0]])\n",
    "R20  = Polyhedron(ieqs = [[0,0,1,0,0,1,0],[0,0,0,0,1,0,1]])\n",
    "R21  = Polyhedron(ieqs = [[0,0,1,0,-1,1,-1],[0,0,0,0,-1,0,-1]])\n",
    "F33  = [R19,R20,R21]"
   ]
  },
  {
   "cell_type": "markdown",
   "metadata": {},
   "source": [
    "Find the feasible, full dimensional regions:"
   ]
  },
  {
   "cell_type": "code",
   "execution_count": 115,
   "metadata": {},
   "outputs": [],
   "source": [
    "def regions_of_complex(polyhedral_complex):\n",
    "    r\"\"\"\n",
    "    Returns the feasible regions of the ``polyhedral_complex``.\n",
    "    Follows the method of regions in the hyperplane arrangements.\n",
    "    \n",
    "    INPUT: \n",
    "    \n",
    "    - ``polyhedral_complex`` -- list. A list of polyhedron objects\n",
    "    \n",
    "    OUTPUT:\n",
    "    \n",
    "    A tuple of regions.\n",
    "    \"\"\"\n",
    "    R = polyhedral_complex[0][0].base_ring()\n",
    "    universe = Polyhedron(eqns = [[0] + [0]*6],base_ring = R)\n",
    "    regions = [universe]\n",
    "    for fan in polyhedral_complex:\n",
    "        subdivided = []\n",
    "        for region in regions:\n",
    "            for cone in fan:\n",
    "                part = region.intersection(cone)\n",
    "                if part.dim()==6:\n",
    "                    subdivided.append(part)\n",
    "        regions = subdivided\n",
    "    return tuple(regions)"
   ]
  },
  {
   "cell_type": "markdown",
   "metadata": {},
   "source": [
    "Test it on the fans"
   ]
  },
  {
   "cell_type": "code",
   "execution_count": 116,
   "metadata": {},
   "outputs": [],
   "source": [
    "six_variables_complex = [F11,F12,F13,F21,F22,F23,F31,F32,F33]\n",
    "regions = regions_of_complex(six_variables_complex)\n"
   ]
  },
  {
   "cell_type": "code",
   "execution_count": 117,
   "metadata": {},
   "outputs": [
    {
     "data": {
      "text/plain": [
       "117"
      ]
     },
     "execution_count": 117,
     "metadata": {},
     "output_type": "execute_result"
    }
   ],
   "source": [
    "len(regions)"
   ]
  },
  {
   "cell_type": "markdown",
   "metadata": {},
   "source": [
    "Discard the infeasible regions"
   ]
  },
  {
   "cell_type": "code",
   "execution_count": 266,
   "metadata": {},
   "outputs": [],
   "source": [
    "def feasible_regions(initial_regions):\n",
    "    r\"\"\"\n",
    "    From the regions of a polyhedral complex, return the feasible regions.\n",
    "    \n",
    "    INPUT:\n",
    "    \n",
    "    -  ``initial_regions`` -- tuple of polyhedron objects. \n",
    "    \n",
    "    OUTPUT:\n",
    "    \n",
    "    tuple of polyhedron objects representiing the feasible regions.\n",
    "    \"\"\"\n",
    "    symbols_vec = vector([0,a,b,c,d,e,f])\n",
    "    final_regions = list(initial_regions)\n",
    "    for region in initial_regions:\n",
    "        forget()\n",
    "        assume(a,b,c,d,e,f,'integer')\n",
    "        for ineq in region.inequalities_list():\n",
    "            new_ineq = symbols_vec.dot_product(vector(ineq))\n",
    "            assume(new_ineq > 0)\n",
    "        if a+c < 0 or b+e < 0 or d+f < 0:\n",
    "            final_regions.remove(region)\n",
    "    return final_regions"
   ]
  },
  {
   "cell_type": "code",
   "execution_count": 267,
   "metadata": {},
   "outputs": [],
   "source": [
    "feas_regs = feasible_regions(regions)"
   ]
  },
  {
   "cell_type": "code",
   "execution_count": 268,
   "metadata": {},
   "outputs": [
    {
     "data": {
      "text/plain": [
       "63"
      ]
     },
     "execution_count": 268,
     "metadata": {},
     "output_type": "execute_result"
    }
   ],
   "source": [
    "len(feas_regs)"
   ]
  },
  {
   "cell_type": "code",
   "execution_count": 118,
   "metadata": {},
   "outputs": [
    {
     "data": {
      "text/plain": [
       "[[0, 1, -1, 0, 1, 0, 0],\n",
       " [0, -1, 1, -1, 0, 1, 0],\n",
       " [0, 0, -1, 0, 0, -1, 0],\n",
       " [0, 0, 0, 1, 0, -1, 1]]"
      ]
     },
     "execution_count": 118,
     "metadata": {},
     "output_type": "execute_result"
    }
   ],
   "source": [
    "first_region= regions[0]\n",
    "first_region.inequalities_list()"
   ]
  },
  {
   "cell_type": "markdown",
   "metadata": {},
   "source": [
    "Try to get the Ehrhart polynomial for ``first_region``\n",
    "These inequalities imply the following kleene star:\n",
    "D_star_one = \n",
    "$\\begin{pmatrix}\n",
    "a+c & a & b \\\\\n",
    "c & a+c & c+b \\\\\n",
    "e  & a + e & b+e\n",
    "\\end{pmatrix}$"
   ]
  },
  {
   "cell_type": "code",
   "execution_count": 355,
   "metadata": {},
   "outputs": [],
   "source": [
    "def tropical_vertices_from_region(region):\n",
    "    r\"\"\"\n",
    "    Return the symbolic tropical vertices corresponding to \n",
    "    a certain region. \n",
    "    \n",
    "    INPUT:\n",
    "    \n",
    "    - ``region`` -- a polyhedron object. \n",
    "    \n",
    "    OUTPUT:\n",
    "    \n",
    "    A list of the tropical vertices (already in the plane). \n",
    "    \"\"\"\n",
    "    forget()\n",
    "    symbols_vec = vector([0,a,b,c,d,e,f])\n",
    "    assume(a,b,c,d,e,f,'integer')\n",
    "    for ineq in region.inequalities_list():\n",
    "        new_ineq = symbols_vec.dot_product(vector(ineq))\n",
    "        assume(new_ineq > 0)\n",
    "    Kleene = matrix([[min(min(0, a+c),min(a+c,b+e)), min(a,a,b+f)  , min(b,a+d,b)],\n",
    "                     [min(c,c,d+e)  , min(a+c,0,d+f), min(c+b,d,d)],\n",
    "                     [min(e,f+c,e)  , min(a+e,f,f)  , min(e+b,d+f,0)]])\n",
    "    \n",
    "    #subtract the first entry\n",
    "    L = list()\n",
    "    for i in range(len(Kleene.rows())):\n",
    "        new_row = list()\n",
    "        j = Kleene.row(i)[0]\n",
    "        for k in range(1,len(Kleene.row(i))):\n",
    "            new_row.append(Kleene.row(i)[k] - j)\n",
    "        L.append(new_row)\n",
    "    return L\n",
    "    \n",
    "    \n"
   ]
  },
  {
   "cell_type": "code",
   "execution_count": 383,
   "metadata": {},
   "outputs": [
    {
     "data": {
      "text/plain": [
       "[[b + f, b], [a + c - d - e, b + c - d - e], [a, -e]]"
      ]
     },
     "execution_count": 383,
     "metadata": {},
     "output_type": "execute_result"
    }
   ],
   "source": [
    "verts = tropical_vertices_from_region(feas_regs[38])\n",
    "verts\n"
   ]
  },
  {
   "cell_type": "code",
   "execution_count": 384,
   "metadata": {},
   "outputs": [],
   "source": [
    "polytron = compute_pseudovertices(verts)"
   ]
  },
  {
   "cell_type": "code",
   "execution_count": 385,
   "metadata": {},
   "outputs": [
    {
     "data": {
      "text/plain": [
       "{'edges': [[0, 1], [0, 3], [2, 3], [1, 2]],\n",
       " 'pseudo': [[b + f, b], [a + c - d - e, b + c - d - e], [a, -e], [b + f, -e]],\n",
       " 'vertices': [[b + f, b], [a + c - d - e, b + c - d - e], [a, -e]]}"
      ]
     },
     "execution_count": 385,
     "metadata": {},
     "output_type": "execute_result"
    }
   ],
   "source": [
    "polytron"
   ]
  },
  {
   "cell_type": "code",
   "execution_count": 373,
   "metadata": {},
   "outputs": [
    {
     "name": "stdout",
     "output_type": "stream",
     "text": [
      "not assigned\n"
     ]
    },
    {
     "ename": "UnboundLocalError",
     "evalue": "local variable 'primitive' referenced before assignment",
     "output_type": "error",
     "traceback": [
      "\u001b[0;31m---------------------------------------------------------------------------\u001b[0m",
      "\u001b[0;31mUnboundLocalError\u001b[0m                         Traceback (most recent call last)",
      "\u001b[0;32m<ipython-input-373-24a4056ab113>\u001b[0m in \u001b[0;36m<module>\u001b[0;34m()\u001b[0m\n\u001b[0;32m----> 1\u001b[0;31m \u001b[0mgenerating_f\u001b[0m \u001b[0;34m=\u001b[0m \u001b[0mgen_fct\u001b[0m\u001b[0;34m(\u001b[0m\u001b[0mpolytron\u001b[0m\u001b[0;34m)\u001b[0m\u001b[0;34m.\u001b[0m\u001b[0mfactor\u001b[0m\u001b[0;34m(\u001b[0m\u001b[0;34m)\u001b[0m\u001b[0;34m\u001b[0m\u001b[0m\n\u001b[0m",
      "\u001b[0;32m<ipython-input-368-3940a5bb9370>\u001b[0m in \u001b[0;36mgen_fct\u001b[0;34m(polytron)\u001b[0m\n\u001b[1;32m    105\u001b[0m     \u001b[0;31m#for vertex_index in range(len(polytron[\"pseudo\"])):\u001b[0m\u001b[0;34m\u001b[0m\u001b[0;34m\u001b[0m\u001b[0m\n\u001b[1;32m    106\u001b[0m         \u001b[0;31m#print tangent_cone(polytron,vertex_index)\u001b[0m\u001b[0;34m\u001b[0m\u001b[0;34m\u001b[0m\u001b[0m\n\u001b[0;32m--> 107\u001b[0;31m     \u001b[0;32mreturn\u001b[0m \u001b[0msum\u001b[0m\u001b[0;34m(\u001b[0m\u001b[0;34m[\u001b[0m\u001b[0mtangent_cone\u001b[0m\u001b[0;34m(\u001b[0m\u001b[0mpolytron\u001b[0m\u001b[0;34m,\u001b[0m\u001b[0mvertex_index\u001b[0m\u001b[0;34m)\u001b[0m \u001b[0;32mfor\u001b[0m \u001b[0mvertex_index\u001b[0m \u001b[0;32min\u001b[0m \u001b[0mrange\u001b[0m\u001b[0;34m(\u001b[0m\u001b[0mlen\u001b[0m\u001b[0;34m(\u001b[0m\u001b[0mpolytron\u001b[0m\u001b[0;34m[\u001b[0m\u001b[0;34m\"pseudo\"\u001b[0m\u001b[0;34m]\u001b[0m\u001b[0;34m)\u001b[0m\u001b[0;34m)\u001b[0m\u001b[0;34m]\u001b[0m\u001b[0;34m)\u001b[0m\u001b[0;34m\u001b[0m\u001b[0m\n\u001b[0m\u001b[1;32m    108\u001b[0m \u001b[0;34m\u001b[0m\u001b[0m\n\u001b[1;32m    109\u001b[0m \u001b[0;32mdef\u001b[0m \u001b[0mehrhart\u001b[0m\u001b[0;34m(\u001b[0m\u001b[0mpolytron\u001b[0m\u001b[0;34m,\u001b[0m\u001b[0mevaluation\u001b[0m\u001b[0;34m)\u001b[0m\u001b[0;34m:\u001b[0m\u001b[0;34m\u001b[0m\u001b[0m\n",
      "\u001b[0;32m<ipython-input-368-3940a5bb9370>\u001b[0m in \u001b[0;36mtangent_cone\u001b[0;34m(polytron, vertex_index)\u001b[0m\n\u001b[1;32m     96\u001b[0m     \u001b[0;31m#find primitive vector in edge-direction\u001b[0m\u001b[0;34m\u001b[0m\u001b[0;34m\u001b[0m\u001b[0m\n\u001b[1;32m     97\u001b[0m     \u001b[0;32mfor\u001b[0m \u001b[0mdirection\u001b[0m \u001b[0;32min\u001b[0m \u001b[0medge_directions\u001b[0m\u001b[0;34m:\u001b[0m\u001b[0;34m\u001b[0m\u001b[0m\n\u001b[0;32m---> 98\u001b[0;31m         \u001b[0mprimitives\u001b[0m\u001b[0;34m.\u001b[0m\u001b[0mappend\u001b[0m\u001b[0;34m(\u001b[0m\u001b[0mprimitive_vector_in_edge_direction\u001b[0m\u001b[0;34m(\u001b[0m\u001b[0mdirection\u001b[0m\u001b[0;34m)\u001b[0m\u001b[0;34m)\u001b[0m\u001b[0;34m\u001b[0m\u001b[0m\n\u001b[0m\u001b[1;32m     99\u001b[0m \u001b[0;34m\u001b[0m\u001b[0m\n\u001b[1;32m    100\u001b[0m \u001b[0;34m\u001b[0m\u001b[0m\n",
      "\u001b[0;32m<ipython-input-368-3940a5bb9370>\u001b[0m in \u001b[0;36mprimitive_vector_in_edge_direction\u001b[0;34m(direction)\u001b[0m\n\u001b[1;32m     73\u001b[0m         \u001b[0;32melse\u001b[0m\u001b[0;34m:\u001b[0m\u001b[0;34m\u001b[0m\u001b[0m\n\u001b[1;32m     74\u001b[0m             \u001b[0;32mprint\u001b[0m \u001b[0;34m'not assigned'\u001b[0m\u001b[0;34m\u001b[0m\u001b[0m\n\u001b[0;32m---> 75\u001b[0;31m         \u001b[0;32mreturn\u001b[0m \u001b[0mprimitive\u001b[0m\u001b[0;34m\u001b[0m\u001b[0m\n\u001b[0m\u001b[1;32m     76\u001b[0m \u001b[0;34m\u001b[0m\u001b[0m\n\u001b[1;32m     77\u001b[0m     \u001b[0;31m##compute the generating function of the tangent cone at the given vertex\u001b[0m\u001b[0;34m\u001b[0m\u001b[0;34m\u001b[0m\u001b[0m\n",
      "\u001b[0;31mUnboundLocalError\u001b[0m: local variable 'primitive' referenced before assignment"
     ]
    }
   ],
   "source": [
    "generating_f = gen_fct(polytron).factor()"
   ]
  },
  {
   "cell_type": "code",
   "execution_count": null,
   "metadata": {},
   "outputs": [],
   "source": []
  }
 ],
 "metadata": {
  "kernelspec": {
   "display_name": "SageMath 8.8.beta2",
   "language": "",
   "name": "sagemath"
  },
  "language_info": {
   "codemirror_mode": {
    "name": "ipython",
    "version": 2
   },
   "file_extension": ".py",
   "mimetype": "text/x-python",
   "name": "python",
   "nbconvert_exporter": "python",
   "pygments_lexer": "ipython2",
   "version": "2.7.15"
  }
 },
 "nbformat": 4,
 "nbformat_minor": 2
}
