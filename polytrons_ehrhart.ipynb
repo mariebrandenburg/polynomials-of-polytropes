{
 "cells": [
  {
   "cell_type": "code",
   "execution_count": null,
   "metadata": {
    "collapsed": false
   },
   "outputs": [],
   "source": [
    "\"\"\"def intersect_trop_lines(assumptions, first,second):\n",
    "    a = first[0]\n",
    "    b = first[1]\n",
    "    c = second[0]\n",
    "    d = second[1]\n",
    "    #anchored at (c,d)\n",
    "    if a>c and b>d and a>b: #1\n",
    "        return [c+b,d+b]\n",
    "    if a>c and b>d and a<b: #2\n",
    "        return [c+a,d+a]\n",
    "    if a>c and b>d and a==b:\n",
    "        return [c+b-d,b]\n",
    "    if a<c and b>d: #3\n",
    "        return [a,d]\n",
    "    if a<c and b<d and a<b: #4\n",
    "        return [a+d-b,d]\n",
    "    if a<c and b<d and a>b: #5\n",
    "        return [c,b+c-a]\n",
    "    if a<c and b<d and a==b:\n",
    "        return [c,b+c-a]\n",
    "    if a>c and d>b: #6\n",
    "        return [c,b]\n",
    "    #anchored at (a,b)\n",
    "    if c>a and d>b and c>d: #1\n",
    "        return [a+d,b+d]\n",
    "    if c>a and d>b and c<d: #2\n",
    "        return [a+c,b+c]\n",
    "    if c>a and d>b and c==d:\n",
    "        return [a+d-b,d]\n",
    "    if c<a and d>b: #3\n",
    "        return [c,b]\n",
    "    if c<a and d<b and c<d: #4\n",
    "        return [c+b-d,b]\n",
    "    if c<a and d<b and c>d: #5\n",
    "        return [a,d+a-c]\n",
    "    if c<a and d<b and c==d:\n",
    "        return [a,d+a-c]\n",
    "    if c>a and b>d: #6\n",
    "        return [a,d]\n",
    "    \n",
    "    \n",
    "def polytron(assumptions, vertices):\n",
    "    pseudovertices = copy(vertices)\n",
    "    edges = []\n",
    "    for pair in Subsets(range(len(vertices)),2):\n",
    "        if intersect_trop_lines(assumptions, vertices[pair[0]],vertices[pair[1]]):\n",
    "            pseudovertices.append(intersect_trop_lines(vertices[pair[0]],vertices[pair[1]]))\n",
    "            index = len(pseudovertices)-1\n",
    "            edges.append([pair[0],index])\n",
    "            edges.append([pair[1],index])\n",
    "        else:\n",
    "            edges.append(list(pair))\n",
    "    return {'pseudo': pseudovertices, 'edges': edges, 'vertices': vertices}\n",
    "\n",
    "\n",
    "def tangent_cone(polytron, vertex_index):\n",
    "    \n",
    "    def primitive_vector_in_edge_direction(direction):\n",
    "        x = direction[0]\n",
    "        y = direction[1]\n",
    "        if x==0 and y>0:\n",
    "            primitive = [ 0, 1]\n",
    "        elif x==0 and y<0:\n",
    "            primitive = [ 0,-1]\n",
    "        elif x>0 and y>0:\n",
    "            primitive = [ 1, 1]\n",
    "        elif x>0 and y==0:\n",
    "            primitive = [ 1, 0]\n",
    "        elif x<0 and y==0:\n",
    "            primitive = [-1, 0]\n",
    "        elif x<0 and y<0:\n",
    "            primitive = [-1,-1]\n",
    "        else:\n",
    "            print 'cannot find primitive vector in direction ('+str(x)+' , '+str(y)+')'\n",
    "        return primitive\n",
    "    \n",
    "    ##compute the generating function of the tangent cone at the given vertex\n",
    "    vertex = polytron['pseudo'][vertex_index]\n",
    "    \n",
    "    \n",
    "    #find neighbours of vertex\n",
    "    incident_edges_index = [edge for edge in polytron[\"edges\"] if vertex_index in edge]\n",
    "    neighbours_index = []\n",
    "    for edge_index in incident_edges_index:\n",
    "        for index in edge_index:\n",
    "            if index==vertex_index:\n",
    "                continue\n",
    "            else:\n",
    "                neighbours_index.append(index)    \n",
    "    neighbours = [ polytron['pseudo'][index] for index in neighbours_index ]\n",
    "    \n",
    "    #compute edge-directions\n",
    "    edge_directions = [ [neighbour[0]-vertex[0],neighbour[1]-vertex[1]] for neighbour in neighbours ]\n",
    "    \n",
    "    primitives=[]\n",
    "    #find primitive vector in edge-direction\n",
    "    for direction in edge_directions:\n",
    "        primitives.append(primitive_vector_in_edge_direction(direction))\n",
    "    \n",
    "    \n",
    "    t1, t2, n = var('t1, t2, n')\n",
    "    return ( t1^(n*vertex[0])* t2^(n*vertex[1]) )  / ( (1 - t1^primitives[0][0] * t2^primitives[0][1]) * (1 - t1^primitives[1][0] * t2^primitives[1][1])  )\n",
    "\n",
    "def gen_fct(polytron):\n",
    "    return sum([tangent_cone(polytron,vertex_index) for vertex_index in range(len(polytron[\"pseudo\"]))])\n",
    "\n",
    "def ehrhart(polytron,evaluation):\n",
    "    solutions = [gen_fct(polytron)(a=evaluation[0],b=evaluation[1]).factor()(n=k).factor()(t1=1,t2=1) for k in range(1,4)]\n",
    "    mat = matrix([ [1,1,1],\n",
    "                   [4,2,1],\n",
    "                   [9,3,1] ])\n",
    "    coeffs = mat.solve_right(vector(solutions))\n",
    "    t = var('t')\n",
    "    return sum(coeffs[i]*t^(2-i) for i in range(3))\n",
    "        \n",
    "\"\"\""
   ]
  },
  {
   "cell_type": "markdown",
   "metadata": {},
   "source": [
    "We identify symbolic inequalities by the respective vector, \n",
    "e.g. we identify $a - c > 0$ with [0, 1, 0,-1, 0, 0, 0].\n",
    "The feasible region for a list of assumption is then (the interior of) a polehedral cone $P$ which is defined by\n",
    "the huperplanes orthogonal to these vectors. If we want to test if another symbolic inequality is valid, \n",
    "we can consider the intersection of the Halfspace $H$ orthogonal to the respective inequality and $P$.\n",
    "If both the assumptions and the inequality in question are strict, then it is valid iff $\\text{int} P\\subseteq\\text{int}H$,"
   ]
  },
  {
   "cell_type": "code",
   "execution_count": 1,
   "metadata": {
    "collapsed": false
   },
   "outputs": [],
   "source": [
    "def is_valid_strict(assumptions, question):\n",
    "    #checks if a strict inequality (question) is satified under the assumptions of other strict inequalities\n",
    "    #this is not satisfied if intP interected with H_c is nonempty\n",
    "    P = Polyhedron(ieqs = assumptions)\n",
    "    #complement of halfspace defined by strict inequality in question\n",
    "    H_c = Polyhedron(ieqs = [[-i for i in question]]) \n",
    "    if len(H_c.intersection(P).vertices())==0:\n",
    "        return true\n",
    "    else:\n",
    "        for F in P.faces(5):\n",
    "            if H_c.intersection(F.as_polyhedron()) == H_c.intersection(P):\n",
    "                return true\n",
    "    return false\n",
    "\n",
    "def is_valid_nonstrict(assumptions, question):\n",
    "    #checks if a non-strict inequality (question) is satified under the assumptions of other strict inequalities\n",
    "    #this is satisfied if intP is contained in H. H is closed, so this is equivalent to P contianed in H\n",
    "    P = Polyhedron(ieqs = assumptions)\n",
    "    H = Polyhedron(ieqs = [question]) \n",
    "    if H.intersection(P)==P:\n",
    "        return true\n",
    "    else:     \n",
    "        return false\n",
    "\n",
    "def symbols_to_vector(symbolic_expression):\n",
    "    symbols_vec = [0,a,b,c,d,e,f]\n",
    "    string = str(symbolic_expression)\n",
    "    vec = [0,0,0,0,0,0,0]\n",
    "    sign = 1\n",
    "    if string == \"0\":\n",
    "        return vector(vec)\n",
    "    for letter in string:\n",
    "        if letter in [\" \"]:\n",
    "            continue\n",
    "        elif letter in [\"+\"]:\n",
    "            sign = 1\n",
    "        elif letter in [\"-\"]:\n",
    "            sign = -1\n",
    "        elif var(letter) in symbols_vec:\n",
    "            index = symbols_vec.index(var(letter))\n",
    "            vec[index] = 1*sign\n",
    "    return vector(vec)\n",
    "\n",
    "def vector_to_symbols(vec):\n",
    "    a,b,c,d,e,f = var('a,b,c,d,e,f')\n",
    "    symbols_vec = vector([0,a,b,c,d,e,f])\n",
    "    return symbols_vec.dot_product(vector(vec))\n",
    "\n",
    "def greater(assumptions, vec1, vec2):\n",
    "    #vec1 > vec2 iff vec1 - vec2 > 0 is valid\n",
    "    question = vec1 - vec2\n",
    "    return is_valid_strict(assumptions, question)\n",
    "\n",
    "def equal(assumptions, vec1, vec2):\n",
    "    if is_valid_nonstrict(assumptions, vec1 - vec2) and is_valid_nonstrict(assumptions, vec2 - vec1):\n",
    "        return true\n",
    "    return false\n",
    "\n",
    "def minimum(assumptions, ieq1, ieq2):\n",
    "    question = [ieq1[k] - ieq2[k] for k in range(len(ieq1))]\n",
    "    if is_valid_nonstrict(assumptions, question):\n",
    "        return ieq2\n",
    "    elif is_valid_nonstrict(assumptions, [-i for i in question]):\n",
    "        return ieq1\n",
    "    else:\n",
    "        print(\"cannot decide minimum of \"+str(ieq1)+\" and \"+str(ieq2)+\" under assumptions \"+str(assumptions))\n",
    "\n",
    "def intersect_trop_lines(assumptions, first,second):\n",
    "    #translate symbolic expressions into vectors\n",
    "    a = symbols_to_vector(first[0])\n",
    "    b = symbols_to_vector(first[1])\n",
    "    c = symbols_to_vector(second[0])\n",
    "    d = symbols_to_vector(second[1])\n",
    "    ass = assumptions\n",
    "    res = []\n",
    "    #anchored at (c,d)\n",
    "    if greater(ass,a,c) and greater(ass,b,d) and greater(ass,a,b): #1\n",
    "        res =  [c+b,d+b]\n",
    "    if greater(ass,a,c) and greater(ass,b,d) and greater(ass,b,a): #2\n",
    "        res =  [c+a,d+a]\n",
    "    if greater(ass,a,c) and greater(ass,b,d) and equal(ass,a,b):\n",
    "        res =  [c+b-d,b]\n",
    "    if greater(ass,c,a) and greater(ass,b,d): #3\n",
    "        res =  [a,d]\n",
    "    if greater(ass,c,a) and greater(ass,d,b) and greater(ass,a,b): #4\n",
    "        res =  [a+d-b,d]\n",
    "    if greater(ass,c,a) and greater(ass,b,d) and greater(ass,a,b): #5\n",
    "        res =  [c,b+c-a]\n",
    "    if greater(ass,c,a) and greater(ass,b,d) and equal(ass,a,b):\n",
    "        res =  [c,b+c-a]\n",
    "    if greater(ass,a,c) and greater(ass,b,d): #6\n",
    "        res =  [c,b]\n",
    "    #anchored at (a,b)\n",
    "    if greater(ass,c,a) and greater(ass,b,d) and greater(ass,c,d): #1\n",
    "        res =  [a+d,b+d]\n",
    "    if greater(ass,c,a) and greater(ass,b,d) and greater(ass,d,c): #2\n",
    "        res =  [a+c,b+c]\n",
    "    if greater(ass,c,a) and greater(ass,b,d) and equal(ass,c,d):\n",
    "        res =  [a+d-b,d]\n",
    "    if greater(ass,a,c) and greater(ass,b,d): #3\n",
    "        res =  [c,b]\n",
    "    if greater(ass,a,c) and greater(ass,b,d) and greater(ass,c,d): #4\n",
    "        res =  [c+b-d,b]\n",
    "    if greater(ass,a,c) and greater(ass,b,d) and greater(ass,c,d): #5\n",
    "        res =  [a,d+a-c]\n",
    "    if greater(ass,a,c) and greater(ass,b,d) and equal(ass,c,d):\n",
    "        res =  [a,d+a-c]\n",
    "    if greater(ass,c,a) and greater(ass,b,d): #6\n",
    "        res =  [a,d]\n",
    "        \n",
    "    if len(res):\n",
    "        return [vector_to_symbols(el) for el in res]\n",
    "    \n",
    "    \n",
    "    \n",
    "def polytron(assumptions, vertices):\n",
    "    pseudovertices = copy(vertices)\n",
    "    edges = []\n",
    "    for pair in Subsets(range(len(vertices)),2):\n",
    "        if intersect_trop_lines(assumptions, vertices[pair[0]],vertices[pair[1]]):\n",
    "            pseudovertices.append(intersect_trop_lines(assumptions, vertices[pair[0]],vertices[pair[1]]))\n",
    "            index = len(pseudovertices)-1\n",
    "            edges.append([pair[0],index])\n",
    "            edges.append([pair[1],index])\n",
    "        else:\n",
    "            edges.append(list(pair))\n",
    "    return {'pseudo': pseudovertices, 'edges': edges, 'vertices': vertices, 'assumptions': assumptions}\n",
    "\n",
    "def tangent_cone(polytron, vertex_index):\n",
    "    ass = polytron['assumptions']\n",
    "    \n",
    "    def primitive_vector_in_edge_direction(assumptions, direction):\n",
    "        ass = assumptions\n",
    "        x = symbols_to_vector(direction[0])\n",
    "        y = symbols_to_vector(direction[1])\n",
    "        zero = vector([0,0,0,0,0,0,0])\n",
    "        if equal(ass,x,zero) and is_valid_strict(ass,y):\n",
    "            primitive = [ 0, 1]\n",
    "        elif equal(ass,x,zero) and is_valid_strict(ass,[-i for i in y]):\n",
    "            primitive = [ 0,-1]\n",
    "        elif is_valid_strict(ass,x) and is_valid_strict(ass,y):\n",
    "            primitive = [ 1, 1]\n",
    "        elif is_valid_strict(ass,x) and equal(ass,y,zero):\n",
    "            primitive = [ 1, 0]\n",
    "        elif is_valid_strict(ass,[-i for i in x]) and equal(ass,y,zero):\n",
    "            primitive = [-1, 0]\n",
    "        elif is_valid_strict(ass,[-i for i in x]) and is_valid_strict(ass,[-i for i in y]):\n",
    "            primitive = [-1,-1]\n",
    "        else:\n",
    "            print 'cannot find primitive vector in direction ('+str(x)+' , '+str(y)+')'\n",
    "        return primitive\n",
    "    \n",
    "    ##compute the generating function of the tangent cone at the given vertex\n",
    "    vertex = polytron['pseudo'][vertex_index]\n",
    "    \n",
    "    \n",
    "    #find neighbours of vertex\n",
    "    incident_edges_index = [edge for edge in polytron[\"edges\"] if vertex_index in edge]\n",
    "    neighbours_index = []\n",
    "    for edge_index in incident_edges_index:\n",
    "        for index in edge_index:\n",
    "            if index==vertex_index:\n",
    "                continue\n",
    "            else:\n",
    "                neighbours_index.append(index)    \n",
    "    neighbours = [ polytron['pseudo'][index] for index in neighbours_index ]\n",
    "    \n",
    "    #compute edge-directions\n",
    "    edge_directions = [ [neighbour[0]-vertex[0],neighbour[1]-vertex[1]] for neighbour in neighbours ]\n",
    "    \n",
    "    primitives=[]\n",
    "    #find primitive vector in edge-direction\n",
    "    for direction in edge_directions:\n",
    "        primitives.append(primitive_vector_in_edge_direction(ass, direction))\n",
    "    \n",
    "    \n",
    "    t1, t2, n = var('t1, t2, n')\n",
    "    return ( t1^(n*vertex[0])* t2^(n*vertex[1]) )  / ( (1 - t1^primitives[0][0] * t2^primitives[0][1]) * (1 - t1^primitives[1][0] * t2^primitives[1][1])  )\n",
    "\n",
    "\n",
    "def gen_fct(polytron):\n",
    "    return sum([tangent_cone(polytron,vertex_index) for vertex_index in range(len(polytron[\"pseudo\"]))])\n"
   ]
  },
  {
   "cell_type": "markdown",
   "metadata": {},
   "source": [
    "Making the Polyhedral Subdivision of $\\mathbb R^d$  for 6 variables"
   ]
  },
  {
   "cell_type": "markdown",
   "metadata": {},
   "source": [
    "The Setup: "
   ]
  },
  {
   "cell_type": "code",
   "execution_count": 2,
   "metadata": {
    "collapsed": false
   },
   "outputs": [
    {
     "data": {
      "image/png": "[encoded data removed]",
      "text/plain": [
       "Graphics object consisting of 18 graphics primitives"
      ]
     },
     "metadata": {},
     "output_type": "display_data"
    }
   ],
   "source": [
    "forget()\n",
    "a,b,c,d,e,f = var('a,b,c,d,e,f')\n",
    "D = matrix([[0,a,b],[c,0,d],[e,f,0]])\n",
    "DG = DiGraph(D,weighted = True)\n",
    "DG.show(edge_labels = True)"
   ]
  },
  {
   "cell_type": "markdown",
   "metadata": {},
   "source": [
    "Here is the Kleene star of D:\n",
    "D_Star = $\n",
    "\\begin{pmatrix}\n",
    "min(0,a+c,b+e) & min(a,a,b+f)   & min(b,a+d,b) \\\\\n",
    "min(c,c,d+e)   & min(a+c,0,d+f) & min(c+b,d,d) \\\\\n",
    "min(e,f+c,e)   & min(a+e,f,f)   & min(e+b,d+f,0)\n",
    "\\end{pmatrix}$"
   ]
  },
  {
   "cell_type": "code",
   "execution_count": 3,
   "metadata": {
    "collapsed": true
   },
   "outputs": [],
   "source": [
    "#(1,1)\n",
    "H1  = Polyhedron(eqns=[[0,1,0,1,0,0,0]],ieqs=[[0,-1,1,-1,0,1,0]])\n",
    "H2  = Polyhedron(eqns=[[0,0,1,0,0,1,0]],ieqs=[[0,1,-1,1,0,-1,0]])\n",
    "#(1,2)\n",
    "H3  = Polyhedron(ieqs=[[0,-1,1,0,0,0,1]])\n",
    "#(1,3)\n",
    "H4  = Polyhedron(ieqs=[[0,1,-1,0,1,0,0]])\n",
    "#(2,1)\n",
    "H5  = Polyhedron(ieqs=[[0,0,0,-1,1,1,0]])\n",
    "#(2,2)\n",
    "H6  = Polyhedron(eqns=[[0,1,0,1,0,0,0]],ieqs=[[0,0,0,0,1,0,1]])\n",
    "H7  = Polyhedron(eqns=[[0,0,0,0,1,0,1]],ieqs=[[0,1,0,1,0,0,0]])\n",
    "#(2,3)\n",
    "H8  = Polyhedron(ieqs=[[0,0,1,1,-1,0,0]])\n",
    "#(3,1)\n",
    "H9  = Polyhedron(ieqs=[[0,0,0,1,0,-1,1]])\n",
    "#(3,2)\n",
    "H10 = Polyhedron(ieqs=[[0,1,0,0,0,1,-1]])\n",
    "#(3,3)\n",
    "H11 = Polyhedron(eqns=[[0,0,1,0,0,1,0]],ieqs=[[0,0,0,0,1,0,1]])\n",
    "H12 = Polyhedron(eqns=[[0,0,0,0,1,0,1]],ieqs=[[0,0,1,0,0,1,0]])"
   ]
  },
  {
   "cell_type": "markdown",
   "metadata": {},
   "source": [
    "Redoing the Hyperplanes as regions"
   ]
  },
  {
   "cell_type": "code",
   "execution_count": 4,
   "metadata": {
    "collapsed": true
   },
   "outputs": [],
   "source": [
    "#(1,1)\n",
    "R1   = Polyhedron(ieqs = [[0,-1,1,-1,0,1,0],[0,-1,0,-1,0,0,0]])\n",
    "R2   = Polyhedron(ieqs = [[0,1,0,1,0,0,0],[0,0,1,0,0,1,0]])\n",
    "R3   = Polyhedron(ieqs = [[0,0,-1,0,0,-1,0],[0,1,-1,1,0,-1,0]])\n",
    "F11  = [R1,R2,R3]\n",
    "#(1,2)\n",
    "R4   = Polyhedron(ieqs = [[0,-1,1,0,0,0,1]])\n",
    "R5   = Polyhedron(ieqs = [[0,1,-1,0,0,0,-1]])\n",
    "F12  = [R4,R5]\n",
    "#(1,3)\n",
    "R6   = Polyhedron(ieqs = [[0,1,-1,0,1,0,0]])\n",
    "R7   = Polyhedron(ieqs = [[0,-1,1,0,-1,0,0]])\n",
    "F13  = [R6,R7]\n",
    "#(2,1)\n",
    "R8   = Polyhedron(ieqs = [[0,0,0,-1,1,1,0]])\n",
    "R9   = Polyhedron(ieqs = [[0,0,0,1,-1,-1,0]])\n",
    "F21  = [R8,R9]\n",
    "#(2,2)\n",
    "R10  = Polyhedron(ieqs = [[0,-1,0,-1,1,0,1],[0,-1,0,-1,0,0,0]])\n",
    "R11  = Polyhedron(ieqs = [[0,0,0,0,1,0,1],[0,1,0,1,0,0,0]])\n",
    "R12  = Polyhedron(ieqs = [[0,0,0,0,-1,0,-1],[0,1,0,1,-1,0,-1]])\n",
    "F22  = [R10,R11,R12]\n",
    "#(2,3)\n",
    "R13  = Polyhedron(ieqs = [[0,0,1,1,-1,0,0]])\n",
    "R14  = Polyhedron(ieqs = [[0,0,-1,-1,1,0,0]])\n",
    "F23  = [R13,R14]\n",
    "#(3,1)\n",
    "R15  = Polyhedron(ieqs = [[0,0,0,1,0,-1,1]])\n",
    "R16  = Polyhedron(ieqs = [[0,0,0,-1,0,1,-1]])\n",
    "F31  = [R15,R16]\n",
    "#(3,2)\n",
    "R17  = Polyhedron(ieqs = [[0,1,0,0,0,1,-1]])\n",
    "R18  = Polyhedron(ieqs = [[0,-1,0,0,0,-1,1]])\n",
    "F32  = [R17,R18]\n",
    "#(3,3)\n",
    "R19  = Polyhedron(ieqs = [[0,0,-1,0,1,-1,1],[0,0,-1,0,0,-1,0]])\n",
    "R20  = Polyhedron(ieqs = [[0,0,1,0,0,1,0],[0,0,0,0,1,0,1]])\n",
    "R21  = Polyhedron(ieqs = [[0,0,1,0,-1,1,-1],[0,0,0,0,-1,0,-1]])\n",
    "F33  = [R19,R20,R21]"
   ]
  },
  {
   "cell_type": "markdown",
   "metadata": {},
   "source": [
    "Find the feasible, full dimensional regions:"
   ]
  },
  {
   "cell_type": "code",
   "execution_count": 5,
   "metadata": {
    "collapsed": true
   },
   "outputs": [],
   "source": [
    "def regions_of_complex(polyhedral_complex):\n",
    "    r\"\"\"\n",
    "    Returns the feasible regions of the ``polyhedral_complex``.\n",
    "    Follows the method of regions in the hyperplane arrangements.\n",
    "    \n",
    "    INPUT: \n",
    "    \n",
    "    - ``polyhedral_complex`` -- list. A list of polyhedron objects\n",
    "    \n",
    "    OUTPUT:\n",
    "    \n",
    "    A tuple of regions.\n",
    "    \"\"\"\n",
    "    R = polyhedral_complex[0][0].base_ring()\n",
    "    universe = Polyhedron(eqns = [[0] + [0]*6],base_ring = R)\n",
    "    regions = [universe]\n",
    "    for fan in polyhedral_complex:\n",
    "        subdivided = []\n",
    "        for region in regions:\n",
    "            for cone in fan:\n",
    "                part = region.intersection(cone)\n",
    "                if part.dim()==6:\n",
    "                    subdivided.append(part)\n",
    "        regions = subdivided\n",
    "    return tuple(regions)"
   ]
  },
  {
   "cell_type": "markdown",
   "metadata": {},
   "source": [
    "Test it on the fans"
   ]
  },
  {
   "cell_type": "code",
   "execution_count": 6,
   "metadata": {
    "collapsed": false
   },
   "outputs": [],
   "source": [
    "six_variables_complex = [F11,F12,F13,F21,F22,F23,F31,F32,F33]\n",
    "regions = regions_of_complex(six_variables_complex)"
   ]
  },
  {
   "cell_type": "code",
   "execution_count": 7,
   "metadata": {
    "collapsed": false
   },
   "outputs": [
    {
     "data": {
      "text/plain": [
       "117"
      ]
     },
     "execution_count": 7,
     "metadata": {},
     "output_type": "execute_result"
    }
   ],
   "source": [
    "len(regions)"
   ]
  },
  {
   "cell_type": "markdown",
   "metadata": {},
   "source": [
    "Discard the infeasible regions"
   ]
  },
  {
   "cell_type": "code",
   "execution_count": 8,
   "metadata": {
    "collapsed": true
   },
   "outputs": [],
   "source": [
    "def feasible_regions(initial_regions):\n",
    "    r\"\"\"\n",
    "    From the regions of a polyhedral complex, return the feasible regions.\n",
    "    \n",
    "    INPUT:\n",
    "    \n",
    "    -  ``initial_regions`` -- tuple of polyhedron objects. \n",
    "    \n",
    "    OUTPUT:\n",
    "    \n",
    "    tuple of polyhedron objects representiing the feasible regions.\n",
    "    \"\"\"\n",
    "\n",
    "    final_regions = list(initial_regions)\n",
    "    q1 = [0,-1, 0,-1, 0, 0, 0]\n",
    "    q2 = [0, 0,-1, 0, 0,-1, 0]\n",
    "    q3 = [0, 0, 0, 0,-1, 0,-1]\n",
    "    for region in initial_regions:\n",
    "        ass = region.inequalities_list()\n",
    "        if is_valid_strict(ass, q1) or is_valid_strict(ass, q2) or is_valid_strict(ass, q3):\n",
    "            final_regions.remove(region)\n",
    "    return final_regions"
   ]
  },
  {
   "cell_type": "code",
   "execution_count": 9,
   "metadata": {
    "collapsed": false
   },
   "outputs": [],
   "source": [
    "feas_regs = feasible_regions(regions)"
   ]
  },
  {
   "cell_type": "code",
   "execution_count": 10,
   "metadata": {
    "collapsed": false
   },
   "outputs": [
    {
     "data": {
      "text/plain": [
       "18"
      ]
     },
     "execution_count": 10,
     "metadata": {},
     "output_type": "execute_result"
    }
   ],
   "source": [
    "len(feas_regs)"
   ]
  },
  {
   "cell_type": "code",
   "execution_count": 11,
   "metadata": {
    "collapsed": false
   },
   "outputs": [
    {
     "data": {
      "text/plain": [
       "[[0, 1, -1, 0, 1, 0, 0],\n",
       " [0, -1, 1, -1, 0, 1, 0],\n",
       " [0, 0, -1, 0, 0, -1, 0],\n",
       " [0, 0, 0, 1, 0, -1, 1]]"
      ]
     },
     "execution_count": 11,
     "metadata": {},
     "output_type": "execute_result"
    }
   ],
   "source": [
    "first_region= regions[0]\n",
    "first_region.inequalities_list()"
   ]
  },
  {
   "cell_type": "markdown",
   "metadata": {},
   "source": [
    "Try to get the Ehrhart polynomial for ``first_region``\n",
    "These inequalities imply the following kleene star:\n",
    "D_star_one = \n",
    "$\\begin{pmatrix}\n",
    "a+c & a & b \\\\\n",
    "c & a+c & c+b \\\\\n",
    "e  & a + e & b+e\n",
    "\\end{pmatrix}$"
   ]
  },
  {
   "cell_type": "code",
   "execution_count": 12,
   "metadata": {
    "collapsed": false
   },
   "outputs": [
    {
     "data": {
      "text/plain": [
       "[[0, -1, 1, 0, 0, 0, 1],\n",
       " [0, 0, 0, -1, 1, 1, 0],\n",
       " [0, 1, 0, 0, 0, 1, -1],\n",
       " [0, 0, 0, 1, 0, -1, 1],\n",
       " [0, 1, -1, 0, 1, 0, 0],\n",
       " [0, 0, 1, 1, -1, 0, 0]]"
      ]
     },
     "execution_count": 12,
     "metadata": {},
     "output_type": "execute_result"
    }
   ],
   "source": [
    "feas_regs[0].inequalities_list()"
   ]
  },
  {
   "cell_type": "code",
   "execution_count": 13,
   "metadata": {
    "collapsed": true
   },
   "outputs": [],
   "source": [
    "def tropical_vertices_from_region(region):\n",
    "    r\"\"\"\n",
    "    Return the symbolic tropical vertices corresponding to \n",
    "    a certain region. \n",
    "    \n",
    "    INPUT:\n",
    "    \n",
    "    - ``region`` -- a polyhedron object. \n",
    "    \n",
    "    OUTPUT:\n",
    "    \n",
    "    A list of the tropical vertices (already in the plane). \n",
    "    \"\"\"\n",
    "\n",
    "    ass = region.inequalities_list()\n",
    "    zero = vector([0, 0, 0, 0, 0, 0, 0])\n",
    "    a = vector([0, 1, 0, 0, 0, 0, 0])\n",
    "    b = vector([0, 0, 1, 0, 0, 0, 0])\n",
    "    c = vector([0, 0, 0, 1, 0, 0, 0])\n",
    "    d = vector([0, 0, 0, 0, 1, 0, 0])\n",
    "    e = vector([0, 0, 0, 0, 0, 1, 0])\n",
    "    f = vector([0, 0, 0, 0, 0, 0, 1])\n",
    "    K = [ [zero,               minimum(ass, a,b+f), minimum(ass,a+d,b)],\n",
    "          [minimum(ass,c,d+e), zero,                minimum(ass,c+b,d)],\n",
    "          [minimum(ass,f+c,e), minimum(ass, a+e,f), zero              ]]\n",
    "    a,b,c,d,e,f = var('a,b,c,d,e,f')\n",
    "    symbols_vec = vector([0,a,b,c,d,e,f])\n",
    "    Kleene = []\n",
    "    for row in K:\n",
    "        Kleene.append([ symbols_vec.dot_product(entry) for entry in row ])\n",
    "    Kleene = matrix(Kleene)\n",
    "    #subtract the first entry\n",
    "    L = list()\n",
    "    for i in range(len(Kleene.rows())):\n",
    "        new_row = list()\n",
    "        j = Kleene.row(i)[0]\n",
    "        for k in range(1,len(Kleene.row(i))):\n",
    "            new_row.append(Kleene.row(i)[k] - j)\n",
    "        L.append(new_row)\n",
    "    return L"
   ]
  },
  {
   "cell_type": "code",
   "execution_count": 14,
   "metadata": {
    "collapsed": false
   },
   "outputs": [],
   "source": [
    "verts = tropical_vertices_from_region(feas_regs[0])\n",
    "ass = feas_regs[0].inequalities_list()\n",
    "poly = polytron(ass, verts)\n"
   ]
  },
  {
   "cell_type": "code",
   "execution_count": 15,
   "metadata": {
    "collapsed": false
   },
   "outputs": [
    {
     "data": {
      "text/plain": [
       "{'assumptions': [[0, -1, 1, 0, 0, 0, 1],\n",
       "  [0, 0, 0, -1, 1, 1, 0],\n",
       "  [0, 1, 0, 0, 0, 1, -1],\n",
       "  [0, 0, 0, 1, 0, -1, 1],\n",
       "  [0, 1, -1, 0, 1, 0, 0],\n",
       "  [0, 0, 1, 1, -1, 0, 0]],\n",
       " 'edges': [[0, 3], [1, 3], [0, 4], [2, 4], [1, 5], [2, 5]],\n",
       " 'pseudo': [[a, b],\n",
       "  [-c, -c + d],\n",
       "  [-e + f, -e],\n",
       "  [-c, b],\n",
       "  [-e + f, b],\n",
       "  [-c, -e]],\n",
       " 'vertices': [[a, b], [-c, -c + d], [-e + f, -e]]}"
      ]
     },
     "execution_count": 15,
     "metadata": {},
     "output_type": "execute_result"
    }
   ],
   "source": [
    "poly"
   ]
  },
  {
   "cell_type": "code",
   "execution_count": 16,
   "metadata": {
    "collapsed": false
   },
   "outputs": [],
   "source": [
    "generating_f = gen_fct(poly).factor()"
   ]
  },
  {
   "cell_type": "code",
   "execution_count": 17,
   "metadata": {
    "collapsed": false
   },
   "outputs": [
    {
     "name": "stdout",
     "output_type": "stream",
     "text": [
      "(t1^(a*n + c*n + e*n + 2)*t2^(b*n + c*n + e*n + 2) - t1^(c*n + f*n + 1)*t2^(b*n + c*n + e*n + 2) + t1^(c*n + f*n)*t2^(b*n + c*n + e*n + 2) - t1^(e*n + 1)*t2^(b*n + c*n + e*n + 2) + t1^(e*n)*t2^(b*n + c*n + e*n + 2) - 2*t1^(a*n + c*n + e*n + 2)*t2^(b*n + c*n + e*n + 1) + t1^(c*n + f*n + 1)*t2^(b*n + c*n + e*n + 1) - t1^(c*n + f*n)*t2^(b*n + c*n + e*n + 1) + t1^(e*n + 1)*t2^(b*n + c*n + e*n + 1) - t1^(e*n)*t2^(b*n + c*n + e*n + 1) + t1^(a*n + c*n + e*n + 2)*t2^(b*n + c*n + e*n) - t1^(c*n + f*n + 2)*t2^(c*n + 1) + t1^(c*n + f*n + 1)*t2^(c*n + 1) + t1^(e*n + 1)*t2^(c*n + 1) - t1^(e*n)*t2^(c*n + 1) + t1^(c*n + f*n + 2)*t2^(c*n) - t1^(c*n + f*n + 1)*t2^(c*n) - t1^(e*n + 1)*t2^(c*n) + t1^(e*n)*t2^(c*n) - t1^(e*n + 2)*t2^(d*n + e*n + 1) + 2*t1^(e*n + 1)*t2^(d*n + e*n + 1) - t1^(e*n)*t2^(d*n + e*n + 1))*t1^(-c*n - e*n)*t2^(-c*n - e*n)/((t1 - 1)^2*(t2 - 1)^2)\n"
     ]
    }
   ],
   "source": [
    "print generating_f"
   ]
  },
  {
   "cell_type": "markdown",
   "metadata": {},
   "source": [
    "Try to compute the generating function for all feasible regions. This works for all but region 12 and 16:"
   ]
  },
  {
   "cell_type": "code",
   "execution_count": 18,
   "metadata": {
    "collapsed": false
   },
   "outputs": [
    {
     "name": "stdout",
     "output_type": "stream",
     "text": [
      "cannot find primitive vector in direction ((0, -1, 0, 0, -1, -1, 0) , (0, -1, 0, 0, -1, -1, 0))\n",
      "impossible to compute generating function for region 12\n",
      "cannot find primitive vector in direction ((0, 0, -1, -1, 0, 0, -1) , (0, 0, 0, 0, 0, 0, 0))\n",
      "impossible to compute generating function for region 16\n"
     ]
    }
   ],
   "source": [
    "count = -1\n",
    "generating_fcts = []\n",
    "for region in feas_regs:\n",
    "    verts = tropical_vertices_from_region(region)\n",
    "    ass = region.inequalities_list()\n",
    "    poly = polytron(ass, verts)\n",
    "    count += 1\n",
    "    try:\n",
    "        generating_f = gen_fct(poly).factor()\n",
    "        generating_fcts.append(generating_f)\n",
    "    except:\n",
    "        print 'impossible to compute generating function for region '+str(count)\n",
    "        continue\n",
    "    "
   ]
  },
  {
   "cell_type": "markdown",
   "metadata": {},
   "source": [
    "Replace all variables by $(1-t)$ and apply l'hopital in order to evaluate the generating function at $(1,\\dots,1)$:"
   ]
  },
  {
   "cell_type": "code",
   "execution_count": 19,
   "metadata": {
    "collapsed": true
   },
   "outputs": [],
   "source": [
    "def lhopital(generating_f):\n",
    "    #substitute all variables by (1-t)\n",
    "    t = var('t')\n",
    "    for j in range(1,3):\n",
    "         generating_f = generating_f.subs({var('t'+str(j)):1-t})\n",
    "        #generating_f = generating_f.subs({var('t'+str(j)):1-j*t})\n",
    "    \n",
    "    #l'hopital\n",
    "    p = generating_f.numerator()\n",
    "    q = generating_f.denominator()\n",
    "    alpha = 0\n",
    "    p_deriv= p\n",
    "    q_deriv = q\n",
    "    while true:\n",
    "        p_deriv = p_deriv.derivative(t)\n",
    "        q_deriv = q_deriv.derivative(t)\n",
    "        alpha += 1\n",
    "        if not (p_deriv(t=0)==0 or q_deriv(t=0)==0):\n",
    "            break\n",
    "    return p_deriv(t=0)/q_deriv(t=0)"
   ]
  },
  {
   "cell_type": "markdown",
   "metadata": {},
   "source": [
    "Evaluate the generating functions of all regions but 12 and 16 at $(1,\\dots,1)$:"
   ]
  },
  {
   "cell_type": "code",
   "execution_count": 20,
   "metadata": {
    "collapsed": true
   },
   "outputs": [],
   "source": [
    "multivariate_ehrhart = []\n",
    "for generating_f in generating_fcts:\n",
    "    multivariate_ehrhart.append(lhopital(generating_f).simplify_full())"
   ]
  },
  {
   "cell_type": "code",
   "execution_count": 21,
   "metadata": {
    "collapsed": false
   },
   "outputs": [
    {
     "data": {
      "text/plain": [
       "[1/2*(a^2 + 2*a*b - b^2 + 2*b*c - 4*c^2 + 4*c*d - d^2 + 2*(b + c)*e - 4*e^2 - 2*(b - 3*e)*f - 2*f^2)*n^2 + 1/2*(3*a + b + 4*c - d + 4*e - 2*f)*n + 1,\n",
       " 1/2*(2*a*b + 2*b*c - c^2 + 2*c*d - d^2 + 2*(a + c)*e)*n^2 + 1/2*(2*a + 2*b + 3*c - d + 2*e)*n + 1,\n",
       " 1/2*(a^2 + 2*a*b - b^2 + 2*(a + b)*c + c^2 + 2*c*d - d^2 + 2*c*f + f^2)*n^2 + 1/2*(3*a + b + 5*c - d + f)*n + 1,\n",
       " 1/2*(a^2 + 2*a*b - b^2 + 2*b*c + 2*(a + c)*e - e^2 - 2*(b - e)*f - 2*f^2)*n^2 + 1/2*(3*a + b + 2*c + 3*e - 2*f)*n + 1,\n",
       " (a*b + b*c + (a + c)*e)*n^2 + (a + b + c + e)*n + 1,\n",
       " 1/2*(a^2 + 2*a*b - b^2 + 2*(a + b)*c + 2*c^2 + 2*c*f + f^2)*n^2 + 1/2*(3*a + b + 4*c + f)*n + 1,\n",
       " 1/2*(a^2 + 2*a*b - b^2 + 2*b*d + 2*(a + b + d)*e + e^2 - 2*(b - e)*f - 2*f^2)*n^2 + 1/2*(3*a + b + 2*d + 5*e - 2*f)*n + 1,\n",
       " (a*b + b*d + (a + b + d)*e + e^2)*n^2 + (a + b + d + 2*e)*n + 1,\n",
       " (a^2 + a*c - 2*c^2 + 3*c*d - d^2 + (a + c + d)*e - 2*e^2 - (a + d - 3*e)*f - f^2)*n^2 + (2*a + 2*c + 2*e - f)*n + 1,\n",
       " 1/2*(2*a^2 + 2*a*c - c^2 + 2*(a + 2*c)*d - d^2 + 2*(a + c)*e)*n^2 + 1/2*(4*a + 3*c + d + 2*e)*n + 1,\n",
       " 1/2*(2*a^2 + 4*a*c + c^2 + 4*c*d - 2*d^2 + 2*c*f + f^2)*n^2 + 1/2*(4*a + 5*c + f)*n + 1,\n",
       " 1/2*(2*a^2 + 2*a*d + d^2 + 4*(a + d)*e + e^2 - 2*(a + d - e)*f - 2*f^2)*n^2 + 1/2*(4*a + 3*d + 5*e - 2*f)*n + 1,\n",
       " 1/2*(2*b^2 + 2*b*c - 4*c^2 + 4*c*d - d^2 + 2*(b + c)*e - 4*e^2 + 2*(b + 3*e)*f - f^2)*n^2 + 1/2*(4*b + 4*c - d + 4*e + f)*n + 1,\n",
       " 1/2*(2*b^2 + 4*b*c + c^2 + 2*c*d - d^2 + 4*(b + c)*f + 2*f^2)*n^2 + 1/2*(4*b + 5*c - d + 4*f)*n + 1,\n",
       " 1/2*(2*b^2 + 2*b*c + 2*(b + c)*e - e^2 + 2*(b + 2*e)*f - f^2)*n^2 + 1/2*(4*b + 2*c + 3*e + f)*n + 1,\n",
       " 1/2*(2*b^2 + 2*b*d + 2*(2*b + d)*e + e^2 + 2*(b + 2*e)*f - f^2)*n^2 + 1/2*(4*b + 2*d + 5*e + f)*n + 1]"
      ]
     },
     "execution_count": 21,
     "metadata": {},
     "output_type": "execute_result"
    }
   ],
   "source": [
    "multivariate_ehrhart"
   ]
  },
  {
   "cell_type": "markdown",
   "metadata": {},
   "source": [
    "Let's have a closer look at region 16. Above, we cannot decide whether $-b-c-f\\geq 0$ or $-b-c-f\\leq 0$. <br/>\n",
    "If we add $-b-c-f\\geq 0$ to our list of assumptions, the code runs through:"
   ]
  },
  {
   "cell_type": "code",
   "execution_count": 23,
   "metadata": {
    "collapsed": false
   },
   "outputs": [
    {
     "data": {
      "text/plain": [
       "1/2*(b^2 + 2*b*c + c^2 + 2*(b + c)*f + f^2)*n^2 - 3/2*(b + c + f)*n + 1"
      ]
     },
     "execution_count": 23,
     "metadata": {},
     "output_type": "execute_result"
    }
   ],
   "source": [
    "region = feas_regs[16]\n",
    "verts = tropical_vertices_from_region(region)\n",
    "ass = region.inequalities_list()+[[ 0, 0,-1,-1, 0, 0,-1]]\n",
    "poly = polytron(ass, verts)\n",
    "generating_f = gen_fct(poly).factor()\n",
    "ehrhart = lhopital(generating_f).simplify_full()\n",
    "ehrhart"
   ]
  },
  {
   "cell_type": "markdown",
   "metadata": {},
   "source": [
    "If we instead add $b+c+f\\geq 0$ to our list of assumptions, the code runs through as well and yields a different Ehrhart polynomial."
   ]
  },
  {
   "cell_type": "code",
   "execution_count": 24,
   "metadata": {
    "collapsed": false
   },
   "outputs": [
    {
     "data": {
      "text/plain": [
       "(b^2 + 2*b*c + c^2 + 2*(b + c)*f + f^2)*n^2 + 2*(b + c + f)*n + 1"
      ]
     },
     "execution_count": 24,
     "metadata": {},
     "output_type": "execute_result"
    }
   ],
   "source": [
    "verts = tropical_vertices_from_region(region)\n",
    "ass = region.inequalities_list()+[[ 0, 0, 1, 1, 0, 0, 1]]\n",
    "poly = polytron(ass, verts)\n",
    "generating_f = gen_fct(poly).factor()\n",
    "ehrhart = lhopital(generating_f).simplify_full()\n",
    "ehrhart"
   ]
  },
  {
   "cell_type": "markdown",
   "metadata": {},
   "source": [
    "Analogously, we can do the same for region 12 with the inequalities $a+d+e \\geq 0$ and $a+d+e \\leq 0$. This time, we get the same polytron and thus the same Ehrhart polynomial."
   ]
  },
  {
   "cell_type": "code",
   "execution_count": 25,
   "metadata": {
    "collapsed": false
   },
   "outputs": [
    {
     "data": {
      "text/plain": [
       "{'assumptions': [[0, -1, 0, 0, 0, -1, 1],\n",
       "  [0, -1, 1, 0, -1, 0, 0],\n",
       "  [0, 0, 0, 0, 1, 0, 1],\n",
       "  [0, 0, 0, 1, -1, -1, 0],\n",
       "  [0, 0, 1, 0, 0, 1, 0],\n",
       "  [0, 1, 0, 1, 0, 0, 0],\n",
       "  [0, -1, 0, 0, -1, -1, 0]],\n",
       " 'edges': [[0, 1], [0, 3], [2, 3], [1, 2]],\n",
       " 'pseudo': [[b + f, b], [-c, b], [-c, -c - f], [-c, b]],\n",
       " 'vertices': [[b + f, b], [-c, b], [-c, -c - f]]}"
      ]
     },
     "execution_count": 25,
     "metadata": {},
     "output_type": "execute_result"
    }
   ],
   "source": [
    "region = feas_regs[12]\n",
    "ass = region.inequalities_list()+[[0, -1, 0, 0, -1, -1, 0]]\n",
    "poly = polytron(ass, verts)\n",
    "generating_f = gen_fct(poly).factor()\n",
    "ehrhart = lhopital(generating_f).simplify_full()\n",
    "#print ehrhart\n",
    "poly"
   ]
  },
  {
   "cell_type": "code",
   "execution_count": 26,
   "metadata": {
    "collapsed": false
   },
   "outputs": [
    {
     "data": {
      "text/plain": [
       "{'assumptions': [[0, -1, 0, 0, 0, -1, 1],\n",
       "  [0, -1, 1, 0, -1, 0, 0],\n",
       "  [0, 0, 0, 0, 1, 0, 1],\n",
       "  [0, 0, 0, 1, -1, -1, 0],\n",
       "  [0, 0, 1, 0, 0, 1, 0],\n",
       "  [0, 1, 0, 1, 0, 0, 0],\n",
       "  [0, 1, 0, 0, 1, 1, 0]],\n",
       " 'edges': [[0, 1], [0, 3], [2, 3], [1, 2]],\n",
       " 'pseudo': [[b + f, b], [-c, b], [-c, -c - f], [-c, b]],\n",
       " 'vertices': [[b + f, b], [-c, b], [-c, -c - f]]}"
      ]
     },
     "execution_count": 26,
     "metadata": {},
     "output_type": "execute_result"
    }
   ],
   "source": [
    "ass = region.inequalities_list()+[[0, 1, 0, 0, 1, 1, 0]]\n",
    "poly = polytron(ass, verts)\n",
    "generating_f = gen_fct(poly).factor()\n",
    "ehrhart = lhopital(generating_f).simplify_full()\n",
    "#print ehrhart\n",
    "poly"
   ]
  },
  {
   "cell_type": "code",
   "execution_count": null,
   "metadata": {
    "collapsed": true
   },
   "outputs": [],
   "source": []
  },
  {
   "cell_type": "code",
   "execution_count": null,
   "metadata": {
    "collapsed": true
   },
   "outputs": [],
   "source": []
  },
  {
   "cell_type": "code",
   "execution_count": null,
   "metadata": {
    "collapsed": true
   },
   "outputs": [],
   "source": []
  },
  {
   "cell_type": "markdown",
   "metadata": {
    "collapsed": true
   },
   "source": [
    "old stuff"
   ]
  },
  {
   "cell_type": "markdown",
   "metadata": {},
   "source": [
    "Extend the list of assumptions by adding pairs of assumptions of the form $2a + b - c > 0, c + d > 0$ to $2a + b + d > 0$"
   ]
  },
  {
   "cell_type": "code",
   "execution_count": null,
   "metadata": {
    "collapsed": true
   },
   "outputs": [],
   "source": [
    "import re\n",
    "def extend_assumptions(integer):\n",
    "    #integer is the number of rounds in which we combine each pair\n",
    "    for i in range(integer):\n",
    "        #extract all inequalities\n",
    "        #assuming that all inequalities are of the form \"2a+b-c>0\"\n",
    "        pos_str = []\n",
    "        for assumption in assumptions():\n",
    "            asstr = str(assumption)\n",
    "            if re.search(\" > 0\", asstr):\n",
    "                pos_str.append(re.split(\" > \", asstr)[0])\n",
    "\n",
    "        #try to add combined assumptions\n",
    "        for term1 in pos_str:\n",
    "            for term2 in pos_str:\n",
    "                try:\n",
    "                    eval('assume('+term1+' + '+term2+' > 0)')\n",
    "                except:\n",
    "                    continue   "
   ]
  },
  {
   "cell_type": "markdown",
   "metadata": {},
   "source": [
    "two variables case"
   ]
  },
  {
   "cell_type": "code",
   "execution_count": null,
   "metadata": {
    "collapsed": true
   },
   "outputs": [],
   "source": [
    "a, b = var('a, b')\n",
    "forget(assumptions())\n",
    "assume( a>-1, -a-3<b, -b - 2<0)\n",
    "\n",
    "vertices = [[b,1],[-a-3,-a],[b,-a]]\n",
    "polytron = compute_pseudovertices(vertices)\n",
    "#print polytron\n",
    "\n",
    "#print gen_fct(polytron).numerator_denominator() \n",
    "generating_f = gen_fct(polytron).factor()\n",
    "print generating_f\n",
    "ehrhart(polytron,[0,0])"
   ]
  },
  {
   "cell_type": "code",
   "execution_count": null,
   "metadata": {
    "collapsed": false
   },
   "outputs": [],
   "source": [
    "#substitute all variables by (1-t)\n",
    "t = var('t')\n",
    "for j in range(1,3):\n",
    "     generating_f = generating_f.subs({var('t'+str(j)):1-t})\n",
    "    #generating_f = generating_f.subs({var('t'+str(j)):1-j*t})\n",
    "print generating_f"
   ]
  },
  {
   "cell_type": "code",
   "execution_count": null,
   "metadata": {
    "collapsed": false
   },
   "outputs": [],
   "source": [
    "#l'hopital\n",
    "p = generating_f.numerator()\n",
    "q = generating_f.denominator()\n",
    "alpha = 0\n",
    "p_deriv= p\n",
    "q_deriv = q\n",
    "while true:\n",
    "    p_deriv = p_deriv.derivative(t)\n",
    "    q_deriv = q_deriv.derivative(t)\n",
    "    alpha += 1\n",
    "    if not (p_deriv(t=0)==0 or q_deriv(t=0)==0):\n",
    "        break\n",
    "result = p_deriv(t=0)/q_deriv(t=0)\n",
    "print result.simplify_full()"
   ]
  },
  {
   "cell_type": "code",
   "execution_count": null,
   "metadata": {
    "collapsed": false
   },
   "outputs": [],
   "source": [
    "result(a=1,b=0).simplify_full()"
   ]
  }
 ],
 "metadata": {
  "kernelspec": {
   "display_name": "SageMath 7.4",
   "language": "",
   "name": "sagemath"
  },
  "language_info": {
   "codemirror_mode": {
    "name": "ipython",
    "version": 2
   },
   "file_extension": ".py",
   "mimetype": "text/x-python",
   "name": "python",
   "nbconvert_exporter": "python",
   "pygments_lexer": "ipython2",
   "version": "2.7.10"
  }
 },
 "nbformat": 4,
 "nbformat_minor": 2
}
