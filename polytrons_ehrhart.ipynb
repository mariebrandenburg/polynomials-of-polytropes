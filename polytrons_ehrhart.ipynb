{
 "cells": [
  {
   "cell_type": "code",
   "execution_count": null,
   "metadata": {
    "collapsed": false
   },
   "outputs": [],
   "source": [
    "\"\"\"def intersect_trop_lines(assumptions, first,second):\n",
    "    a = first[0]\n",
    "    b = first[1]\n",
    "    c = second[0]\n",
    "    d = second[1]\n",
    "    #anchored at (c,d)\n",
    "    if a>c and b>d and a>b: #1\n",
    "        return [c+b,d+b]\n",
    "    if a>c and b>d and a<b: #2\n",
    "        return [c+a,d+a]\n",
    "    if a>c and b>d and a==b:\n",
    "        return [c+b-d,b]\n",
    "    if a<c and b>d: #3\n",
    "        return [a,d]\n",
    "    if a<c and b<d and a<b: #4\n",
    "        return [a+d-b,d]\n",
    "    if a<c and b<d and a>b: #5\n",
    "        return [c,b+c-a]\n",
    "    if a<c and b<d and a==b:\n",
    "        return [c,b+c-a]\n",
    "    if a>c and d>b: #6\n",
    "        return [c,b]\n",
    "    #anchored at (a,b)\n",
    "    if c>a and d>b and c>d: #1\n",
    "        return [a+d,b+d]\n",
    "    if c>a and d>b and c<d: #2\n",
    "        return [a+c,b+c]\n",
    "    if c>a and d>b and c==d:\n",
    "        return [a+d-b,d]\n",
    "    if c<a and d>b: #3\n",
    "        return [c,b]\n",
    "    if c<a and d<b and c<d: #4\n",
    "        return [c+b-d,b]\n",
    "    if c<a and d<b and c>d: #5\n",
    "        return [a,d+a-c]\n",
    "    if c<a and d<b and c==d:\n",
    "        return [a,d+a-c]\n",
    "    if c>a and b>d: #6\n",
    "        return [a,d]\n",
    "    \n",
    "    \n",
    "def polytron(assumptions, vertices):\n",
    "    pseudovertices = copy(vertices)\n",
    "    edges = []\n",
    "    for pair in Subsets(range(len(vertices)),2):\n",
    "        if intersect_trop_lines(assumptions, vertices[pair[0]],vertices[pair[1]]):\n",
    "            pseudovertices.append(intersect_trop_lines(vertices[pair[0]],vertices[pair[1]]))\n",
    "            index = len(pseudovertices)-1\n",
    "            edges.append([pair[0],index])\n",
    "            edges.append([pair[1],index])\n",
    "        else:\n",
    "            edges.append(list(pair))\n",
    "    return {'pseudo': pseudovertices, 'edges': edges, 'vertices': vertices}\n",
    "\n",
    "\n",
    "def tangent_cone(polytron, vertex_index):\n",
    "    \n",
    "    def primitive_vector_in_edge_direction(direction):\n",
    "        x = direction[0]\n",
    "        y = direction[1]\n",
    "        if x==0 and y>0:\n",
    "            primitive = [ 0, 1]\n",
    "        elif x==0 and y<0:\n",
    "            primitive = [ 0,-1]\n",
    "        elif x>0 and y>0:\n",
    "            primitive = [ 1, 1]\n",
    "        elif x>0 and y==0:\n",
    "            primitive = [ 1, 0]\n",
    "        elif x<0 and y==0:\n",
    "            primitive = [-1, 0]\n",
    "        elif x<0 and y<0:\n",
    "            primitive = [-1,-1]\n",
    "        else:\n",
    "            print 'cannot find primitive vector in direction ('+str(x)+' , '+str(y)+')'\n",
    "        return primitive\n",
    "    \n",
    "    ##compute the generating function of the tangent cone at the given vertex\n",
    "    vertex = polytron['pseudo'][vertex_index]\n",
    "    \n",
    "    \n",
    "    #find neighbours of vertex\n",
    "    incident_edges_index = [edge for edge in polytron[\"edges\"] if vertex_index in edge]\n",
    "    neighbours_index = []\n",
    "    for edge_index in incident_edges_index:\n",
    "        for index in edge_index:\n",
    "            if index==vertex_index:\n",
    "                continue\n",
    "            else:\n",
    "                neighbours_index.append(index)    \n",
    "    neighbours = [ polytron['pseudo'][index] for index in neighbours_index ]\n",
    "    \n",
    "    #compute edge-directions\n",
    "    edge_directions = [ [neighbour[0]-vertex[0],neighbour[1]-vertex[1]] for neighbour in neighbours ]\n",
    "    \n",
    "    primitives=[]\n",
    "    #find primitive vector in edge-direction\n",
    "    for direction in edge_directions:\n",
    "        primitives.append(primitive_vector_in_edge_direction(direction))\n",
    "    \n",
    "    \n",
    "    t1, t2, n = var('t1, t2, n')\n",
    "    return ( t1^(n*vertex[0])* t2^(n*vertex[1]) )  / ( (1 - t1^primitives[0][0] * t2^primitives[0][1]) * (1 - t1^primitives[1][0] * t2^primitives[1][1])  )\n",
    "\n",
    "def gen_fct(polytron):\n",
    "    return sum([tangent_cone(polytron,vertex_index) for vertex_index in range(len(polytron[\"pseudo\"]))])\n",
    "\n",
    "def ehrhart(polytron,evaluation):\n",
    "    solutions = [gen_fct(polytron)(a=evaluation[0],b=evaluation[1]).factor()(n=k).factor()(t1=1,t2=1) for k in range(1,4)]\n",
    "    mat = matrix([ [1,1,1],\n",
    "                   [4,2,1],\n",
    "                   [9,3,1] ])\n",
    "    coeffs = mat.solve_right(vector(solutions))\n",
    "    t = var('t')\n",
    "    return sum(coeffs[i]*t^(2-i) for i in range(3))\n",
    "        \n",
    "\"\"\""
   ]
  },
  {
   "cell_type": "code",
   "execution_count": 6,
   "metadata": {
    "collapsed": true
   },
   "outputs": [],
   "source": [
    "forget()\n",
    "a,b,c,d,e,f = var('a,b,c,d,e,f')"
   ]
  },
  {
   "cell_type": "markdown",
   "metadata": {},
   "source": [
    "We identify symbolic inequalities by the respective vector, \n",
    "e.g. we identify $a - c > 0$ with [0, 1, 0,-1, 0, 0, 0].\n",
    "The feasible region for a list of assumption is then (the interior of) a polehedral cone $P$ which is defined by\n",
    "the huperplanes orthogonal to these vectors. If we want to test if another symbolic inequality is valid, \n",
    "we can consider the intersection of the Halfspace $H$ orthogonal to the respective inequality and $P$.\n",
    "If both the assumptions and the inequality in question are strict, then it is valid iff $\\text{int} P\\subseteq\\text{int}H$,"
   ]
  },
  {
   "cell_type": "code",
   "execution_count": 7,
   "metadata": {
    "collapsed": false
   },
   "outputs": [],
   "source": [
    "def symbols_to_vector(symbolic_expression):\n",
    "    symbols_vec = [0,a,b,c,d,e,f]\n",
    "    string = str(symbolic_expression)\n",
    "    vec = [0,0,0,0,0,0,0]\n",
    "    sign = 1\n",
    "    if string == \"0\":\n",
    "        return vector(vec)\n",
    "    for letter in string:\n",
    "        if letter in [\" \"]:\n",
    "            continue\n",
    "        elif letter in [\"+\"]:\n",
    "            sign = 1\n",
    "        elif letter in [\"-\"]:\n",
    "            sign = -1\n",
    "        elif var(letter) in symbols_vec:\n",
    "            index = symbols_vec.index(var(letter))\n",
    "            vec[index] = 1*sign\n",
    "    return vector(vec)\n",
    "\n",
    "class expression:\n",
    "    \n",
    "    def __init__(self, coordinates, assumptions):\n",
    "        self.assumptions = assumptions\n",
    "        self.coordinates = vector(coordinates)\n",
    "        \n",
    "    def is_valid_strict(self):\n",
    "        #checks if a strict inequality (question) is satified under the assumptions of other strict inequalities\n",
    "        #this is not satisfied if intP interected with H_c is nonempty\n",
    "        P = Polyhedron(ieqs = self.assumptions)\n",
    "        #complement of halfspace defined by strict inequality in question\n",
    "        H_c = Polyhedron(ieqs = [[-i for i in self.coordinates]]) \n",
    "        if len(H_c.intersection(P).vertices())==0:\n",
    "            return true\n",
    "        else:\n",
    "            for F in P.faces(5):\n",
    "                if H_c.intersection(F.as_polyhedron()) == H_c.intersection(P):\n",
    "                    return true\n",
    "        return false\n",
    "    \n",
    "    def is_valid_nonstrict(self):\n",
    "        #checks if a non-strict inequality (question) is satified under the assumptions of other strict inequalities\n",
    "        #this is satisfied if intP is contained in H. H is closed, so this is equivalent to P contianed in H\n",
    "        P = Polyhedron(ieqs = self.assumptions)\n",
    "        H = Polyhedron(ieqs = [self.coordinates]) \n",
    "        if H.intersection(P)==P:\n",
    "            return true\n",
    "        else:     \n",
    "            return false\n",
    "\n",
    "    def  __gt__(self, other):\n",
    "        #definition of >\n",
    "        #return self.is_valid_strict(assumptions, self.coordinates - other.coordinates)\n",
    "        return expression(coordinates = self.coordinates - other.coordinates, assumptions = self.assumptions).is_valid_strict()\n",
    "    \n",
    "    def __lt__(self,other):\n",
    "        #definition of <\n",
    "        return expression(coordinates = other.coordinates - self.coordinates, assumptions = self.assumptions).is_valid_strict()\n",
    "    \n",
    "    def __eq__(self, other):\n",
    "        #definition of ==\n",
    "        if expression(coordinates = self.coordinates - other.coordinates, assumptions = self.assumptions).is_valid_nonstrict() and expression(coordinates = other.coordinates - self.coordinates, assumptions = self.assumptions).is_valid_nonstrict(): \n",
    "            return true\n",
    "        else:\n",
    "            return false\n",
    "    \n",
    "    def __le__(self, other):\n",
    "        #definition of <=\n",
    "        return (self<other or self==other)\n",
    "    \n",
    "    def __ge__(self, other):\n",
    "        #definition of >=\n",
    "        return (self>other or self==other)\n",
    "    \n",
    "    def __add__(self,other):\n",
    "        #definition of +\n",
    "        return expression(coordinates = self.coordinates + other.coordinates, assumptions = self.assumptions)\n",
    "    \n",
    "    def is_comparable_to(self, other):\n",
    "        if self>= other or self <= other:\n",
    "            return true\n",
    "        else:\n",
    "            return false\n",
    "        \n",
    "    def as_symbols(self):\n",
    "        symbols_vec = vector([0,a,b,c,d,e,f])\n",
    "        return symbols_vec.dot_product(vector(self.coordinates))\n",
    "    \n",
    "\n",
    "\n",
    "def minimum(expr1, expr2):\n",
    "    if expr1 <= expr2:\n",
    "        return expr1\n",
    "    elif expr2 <= expr1:\n",
    "        return expr2\n",
    "    else:\n",
    "        print(\"cannot decide minimum of \"+str(ieq1)+\" and \"+str(ieq2)+\" under assumptions \"+str(assumptions))\n",
    "\n",
    "def intersect_trop_lines(assumptions, first,second):\n",
    "    #translate symbolic expressions into vectors\n",
    "    a_ex = expression(assumptions = assumptions, coordinates = symbols_to_vector(first[0]))\n",
    "    b_ex = expression(assumptions = assumptions, coordinates = symbols_to_vector(first[1]))\n",
    "    c_ex = expression(assumptions = assumptions, coordinates = symbols_to_vector(second[0]))\n",
    "    d_ex = expression(assumptions = assumptions, coordinates = symbols_to_vector(second[1]))\n",
    "    res = []\n",
    "    #anchored at (c,d)\n",
    "    if a_ex>c_ex and b_ex>d_ex and a_ex>b_ex: #1\n",
    "        res =  [c_ex+b_ex,d_ex+b_ex]\n",
    "    if a_ex>c_ex and b_ex>d_ex and b_ex>a_ex: #2\n",
    "        res =  [c_ex+a_ex,d_ex+a_ex]\n",
    "    if a_ex>c_ex and b_ex>d_ex and a_ex==b_ex:\n",
    "        res =  [c_ex+b_ex-d_ex,b_ex]\n",
    "    if a_ex<c_ex and b_ex>d_ex: #3\n",
    "        res =  [a,d]\n",
    "    if a_ex<c_ex and b_ex<d_ex and a_ex<b_ex: #4\n",
    "        res =  [a_ex+d_ex-b_ex,d_ex]\n",
    "    if a_ex<c_ex and b_ex<d_ex and a_ex>b_ex: #5\n",
    "        res =  [c_ex,b_ex+c_ex-a_ex]\n",
    "    if a_ex<c_ex and b_ex<d_ex and a_ex==b_ex:\n",
    "        res =  [c_ex,b_ex+c_ex-a_ex]\n",
    "    if a_ex>c_ex and d_ex>b_ex: #6\n",
    "        res =  [c_ex,b_ex]\n",
    "    #anchored at (a,b)\n",
    "    if c_ex>a_ex and d_ex>b_ex and c_ex>d_ex: #1\n",
    "        res = [a_ex+d_ex,b_ex+d_ex]\n",
    "    if c_ex>a_ex and d_ex>b_ex and c_ex<d_ex: #2\n",
    "        res = [a_ex+c_ex,b_ex+c_ex]\n",
    "    if c_ex>a_ex and d_ex>b_ex and c_ex==d_ex:\n",
    "        res = [a_ex+d_ex-b_ex,d_ex]\n",
    "    if c_ex<a_ex and d_ex>b_ex: #3\n",
    "        res = [c_ex,b_ex]\n",
    "    if c_ex<a_ex and d_ex<b_ex and c_ex<d_ex: #4\n",
    "        res = [c_ex+b_ex-d_ex,b_ex]\n",
    "    if c_ex<a_ex and d_ex<b_ex and c_ex>d_ex: #5\n",
    "        res = [a_ex,d_ex+a_ex-c_ex]\n",
    "    if c_ex<a_ex and d_ex<b_ex and c_ex==d_ex:\n",
    "        res = [a_ex,d_ex+a_ex-c_ex]\n",
    "    if c_ex>a_ex and b_ex>d_ex: #6\n",
    "        res = [a_ex,d_ex]\n",
    "        \n",
    "    if len(res):\n",
    "        return [el.as_symbols() for el in res]\n",
    "    \n",
    "    \n",
    "class polytron:\n",
    "    def __init__(self, assumptions, vertices):\n",
    "        self.assumptions = assumptions\n",
    "        self.vertices = vertices\n",
    "        self.pseudovertices = self.get_pseudo_and_edges(assumptions, vertices)[0]\n",
    "        self.edges = self.get_pseudo_and_edges(assumptions, vertices)[1]\n",
    "        \n",
    "    def get_pseudo_and_edges(self, assumptions, vertices):\n",
    "        pseudovertices = copy(vertices)\n",
    "        edges = []\n",
    "        for pair in Subsets(range(len(vertices)),2):\n",
    "            if intersect_trop_lines(assumptions, vertices[pair[0]],vertices[pair[1]]):\n",
    "                pseudovertices.append(intersect_trop_lines(assumptions, vertices[pair[0]],vertices[pair[1]]))\n",
    "                index = len(pseudovertices)-1\n",
    "                edges.append([pair[0],index])\n",
    "                edges.append([pair[1],index])\n",
    "            else:\n",
    "                edges.append(list(pair))\n",
    "        return [pseudovertices, edges]\n",
    "\n",
    "\n",
    "def tangent_cone(polytron, vertex_index):\n",
    "    \n",
    "    def primitive_vector_in_edge_direction(assumptions, direction):\n",
    "        x = expression(assumptions = assumptions, coordinates = symbols_to_vector(direction[0]))\n",
    "        y = expression(assumptions = assumptions, coordinates = symbols_to_vector(direction[1]))\n",
    "        x_negative = expression(assumptions = assumptions, coordinates = [-i for i in x.coordinates])\n",
    "        y_negative = expression(assumptions = assumptions, coordinates = [-i for i in y.coordinates])\n",
    "        zero = expression(assumptions = assumptions, coordinates = [0,0,0,0,0,0,0])\n",
    "        \n",
    "        if x==zero and y>zero:\n",
    "            primitive = [ 0, 1]\n",
    "        elif x==zero and y<zero:\n",
    "            primitive = [ 0,-1]\n",
    "        elif x>zero and y>zero:\n",
    "            primitive = [ 1, 1]\n",
    "        elif x>zero and y==zero:\n",
    "            primitive = [ 1, 0]\n",
    "        elif x<zero and y==zero:\n",
    "            primitive = [-1, 0]\n",
    "        elif x<zero and y<zero:\n",
    "            primitive = [-1,-1]\n",
    "        else:\n",
    "            print 'cannot find primitive vector in direction ('+str(x.coordinates)+' , '+str(y.coordinates)+') under assumptions '+str(x.assumptions)\n",
    "        return primitive\n",
    "    \n",
    "    ##compute the generating function of the tangent cone at the given vertex\n",
    "    vertex = polytron.pseudovertices[vertex_index]\n",
    "    \n",
    "    \n",
    "    #find neighbours of vertex\n",
    "    incident_edges_index = [edge for edge in polytron.edges if vertex_index in edge]\n",
    "    neighbours_index = []\n",
    "    for edge_index in incident_edges_index:\n",
    "        for index in edge_index:\n",
    "            if index==vertex_index:\n",
    "                continue\n",
    "            else:\n",
    "                neighbours_index.append(index)    \n",
    "    neighbours = [ polytron.pseudovertices[index] for index in neighbours_index ]\n",
    "    \n",
    "    #compute edge-directions\n",
    "    edge_directions = [ [neighbour[0]-vertex[0],neighbour[1]-vertex[1]] for neighbour in neighbours ]\n",
    "    \n",
    "    primitives=[]\n",
    "    #find primitive vector in edge-direction\n",
    "    for direction in edge_directions:\n",
    "        primitives.append(primitive_vector_in_edge_direction(polytron.assumptions, direction))\n",
    "    \n",
    "    \n",
    "    t1, t2, n = var('t1, t2, n')\n",
    "    return ( t1^(n*vertex[0])* t2^(n*vertex[1]) )  / ( (1 - t1^primitives[0][0] * t2^primitives[0][1]) * (1 - t1^primitives[1][0] * t2^primitives[1][1])  )\n",
    "\n",
    "\n",
    "def gen_fct(polytron):\n",
    "    return sum([tangent_cone(polytron,vertex_index) for vertex_index in range(len(polytron.pseudovertices))])\n"
   ]
  },
  {
   "cell_type": "markdown",
   "metadata": {},
   "source": [
    "Instead of symbolic expressions, we work with the class ``expression``. An ``expression`` consists two things: <br/>\n",
    "1. The ``coordinates`` is a $0/1$-vector, that corresponds to a symbolic expression. <br/>\n",
    "2. The ``assumptions`` is a list of assumption, also corresponding to symbolic axressions. <br/>\n",
    "The expression ``e1`` below corrsponds to the symbolic expression $a>0$ under the assumptions $a>0, a+b>0$, the expression ``e2`` corresponds to the symbolic expression $b$ under the same assumption, and ``zero`` corresponds to $0$. We can now test, if $a>0$ is valid under these assumptions."
   ]
  },
  {
   "cell_type": "code",
   "execution_count": 29,
   "metadata": {
    "collapsed": false
   },
   "outputs": [
    {
     "name": "stdout",
     "output_type": "stream",
     "text": [
      "a\n",
      "b\n",
      "0\n",
      "True\n"
     ]
    }
   ],
   "source": [
    "e1 = expression(coordinates = [0,1,0,0,0,0,0], assumptions = [[0,1,0,0,0,0,0],[0,1,1,0,0,0,0]])\n",
    "e2 = expression(coordinates = [0,0,1,0,0,0,0], assumptions = [[0,1,0,0,0,0,0],[0,1,1,0,0,0,0]])\n",
    "zero = expression(coordinates = [0,0,0,0,0,0,0], assumptions = [[0,1,0,0,0,0,0],[0,1,1,0,0,0,0]])\n",
    "print e1.as_symbols()\n",
    "print e2.as_symbols()\n",
    "print zero.as_symbols()\n",
    "print h.is_valid_strict()"
   ]
  },
  {
   "cell_type": "markdown",
   "metadata": {},
   "source": [
    "If both expressions have the same asumptions, then we can add them up."
   ]
  },
  {
   "cell_type": "code",
   "execution_count": 30,
   "metadata": {
    "collapsed": false
   },
   "outputs": [
    {
     "name": "stdout",
     "output_type": "stream",
     "text": [
      "a + b\n",
      "(0, 1, 1, 0, 0, 0, 0)\n"
     ]
    }
   ],
   "source": [
    "g = e1+e2\n",
    "print g.as_symbols()\n",
    "print g.coordinates"
   ]
  },
  {
   "cell_type": "markdown",
   "metadata": {},
   "source": [
    "We can try to compare them:"
   ]
  },
  {
   "cell_type": "code",
   "execution_count": 31,
   "metadata": {
    "collapsed": false
   },
   "outputs": [
    {
     "name": "stdout",
     "output_type": "stream",
     "text": [
      "False\n",
      "True\n"
     ]
    }
   ],
   "source": [
    "print e1.is_comparable_to(e2)\n",
    "print zero.is_comparable_to(g)"
   ]
  },
  {
   "cell_type": "markdown",
   "metadata": {},
   "source": [
    "If they are comparable, we can find the minimum:"
   ]
  },
  {
   "cell_type": "code",
   "execution_count": 32,
   "metadata": {
    "collapsed": false
   },
   "outputs": [
    {
     "name": "stdout",
     "output_type": "stream",
     "text": [
      "True\n",
      "0\n"
     ]
    }
   ],
   "source": [
    "print e3 < g\n",
    "print minimum(e3,g).as_symbols()"
   ]
  },
  {
   "cell_type": "markdown",
   "metadata": {},
   "source": [
    "Making the Polyhedral Subdivision of $\\mathbb R^d$  for 6 variables"
   ]
  },
  {
   "cell_type": "markdown",
   "metadata": {},
   "source": [
    "The Setup: "
   ]
  },
  {
   "cell_type": "code",
   "execution_count": 33,
   "metadata": {
    "collapsed": false
   },
   "outputs": [
    {
     "data": {
      "image/png": "[encoded data removed]",
      "text/plain": [
       "Graphics object consisting of 18 graphics primitives"
      ]
     },
     "metadata": {},
     "output_type": "display_data"
    }
   ],
   "source": [
    "\n",
    "D = matrix([[0,a,b],[c,0,d],[e,f,0]])\n",
    "DG = DiGraph(D,weighted = True)\n",
    "DG.show(edge_labels = True)"
   ]
  },
  {
   "cell_type": "markdown",
   "metadata": {},
   "source": [
    "Here is the Kleene star of D:\n",
    "D_Star = $\n",
    "\\begin{pmatrix}\n",
    "min(0,a+c,b+e) & min(a,a,b+f)   & min(b,a+d,b) \\\\\n",
    "min(c,c,d+e)   & min(a+c,0,d+f) & min(c+b,d,d) \\\\\n",
    "min(e,f+c,e)   & min(a+e,f,f)   & min(e+b,d+f,0)\n",
    "\\end{pmatrix}$"
   ]
  },
  {
   "cell_type": "code",
   "execution_count": 34,
   "metadata": {
    "collapsed": true
   },
   "outputs": [],
   "source": [
    "#(1,1)\n",
    "H1  = Polyhedron(eqns=[[0,1,0,1,0,0,0]],ieqs=[[0,-1,1,-1,0,1,0]])\n",
    "H2  = Polyhedron(eqns=[[0,0,1,0,0,1,0]],ieqs=[[0,1,-1,1,0,-1,0]])\n",
    "#(1,2)\n",
    "H3  = Polyhedron(ieqs=[[0,-1,1,0,0,0,1]])\n",
    "#(1,3)\n",
    "H4  = Polyhedron(ieqs=[[0,1,-1,0,1,0,0]])\n",
    "#(2,1)\n",
    "H5  = Polyhedron(ieqs=[[0,0,0,-1,1,1,0]])\n",
    "#(2,2)\n",
    "H6  = Polyhedron(eqns=[[0,1,0,1,0,0,0]],ieqs=[[0,0,0,0,1,0,1]])\n",
    "H7  = Polyhedron(eqns=[[0,0,0,0,1,0,1]],ieqs=[[0,1,0,1,0,0,0]])\n",
    "#(2,3)\n",
    "H8  = Polyhedron(ieqs=[[0,0,1,1,-1,0,0]])\n",
    "#(3,1)\n",
    "H9  = Polyhedron(ieqs=[[0,0,0,1,0,-1,1]])\n",
    "#(3,2)\n",
    "H10 = Polyhedron(ieqs=[[0,1,0,0,0,1,-1]])\n",
    "#(3,3)\n",
    "H11 = Polyhedron(eqns=[[0,0,1,0,0,1,0]],ieqs=[[0,0,0,0,1,0,1]])\n",
    "H12 = Polyhedron(eqns=[[0,0,0,0,1,0,1]],ieqs=[[0,0,1,0,0,1,0]])"
   ]
  },
  {
   "cell_type": "markdown",
   "metadata": {},
   "source": [
    "Redoing the Hyperplanes as regions"
   ]
  },
  {
   "cell_type": "code",
   "execution_count": 35,
   "metadata": {
    "collapsed": true
   },
   "outputs": [],
   "source": [
    "#(1,1)\n",
    "R1   = Polyhedron(ieqs = [[0,-1,1,-1,0,1,0],[0,-1,0,-1,0,0,0]])\n",
    "R2   = Polyhedron(ieqs = [[0,1,0,1,0,0,0],[0,0,1,0,0,1,0]])\n",
    "R3   = Polyhedron(ieqs = [[0,0,-1,0,0,-1,0],[0,1,-1,1,0,-1,0]])\n",
    "F11  = [R1,R2,R3]\n",
    "#(1,2)\n",
    "R4   = Polyhedron(ieqs = [[0,-1,1,0,0,0,1]])\n",
    "R5   = Polyhedron(ieqs = [[0,1,-1,0,0,0,-1]])\n",
    "F12  = [R4,R5]\n",
    "#(1,3)\n",
    "R6   = Polyhedron(ieqs = [[0,1,-1,0,1,0,0]])\n",
    "R7   = Polyhedron(ieqs = [[0,-1,1,0,-1,0,0]])\n",
    "F13  = [R6,R7]\n",
    "#(2,1)\n",
    "R8   = Polyhedron(ieqs = [[0,0,0,-1,1,1,0]])\n",
    "R9   = Polyhedron(ieqs = [[0,0,0,1,-1,-1,0]])\n",
    "F21  = [R8,R9]\n",
    "#(2,2)\n",
    "R10  = Polyhedron(ieqs = [[0,-1,0,-1,1,0,1],[0,-1,0,-1,0,0,0]])\n",
    "R11  = Polyhedron(ieqs = [[0,0,0,0,1,0,1],[0,1,0,1,0,0,0]])\n",
    "R12  = Polyhedron(ieqs = [[0,0,0,0,-1,0,-1],[0,1,0,1,-1,0,-1]])\n",
    "F22  = [R10,R11,R12]\n",
    "#(2,3)\n",
    "R13  = Polyhedron(ieqs = [[0,0,1,1,-1,0,0]])\n",
    "R14  = Polyhedron(ieqs = [[0,0,-1,-1,1,0,0]])\n",
    "F23  = [R13,R14]\n",
    "#(3,1)\n",
    "R15  = Polyhedron(ieqs = [[0,0,0,1,0,-1,1]])\n",
    "R16  = Polyhedron(ieqs = [[0,0,0,-1,0,1,-1]])\n",
    "F31  = [R15,R16]\n",
    "#(3,2)\n",
    "R17  = Polyhedron(ieqs = [[0,1,0,0,0,1,-1]])\n",
    "R18  = Polyhedron(ieqs = [[0,-1,0,0,0,-1,1]])\n",
    "F32  = [R17,R18]\n",
    "#(3,3)\n",
    "R19  = Polyhedron(ieqs = [[0,0,-1,0,1,-1,1],[0,0,-1,0,0,-1,0]])\n",
    "R20  = Polyhedron(ieqs = [[0,0,1,0,0,1,0],[0,0,0,0,1,0,1]])\n",
    "R21  = Polyhedron(ieqs = [[0,0,1,0,-1,1,-1],[0,0,0,0,-1,0,-1]])\n",
    "F33  = [R19,R20,R21]"
   ]
  },
  {
   "cell_type": "markdown",
   "metadata": {},
   "source": [
    "Find the feasible, full dimensional regions:"
   ]
  },
  {
   "cell_type": "code",
   "execution_count": 36,
   "metadata": {
    "collapsed": true
   },
   "outputs": [],
   "source": [
    "def regions_of_complex(polyhedral_complex):\n",
    "    r\"\"\"\n",
    "    Returns the feasible regions of the ``polyhedral_complex``.\n",
    "    Follows the method of regions in the hyperplane arrangements.\n",
    "    \n",
    "    INPUT: \n",
    "    \n",
    "    - ``polyhedral_complex`` -- list. A list of polyhedron objects\n",
    "    \n",
    "    OUTPUT:\n",
    "    \n",
    "    A tuple of regions.\n",
    "    \"\"\"\n",
    "    R = polyhedral_complex[0][0].base_ring()\n",
    "    universe = Polyhedron(eqns = [[0] + [0]*6],base_ring = R)\n",
    "    regions = [universe]\n",
    "    for fan in polyhedral_complex:\n",
    "        subdivided = []\n",
    "        for region in regions:\n",
    "            for cone in fan:\n",
    "                part = region.intersection(cone)\n",
    "                if part.dim()==6:\n",
    "                    subdivided.append(part)\n",
    "        regions = subdivided\n",
    "    return tuple(regions)"
   ]
  },
  {
   "cell_type": "markdown",
   "metadata": {},
   "source": [
    "Test it on the fans"
   ]
  },
  {
   "cell_type": "code",
   "execution_count": 37,
   "metadata": {
    "collapsed": false
   },
   "outputs": [],
   "source": [
    "six_variables_complex = [F11,F12,F13,F21,F22,F23,F31,F32,F33]\n",
    "regions = regions_of_complex(six_variables_complex)"
   ]
  },
  {
   "cell_type": "code",
   "execution_count": 38,
   "metadata": {
    "collapsed": false
   },
   "outputs": [
    {
     "data": {
      "text/plain": [
       "117"
      ]
     },
     "execution_count": 38,
     "metadata": {},
     "output_type": "execute_result"
    }
   ],
   "source": [
    "len(regions)"
   ]
  },
  {
   "cell_type": "markdown",
   "metadata": {},
   "source": [
    "Discard the infeasible regions"
   ]
  },
  {
   "cell_type": "code",
   "execution_count": 39,
   "metadata": {
    "collapsed": true
   },
   "outputs": [],
   "source": [
    "def feasible_regions(initial_regions):\n",
    "    r\"\"\"\n",
    "    From the regions of a polyhedral complex, return the feasible regions.\n",
    "    \n",
    "    INPUT:\n",
    "    \n",
    "    -  ``initial_regions`` -- tuple of polyhedron objects. \n",
    "    \n",
    "    OUTPUT:\n",
    "    \n",
    "    tuple of polyhedron objects representiing the feasible regions.\n",
    "    \"\"\"\n",
    "\n",
    "    final_regions = list(initial_regions)\n",
    "    for region in initial_regions:\n",
    "        ass = region.inequalities_list()\n",
    "        q1 = expression(coordinates = [0,-1, 0,-1, 0, 0, 0], assumptions = ass)\n",
    "        q2 = expression(coordinates = [0, 0,-1, 0, 0,-1, 0], assumptions = ass)\n",
    "        q3 = expression(coordinates = [0, 0, 0, 0,-1, 0,-1], assumptions = ass)\n",
    "        if q1.is_valid_strict() or q2.is_valid_strict() or q3.is_valid_strict():\n",
    "            final_regions.remove(region)\n",
    "    return final_regions"
   ]
  },
  {
   "cell_type": "code",
   "execution_count": 40,
   "metadata": {
    "collapsed": false
   },
   "outputs": [],
   "source": [
    "feas_regs = feasible_regions(regions)"
   ]
  },
  {
   "cell_type": "code",
   "execution_count": 41,
   "metadata": {
    "collapsed": false
   },
   "outputs": [
    {
     "data": {
      "text/plain": [
       "18"
      ]
     },
     "execution_count": 41,
     "metadata": {},
     "output_type": "execute_result"
    }
   ],
   "source": [
    "len(feas_regs)"
   ]
  },
  {
   "cell_type": "code",
   "execution_count": 42,
   "metadata": {
    "collapsed": false
   },
   "outputs": [
    {
     "data": {
      "text/plain": [
       "[[0, 1, -1, 0, 1, 0, 0],\n",
       " [0, -1, 1, -1, 0, 1, 0],\n",
       " [0, 0, -1, 0, 0, -1, 0],\n",
       " [0, 0, 0, 1, 0, -1, 1]]"
      ]
     },
     "execution_count": 42,
     "metadata": {},
     "output_type": "execute_result"
    }
   ],
   "source": [
    "first_region= regions[0]\n",
    "first_region.inequalities_list()"
   ]
  },
  {
   "cell_type": "markdown",
   "metadata": {},
   "source": [
    "Try to get the Ehrhart polynomial for ``first_region``\n",
    "These inequalities imply the following kleene star:\n",
    "D_star_one = \n",
    "$\\begin{pmatrix}\n",
    "a+c & a & b \\\\\n",
    "c & a+c & c+b \\\\\n",
    "e  & a + e & b+e\n",
    "\\end{pmatrix}$"
   ]
  },
  {
   "cell_type": "code",
   "execution_count": 43,
   "metadata": {
    "collapsed": false
   },
   "outputs": [
    {
     "data": {
      "text/plain": [
       "[[0, -1, 1, 0, 0, 0, 1],\n",
       " [0, 0, 0, -1, 1, 1, 0],\n",
       " [0, 1, 0, 0, 0, 1, -1],\n",
       " [0, 0, 0, 1, 0, -1, 1],\n",
       " [0, 1, -1, 0, 1, 0, 0],\n",
       " [0, 0, 1, 1, -1, 0, 0]]"
      ]
     },
     "execution_count": 43,
     "metadata": {},
     "output_type": "execute_result"
    }
   ],
   "source": [
    "feas_regs[0].inequalities_list()"
   ]
  },
  {
   "cell_type": "code",
   "execution_count": 44,
   "metadata": {
    "collapsed": true
   },
   "outputs": [],
   "source": [
    "def tropical_vertices_from_region(region):\n",
    "    r\"\"\"\n",
    "    Return the symbolic tropical vertices corresponding to \n",
    "    a certain region. \n",
    "    \n",
    "    INPUT:\n",
    "    \n",
    "    - ``region`` -- a polyhedron object. \n",
    "    \n",
    "    OUTPUT:\n",
    "    \n",
    "    A list of the tropical vertices (already in the plane). \n",
    "    \"\"\"\n",
    "\n",
    "    ass = region.inequalities_list()\n",
    "    zero = expression(assumptions = ass, coordinates = [0, 0, 0, 0, 0, 0, 0])\n",
    "    a_ex = expression(assumptions = ass, coordinates = [0, 1, 0, 0, 0, 0, 0])\n",
    "    b_ex = expression(assumptions = ass, coordinates = [0, 0, 1, 0, 0, 0, 0])\n",
    "    c_ex = expression(assumptions = ass, coordinates = [0, 0, 0, 1, 0, 0, 0])\n",
    "    d_ex = expression(assumptions = ass, coordinates = [0, 0, 0, 0, 1, 0, 0])\n",
    "    e_ex = expression(assumptions = ass, coordinates = [0, 0, 0, 0, 0, 1, 0])\n",
    "    f_ex = expression(assumptions = ass, coordinates = [0, 0, 0, 0, 0, 0, 1])\n",
    "    K = [ [zero,                    minimum(a_ex,b_ex+f_ex), minimum(a_ex+d_ex,b_ex)],\n",
    "          [minimum(c_ex,d_ex+e_ex), zero,                    minimum(c_ex+b_ex,d_ex)],\n",
    "          [minimum(f_ex+c_ex,e_ex), minimum(a_ex+e_ex,f_ex), zero                   ]]\n",
    "    symbols_vec = vector([0,a,b,c,d,e,f])\n",
    "    Kleene = []\n",
    "    for row in K:\n",
    "        Kleene.append([ symbols_vec.dot_product(entry.coordinates) for entry in row ])\n",
    "    Kleene = matrix(Kleene)\n",
    "    #subtract the first entry\n",
    "    L = list()\n",
    "    for i in range(len(Kleene.rows())):\n",
    "        new_row = list()\n",
    "        j = Kleene.row(i)[0]\n",
    "        for k in range(1,len(Kleene.row(i))):\n",
    "            new_row.append(Kleene.row(i)[k] - j)\n",
    "        L.append(new_row)\n",
    "    return L"
   ]
  },
  {
   "cell_type": "code",
   "execution_count": 45,
   "metadata": {
    "collapsed": false
   },
   "outputs": [],
   "source": [
    "verts = tropical_vertices_from_region(feas_regs[0])\n",
    "ass = feas_regs[0].inequalities_list()\n",
    "poly = polytron(ass, verts)\n"
   ]
  },
  {
   "cell_type": "code",
   "execution_count": 46,
   "metadata": {
    "collapsed": false
   },
   "outputs": [
    {
     "data": {
      "text/plain": [
       "[[a, b], [-c, -c + d], [-e + f, -e], [-c, -e]]"
      ]
     },
     "execution_count": 46,
     "metadata": {},
     "output_type": "execute_result"
    }
   ],
   "source": [
    "poly.pseudovertices"
   ]
  },
  {
   "cell_type": "code",
   "execution_count": 47,
   "metadata": {
    "collapsed": false
   },
   "outputs": [],
   "source": [
    "generating_f = gen_fct(poly).factor()"
   ]
  },
  {
   "cell_type": "code",
   "execution_count": 48,
   "metadata": {
    "collapsed": false
   },
   "outputs": [
    {
     "name": "stdout",
     "output_type": "stream",
     "text": [
      "(t1^(a*n + c*n + e*n + 3)*t2^(b*n + c*n + e*n + 3) - t1^(a*n + c*n + e*n + 2)*t2^(b*n + c*n + e*n + 3) - t1^(a*n + c*n + e*n + 3)*t2^(b*n + c*n + e*n + 2) + t1^(a*n + c*n + e*n + 2)*t2^(b*n + c*n + e*n + 2) - t1^(c*n + f*n + 2)*t2^(c*n + 2) + t1^(e*n + 2)*t2^(c*n + 2) + t1^(c*n + f*n + 2)*t2^(c*n + 1) + t1^(c*n + f*n + 1)*t2^(c*n + 1) - 2*t1^(e*n + 1)*t2^(c*n + 1) - t1^(c*n + f*n + 1)*t2^(c*n) + t1^(e*n)*t2^(c*n) - t1^(e*n + 2)*t2^(d*n + e*n + 2) + t1^(e*n + 1)*t2^(d*n + e*n + 2) + t1^(e*n + 1)*t2^(d*n + e*n + 1) - t1^(e*n)*t2^(d*n + e*n + 1))*t1^(-c*n - e*n)*t2^(-c*n - e*n)/((t1*t2 - 1)^2*(t1 - 1)*(t2 - 1))\n"
     ]
    }
   ],
   "source": [
    "print generating_f"
   ]
  },
  {
   "cell_type": "markdown",
   "metadata": {},
   "source": [
    "Try to compute the generating function for all feasible regions. This works for all but region 12 and 16:"
   ]
  },
  {
   "cell_type": "code",
   "execution_count": 49,
   "metadata": {
    "collapsed": false
   },
   "outputs": [
    {
     "name": "stdout",
     "output_type": "stream",
     "text": [
      "cannot find primitive vector in direction ((0, -1, 0, 0, -1, -1, 0) , (0, -1, 0, 0, -1, -1, 0)) under assumptions [[0, -1, 0, 0, 0, -1, 1], [0, -1, 1, 0, -1, 0, 0], [0, 0, 0, 0, 1, 0, 1], [0, 0, 0, 1, -1, -1, 0], [0, 0, 1, 0, 0, 1, 0], [0, 1, 0, 1, 0, 0, 0]]\n",
      "impossible to compute generating function for region 12\n",
      "cannot find primitive vector in direction ((0, 0, -1, -1, 0, 0, -1) , (0, 0, 0, 0, 0, 0, 0)) under assumptions [[0, 0, -1, -1, 1, 0, 0], [0, 0, 0, -1, 0, 1, -1], [0, 0, 0, 0, 1, 0, 1], [0, 0, 1, 0, 0, 1, 0], [0, 1, -1, 0, 0, 0, -1], [0, 1, 0, 1, 0, 0, 0]]\n",
      "impossible to compute generating function for region 16\n"
     ]
    }
   ],
   "source": [
    "count = -1\n",
    "generating_fcts = []\n",
    "for region in feas_regs:\n",
    "    verts = tropical_vertices_from_region(region)\n",
    "    ass = region.inequalities_list()\n",
    "    poly = polytron(ass, verts)\n",
    "    count += 1\n",
    "    try:\n",
    "        generating_f = gen_fct(poly).factor()\n",
    "        generating_fcts.append(generating_f)\n",
    "    except:\n",
    "        print 'impossible to compute generating function for region '+str(count)\n",
    "        continue\n",
    "    "
   ]
  },
  {
   "cell_type": "markdown",
   "metadata": {},
   "source": [
    "Replace all variables by $(1-t)$ and apply l'hopital in order to evaluate the generating function at $(1,\\dots,1)$:"
   ]
  },
  {
   "cell_type": "code",
   "execution_count": 50,
   "metadata": {
    "collapsed": true
   },
   "outputs": [],
   "source": [
    "def lhopital(generating_f):\n",
    "    #substitute all variables by (1-t)\n",
    "    t = var('t')\n",
    "    for j in range(1,3):\n",
    "         generating_f = generating_f.subs({var('t'+str(j)):1-t})\n",
    "        #generating_f = generating_f.subs({var('t'+str(j)):1-j*t})\n",
    "    \n",
    "    #l'hopital\n",
    "    p = generating_f.numerator()\n",
    "    q = generating_f.denominator()\n",
    "    alpha = 0\n",
    "    p_deriv= p\n",
    "    q_deriv = q\n",
    "    while true:\n",
    "        p_deriv = p_deriv.derivative(t)\n",
    "        q_deriv = q_deriv.derivative(t)\n",
    "        alpha += 1\n",
    "        if not (p_deriv(t=0)==0 or q_deriv(t=0)==0):\n",
    "            break\n",
    "    return p_deriv(t=0)/q_deriv(t=0)"
   ]
  },
  {
   "cell_type": "markdown",
   "metadata": {},
   "source": [
    "Evaluate the generating functions of all regions but 12 and 16 at $(1,\\dots,1)$:"
   ]
  },
  {
   "cell_type": "code",
   "execution_count": 51,
   "metadata": {
    "collapsed": true
   },
   "outputs": [],
   "source": [
    "multivariate_ehrhart = []\n",
    "for generating_f in generating_fcts:\n",
    "    multivariate_ehrhart.append(lhopital(generating_f).simplify_full())"
   ]
  },
  {
   "cell_type": "code",
   "execution_count": 52,
   "metadata": {
    "collapsed": false
   },
   "outputs": [
    {
     "data": {
      "text/plain": [
       "[1/8*(a^2 + 2*a*b + b^2 - 4*c^2 + 8*c*d - 2*d^2 + 8*c*e - 4*e^2 + 8*e*f - 2*f^2)*n^2 + 1/8*(7*a + 7*b + 4*c - 4*d + 4*e - 4*f)*n + 5/4,\n",
       " -1/4*(a^2 - 2*a*b - b^2 + 2*(a - b)*c + 2*c^2 - 2*c*d + d^2 - 4*(a + c)*e)*n^2 + 1/4*(a + 5*b + 2*c - d + 4*e)*n + 1,\n",
       " 1/8*(a^2 + 2*a*b + b^2 + 2*(a + b)*c + c^2 + 4*c*d - 2*d^2 + 4*c*f + 2*f^2)*n^2 + 1/8*(7*a + 7*b + 11*c - 4*d)*n + 5/4,\n",
       " 1/4*(a^2 + 2*a*b - b^2 + 4*b*c + 2*(a - b + 2*c)*e - 2*e^2 + 2*e*f - f^2)*n^2 + 1/4*(5*a + b + 4*c + 2*e - f)*n + 1,\n",
       " (a*b + b*c + (a + c)*e)*n^2 + (a + b + c + e)*n + 1,\n",
       " 1/4*(a^2 + 2*a*b - b^2 + 2*(a + b)*c + 2*c^2 + 2*c*f + f^2)*n^2 + 1/4*(5*a + b + 6*c + f)*n + 1,\n",
       " 1/8*(a^2 + 2*a*b + b^2 + 2*d^2 + 2*(a + b + 2*d)*e + e^2 + 4*e*f - 2*f^2)*n^2 + 1/8*(7*a + 7*b + 11*e - 4*f)*n + 5/4,\n",
       " -1/4*(a^2 - 2*a*b - b^2 - d^2 - 2*(a + b + d)*e - 2*e^2)*n^2 + 1/4*(a + 5*b + d + 6*e)*n + 1,\n",
       " 1/8*(4*a^2 - 4*c^2 + 4*(a + 2*c)*d - d^2 + 8*c*e - 4*e^2 + 8*e*f - 2*f^2)*n^2 + 1/8*(14*a + 4*c + 3*d + 4*e - 4*f)*n + 5/4,\n",
       " 1/2*(a^2 - c^2 + 2*(a + c)*d + 2*(a + c)*e)*n^2 + 1/2*(3*a + c + 2*d + 2*e)*n + 1,\n",
       " 1/8*(4*a^2 + 4*a*c + c^2 + 2*(2*a + 3*c)*d - d^2 + 4*c*f + 2*f^2)*n^2 + 1/8*(14*a + 11*c + 3*d)*n + 5/4,\n",
       " 1/8*(4*a^2 + 4*a*d + 3*d^2 + 2*(2*a + 3*d)*e + e^2 + 4*e*f - 2*f^2)*n^2 + 1/8*(14*a + 7*d + 11*e - 4*f)*n + 5/4,\n",
       " 1/8*(4*b^2 - 4*c^2 + 8*c*d - 2*d^2 + 8*c*e - 4*e^2 + 4*(b + 2*e)*f - f^2)*n^2 + 1/8*(14*b + 4*c - 4*d + 4*e + 3*f)*n + 5/4,\n",
       " 1/8*(4*b^2 + 4*b*c + c^2 + 4*c*d - 2*d^2 + 2*(2*b + 3*c)*f + 3*f^2)*n^2 + 1/8*(14*b + 11*c - 4*d + 7*f)*n + 5/4,\n",
       " 1/2*(b^2 + 2*b*c + 2*c*e - e^2 + 2*(b + e)*f)*n^2 + 1/2*(3*b + 2*c + e + 2*f)*n + 1,\n",
       " 1/8*(4*b^2 + 2*d^2 + 4*(b + d)*e + e^2 + 2*(2*b + 3*e)*f - f^2)*n^2 + 1/8*(14*b + 11*e + 3*f)*n + 5/4]"
      ]
     },
     "execution_count": 52,
     "metadata": {},
     "output_type": "execute_result"
    }
   ],
   "source": [
    "multivariate_ehrhart"
   ]
  },
  {
   "cell_type": "markdown",
   "metadata": {},
   "source": [
    "Let's have a closer look at region 16. Above, we cannot decide whether $-b-c-f\\geq 0$ or $-b-c-f\\leq 0$. <br/>\n",
    "If we add $-b-c-f\\geq 0$ to our list of assumptions, the code runs through:"
   ]
  },
  {
   "cell_type": "code",
   "execution_count": 53,
   "metadata": {
    "collapsed": false
   },
   "outputs": [
    {
     "data": {
      "text/plain": [
       "1/2*(b^2 + 2*b*c + c^2 + 2*(b + c)*f + f^2)*n^2 - 3/2*(b + c + f)*n + 1"
      ]
     },
     "execution_count": 53,
     "metadata": {},
     "output_type": "execute_result"
    }
   ],
   "source": [
    "region = feas_regs[16]\n",
    "verts = tropical_vertices_from_region(region)\n",
    "ass = region.inequalities_list()+[[ 0, 0,-1,-1, 0, 0,-1]]\n",
    "poly = polytron(ass, verts)\n",
    "generating_f = gen_fct(poly).factor()\n",
    "ehrhart = lhopital(generating_f).simplify_full()\n",
    "ehrhart"
   ]
  },
  {
   "cell_type": "markdown",
   "metadata": {},
   "source": [
    "If we instead add $b+c+f\\geq 0$ to our list of assumptions, the code runs through as well and yields a different Ehrhart polynomial."
   ]
  },
  {
   "cell_type": "code",
   "execution_count": 54,
   "metadata": {
    "collapsed": false
   },
   "outputs": [
    {
     "data": {
      "text/plain": [
       "1/2*(b^2 + 2*b*c + c^2 + 2*(b + c)*f + f^2)*n^2 + 3/2*(b + c + f)*n + 1"
      ]
     },
     "execution_count": 54,
     "metadata": {},
     "output_type": "execute_result"
    }
   ],
   "source": [
    "verts = tropical_vertices_from_region(region)\n",
    "ass = region.inequalities_list()+[[ 0, 0, 1, 1, 0, 0, 1]]\n",
    "poly = polytron(ass, verts)\n",
    "generating_f = gen_fct(poly).factor()\n",
    "ehrhart = lhopital(generating_f).simplify_full()\n",
    "ehrhart"
   ]
  },
  {
   "cell_type": "markdown",
   "metadata": {},
   "source": [
    "Analogously, we can do the same for region 12 with the inequalities $a+d+e \\geq 0$ and $a+d+e \\leq 0$. This time, we get the same polytron and thus the same Ehrhart polynomial."
   ]
  },
  {
   "cell_type": "code",
   "execution_count": 55,
   "metadata": {
    "collapsed": false
   },
   "outputs": [
    {
     "data": {
      "text/plain": [
       "<__main__.polytron instance at 0x7f8608c965f0>"
      ]
     },
     "execution_count": 55,
     "metadata": {},
     "output_type": "execute_result"
    }
   ],
   "source": [
    "region = feas_regs[12]\n",
    "ass = region.inequalities_list()+[[0, -1, 0, 0, -1, -1, 0]]\n",
    "poly = polytron(ass, verts)\n",
    "generating_f = gen_fct(poly).factor()\n",
    "ehrhart = lhopital(generating_f).simplify_full()\n",
    "#print ehrhart\n",
    "poly,"
   ]
  },
  {
   "cell_type": "code",
   "execution_count": 56,
   "metadata": {
    "collapsed": false
   },
   "outputs": [
    {
     "data": {
      "text/plain": [
       "<__main__.polytron instance at 0x7f8607cca518>"
      ]
     },
     "execution_count": 56,
     "metadata": {},
     "output_type": "execute_result"
    }
   ],
   "source": [
    "ass = region.inequalities_list()+[[0, 1, 0, 0, 1, 1, 0]]\n",
    "poly = polytron(ass, verts)\n",
    "generating_f = gen_fct(poly).factor()\n",
    "ehrhart = lhopital(generating_f).simplify_full()\n",
    "#print ehrhart\n",
    "poly"
   ]
  },
  {
   "cell_type": "code",
   "execution_count": null,
   "metadata": {
    "collapsed": true
   },
   "outputs": [],
   "source": []
  },
  {
   "cell_type": "code",
   "execution_count": null,
   "metadata": {
    "collapsed": true
   },
   "outputs": [],
   "source": []
  },
  {
   "cell_type": "code",
   "execution_count": null,
   "metadata": {
    "collapsed": true
   },
   "outputs": [],
   "source": []
  },
  {
   "cell_type": "markdown",
   "metadata": {
    "collapsed": true
   },
   "source": [
    "old stuff"
   ]
  },
  {
   "cell_type": "markdown",
   "metadata": {},
   "source": [
    "Extend the list of assumptions by adding pairs of assumptions of the form $2a + b - c > 0, c + d > 0$ to $2a + b + d > 0$"
   ]
  },
  {
   "cell_type": "code",
   "execution_count": null,
   "metadata": {
    "collapsed": true
   },
   "outputs": [],
   "source": [
    "import re\n",
    "def extend_assumptions(integer):\n",
    "    #integer is the number of rounds in which we combine each pair\n",
    "    for i in range(integer):\n",
    "        #extract all inequalities\n",
    "        #assuming that all inequalities are of the form \"2a+b-c>0\"\n",
    "        pos_str = []\n",
    "        for assumption in assumptions():\n",
    "            asstr = str(assumption)\n",
    "            if re.search(\" > 0\", asstr):\n",
    "                pos_str.append(re.split(\" > \", asstr)[0])\n",
    "\n",
    "        #try to add combined assumptions\n",
    "        for term1 in pos_str:\n",
    "            for term2 in pos_str:\n",
    "                try:\n",
    "                    eval('assume('+term1+' + '+term2+' > 0)')\n",
    "                except:\n",
    "                    continue   "
   ]
  },
  {
   "cell_type": "markdown",
   "metadata": {},
   "source": [
    "two variables case"
   ]
  },
  {
   "cell_type": "code",
   "execution_count": null,
   "metadata": {
    "collapsed": true
   },
   "outputs": [],
   "source": [
    "a, b = var('a, b')\n",
    "forget(assumptions())\n",
    "assume( a>-1, -a-3<b, -b - 2<0)\n",
    "\n",
    "vertices = [[b,1],[-a-3,-a],[b,-a]]\n",
    "polytron = compute_pseudovertices(vertices)\n",
    "#print polytron\n",
    "\n",
    "#print gen_fct(polytron).numerator_denominator() \n",
    "generating_f = gen_fct(polytron).factor()\n",
    "print generating_f\n",
    "ehrhart(polytron,[0,0])"
   ]
  },
  {
   "cell_type": "code",
   "execution_count": null,
   "metadata": {
    "collapsed": false
   },
   "outputs": [],
   "source": [
    "#substitute all variables by (1-t)\n",
    "t = var('t')\n",
    "for j in range(1,3):\n",
    "     generating_f = generating_f.subs({var('t'+str(j)):1-t})\n",
    "    #generating_f = generating_f.subs({var('t'+str(j)):1-j*t})\n",
    "print generating_f"
   ]
  },
  {
   "cell_type": "code",
   "execution_count": null,
   "metadata": {
    "collapsed": false
   },
   "outputs": [],
   "source": [
    "#l'hopital\n",
    "p = generating_f.numerator()\n",
    "q = generating_f.denominator()\n",
    "alpha = 0\n",
    "p_deriv= p\n",
    "q_deriv = q\n",
    "while true:\n",
    "    p_deriv = p_deriv.derivative(t)\n",
    "    q_deriv = q_deriv.derivative(t)\n",
    "    alpha += 1\n",
    "    if not (p_deriv(t=0)==0 or q_deriv(t=0)==0):\n",
    "        break\n",
    "result = p_deriv(t=0)/q_deriv(t=0)\n",
    "print result.simplify_full()"
   ]
  },
  {
   "cell_type": "code",
   "execution_count": null,
   "metadata": {
    "collapsed": false
   },
   "outputs": [],
   "source": [
    "result(a=1,b=0).simplify_full()"
   ]
  }
 ],
 "metadata": {
  "kernelspec": {
   "display_name": "SageMath 7.4",
   "language": "",
   "name": "sagemath"
  },
  "language_info": {
   "codemirror_mode": {
    "name": "ipython",
    "version": 2
   },
   "file_extension": ".py",
   "mimetype": "text/x-python",
   "name": "python",
   "nbconvert_exporter": "python",
   "pygments_lexer": "ipython2",
   "version": "2.7.10"
  }
 },
 "nbformat": 4,
 "nbformat_minor": 2
}
