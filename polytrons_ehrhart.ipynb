{
 "cells": [
  {
   "cell_type": "code",
   "execution_count": 1,
   "metadata": {},
   "outputs": [],
   "source": [
    "def intersect_trop_lines(first,second):\n",
    "    a = first[0]\n",
    "    b = first[1]\n",
    "    c = second[0]\n",
    "    d = second[1]\n",
    "    #anchored at (c,d)\n",
    "    if a>c and b>d and a>b: #1\n",
    "        return [c+b,d+b]\n",
    "    if a>c and b>d and a<b: #2\n",
    "        return [c+a,d+a]\n",
    "    if a>c and b>d and a==b:\n",
    "        return [c+b-d,b]\n",
    "    if a<c and b>d: #3\n",
    "        return [a,d]\n",
    "    if a<c and b<d and a<b: #4\n",
    "        return [a+d-b,d]\n",
    "    if a<c and b<d and a>b: #5\n",
    "        return [c,b+c-a]\n",
    "    if a<c and b<d and a==b:\n",
    "        return [c,b+c-a]\n",
    "    if a>c and d>b: #6\n",
    "        return [c,b]\n",
    "    #anchored at (a,b)\n",
    "    if c>a and d>b and c>d: #1\n",
    "        return [a+d,b+d]\n",
    "    if c>a and d>b and c<d: #2\n",
    "        return [a+c,b+c]\n",
    "    if c>a and d>b and c==d:\n",
    "        return [a+d-b,d]\n",
    "    if c<a and d>b: #3\n",
    "        return [c,b]\n",
    "    if c<a and d<b and c<d: #4\n",
    "        return [c+b-d,b]\n",
    "    if c<a and d<b and c>d: #5\n",
    "        return [a,d+a-c]\n",
    "    if c<a and d<b and c==d:\n",
    "        return [a,d+a-c]\n",
    "    if c>a and b>d: #6\n",
    "        return [a,d]\n",
    "    \n",
    "    \n",
    "def compute_pseudovertices(vertices):\n",
    "    pseudovertices = copy(vertices)\n",
    "    edges = []\n",
    "    for pair in Subsets(range(len(vertices)),2):\n",
    "        if intersect_trop_lines(vertices[pair[0]],vertices[pair[1]]):\n",
    "            pseudovertices.append(intersect_trop_lines(vertices[pair[0]],vertices[pair[1]]))\n",
    "            index = len(pseudovertices)-1\n",
    "            edges.append([pair[0],index])\n",
    "            edges.append([pair[1],index])\n",
    "        else:\n",
    "            edges.append(list(pair))\n",
    "    return {'pseudo': pseudovertices, 'edges': edges, 'vertices': vertices}\n",
    "\n",
    "\n",
    "def tangent_cone(polytron, vertex_index):\n",
    "    \n",
    "    def primitive_vector_in_edge_direction(direction):\n",
    "        x = direction[0]\n",
    "        y = direction[1]\n",
    "        if x==0 and y>0:\n",
    "            primitive = [ 0, 1]\n",
    "        elif x==0 and y<0:\n",
    "            primitive = [ 0,-1]\n",
    "        elif x>0 and y>0:\n",
    "            primitive = [ 1, 1]\n",
    "        elif x>0 and y==0:\n",
    "            primitive = [ 1, 0]\n",
    "        elif x<0 and y==0:\n",
    "            primitive = [-1, 0]\n",
    "        elif x<0 and y<0:\n",
    "            primitive = [-1,-1]\n",
    "        else:\n",
    "            print 'cannot find primitive vector in direction ('+str(x)+' , '+str(y)+')'\n",
    "        return primitive\n",
    "    \n",
    "    ##compute the generating function of the tangent cone at the given vertex\n",
    "    vertex = polytron['pseudo'][vertex_index]\n",
    "    \n",
    "    \n",
    "    #find neighbours of vertex\n",
    "    incident_edges_index = [edge for edge in polytron[\"edges\"] if vertex_index in edge]\n",
    "    neighbours_index = []\n",
    "    for edge_index in incident_edges_index:\n",
    "        for index in edge_index:\n",
    "            if index==vertex_index:\n",
    "                continue\n",
    "            else:\n",
    "                neighbours_index.append(index)    \n",
    "    neighbours = [ polytron['pseudo'][index] for index in neighbours_index ]\n",
    "    \n",
    "    #compute edge-directions\n",
    "    edge_directions = [ [neighbour[0]-vertex[0],neighbour[1]-vertex[1]] for neighbour in neighbours ]\n",
    "    \n",
    "    primitives=[]\n",
    "    #find primitive vector in edge-direction\n",
    "    for direction in edge_directions:\n",
    "        primitives.append(primitive_vector_in_edge_direction(direction))\n",
    "    \n",
    "    \n",
    "    t1, t2, n = var('t1, t2, n')\n",
    "    return ( t1^(n*vertex[0])* t2^(n*vertex[1]) )  / ( (1 - t1^primitives[0][0] * t2^primitives[0][1]) * (1 - t1^primitives[1][0] * t2^primitives[1][1])  )\n",
    "\n",
    "def gen_fct(polytron):\n",
    "    return sum([tangent_cone(polytron,vertex_index) for vertex_index in range(len(polytron[\"pseudo\"]))])\n",
    "\n",
    "def ehrhart(polytron,evaluation):\n",
    "    solutions = [gen_fct(polytron)(a=evaluation[0],b=evaluation[1]).factor()(n=k).factor()(t1=1,t2=1) for k in range(1,4)]\n",
    "    mat = matrix([ [1,1,1],\n",
    "                   [4,2,1],\n",
    "                   [9,3,1] ])\n",
    "    coeffs = mat.solve_right(vector(solutions))\n",
    "    t = var('t')\n",
    "    return sum(coeffs[i]*t^(2-i) for i in range(3))\n",
    "        \n"
   ]
  },
  {
   "cell_type": "code",
   "execution_count": 37,
   "metadata": {},
   "outputs": [
    {
     "name": "stdout",
     "output_type": "stream",
     "text": [
      "(t1^(a*n + b*n + 3*n + 2)*t2^(a*n + n + 2) - t1^(a*n + b*n + 3*n + 2)*t2 - t1^(a*n + n + 1)*t2^(a*n + n + 2) - t1^(a*n + b*n + 3*n + 1)*t2^(a*n + n + 1) + t1^(a*n + n + 1)*t2^(a*n + n + 1) + t1^(a*n + b*n + 3*n + 1) + t2 - 1)*t1^(-a*n - 3*n)/((t1*t2 - 1)*(t1 - 1)*(t2 - 1)*t2^(a*n))\n"
     ]
    },
    {
     "data": {
      "text/plain": [
       "5/2*t^2 + 7/2*t + 1"
      ]
     },
     "execution_count": 37,
     "metadata": {},
     "output_type": "execute_result"
    }
   ],
   "source": [
    "a, b = var('a, b')\n",
    "forget(assumptions())\n",
    "assume( a>-1, -a-3<b, -b - 2<0)\n",
    "\n",
    "vertices = [[b,1],[-a-3,-a],[b,-a]]\n",
    "polytron = compute_pseudovertices(vertices)\n",
    "#print polytron\n",
    "\n",
    "#print gen_fct(polytron).numerator_denominator() \n",
    "generating_f = gen_fct(polytron).factor()\n",
    "print generating_f\n",
    "ehrhart(polytron,[0,0])"
   ]
  },
  {
   "cell_type": "code",
   "execution_count": 38,
   "metadata": {},
   "outputs": [
    {
     "name": "stdout",
     "output_type": "stream",
     "text": [
      "((t - 1)*(-t + 1)^(a*n + b*n + 3*n + 2) + (-t + 1)^(a*n + b*n + 3*n + 2)*(-t + 1)^(a*n + n + 2) - (-t + 1)^(a*n + b*n + 3*n + 1)*(-t + 1)^(a*n + n + 1) - (-t + 1)^(a*n + n + 2)*(-t + 1)^(a*n + n + 1) - t + (-t + 1)^(2*a*n + 2*n + 2) + (-t + 1)^(a*n + b*n + 3*n + 1))*(-t + 1)^(-a*n - 3*n)/(((t - 1)^2 - 1)*t^2*(-t + 1)^(a*n))\n"
     ]
    }
   ],
   "source": [
    "#substitute all variables by (1-t)\n",
    "t = var('t')\n",
    "for j in range(1,3):\n",
    "     generating_f = generating_f.subs({var('t'+str(j)):1-t})\n",
    "    #generating_f = generating_f.subs({var('t'+str(j)):1-j*t})\n",
    "print generating_f"
   ]
  },
  {
   "cell_type": "code",
   "execution_count": 39,
   "metadata": {},
   "outputs": [
    {
     "name": "stdout",
     "output_type": "stream",
     "text": [
      "1/2*(a^2 + 2*(a + 1)*b + 6*a + 5)*n^2 + 1/2*(3*a + 2*b + 7)*n + 1\n"
     ]
    }
   ],
   "source": [
    "#l'hopital\n",
    "p = generating_f.numerator()\n",
    "q = generating_f.denominator()\n",
    "alpha = 0\n",
    "p_deriv= p\n",
    "q_deriv = q\n",
    "while true:\n",
    "    p_deriv = p_deriv.derivative(t)\n",
    "    q_deriv = q_deriv.derivative(t)\n",
    "    alpha += 1\n",
    "    if not (p_deriv(t=0)==0 or q_deriv(t=0)==0):\n",
    "        break\n",
    "result = p_deriv(t=0)/q_deriv(t=0)\n",
    "print result.simplify_full()"
   ]
  },
  {
   "cell_type": "code",
   "execution_count": 40,
   "metadata": {},
   "outputs": [
    {
     "data": {
      "text/plain": [
       "6*n^2 + 5*n + 1"
      ]
     },
     "execution_count": 40,
     "metadata": {},
     "output_type": "execute_result"
    }
   ],
   "source": [
    "result(a=1,b=0).simplify_full()"
   ]
  },
  {
   "cell_type": "markdown",
   "metadata": {},
   "source": [
    "Making the Polyhedral Subdivision of $\\mathbb R^d$  for 6 variables"
   ]
  },
  {
   "cell_type": "markdown",
   "metadata": {},
   "source": [
    "The Setup: "
   ]
  },
  {
   "cell_type": "code",
   "execution_count": 2,
   "metadata": {},
   "outputs": [
    {
     "data": {
      "image/png": "[encoded data removed]",
      "text/plain": [
       "Graphics object consisting of 18 graphics primitives"
      ]
     },
     "metadata": {},
     "output_type": "display_data"
    }
   ],
   "source": [
    "forget()\n",
    "a,b,c,d,e,f = var('a,b,c,d,e,f')\n",
    "D = matrix([[0,a,b],[c,0,d],[e,f,0]])\n",
    "DG = DiGraph(D,weighted = True)\n",
    "DG.show(edge_labels = True)"
   ]
  },
  {
   "cell_type": "markdown",
   "metadata": {},
   "source": [
    "Here is the Kleene star of D:\n",
    "D_Star = $\n",
    "\\begin{pmatrix}\n",
    "min(0,a+c,b+e) & min(a,a,b+f)   & min(b,a+d,b) \\\\\n",
    "min(c,c,d+e)   & min(a+c,0,d+f) & min(c+b,d,d) \\\\\n",
    "min(e,f+c,e)   & min(a+e,f,f)   & min(e+b,d+f,0)\n",
    "\\end{pmatrix}$"
   ]
  },
  {
   "cell_type": "code",
   "execution_count": 3,
   "metadata": {},
   "outputs": [],
   "source": [
    "#(1,1)\n",
    "H1  = Polyhedron(eqns=[[0,1,0,1,0,0,0]],ieqs=[[0,-1,1,-1,0,1,0]])\n",
    "H2  = Polyhedron(eqns=[[0,0,1,0,0,1,0]],ieqs=[[0,1,-1,1,0,-1,0]])\n",
    "#(1,2)\n",
    "H3  = Polyhedron(ieqs=[[0,-1,1,0,0,0,1]])\n",
    "#(1,3)\n",
    "H4  = Polyhedron(ieqs=[[0,1,-1,0,1,0,0]])\n",
    "#(2,1)\n",
    "H5  = Polyhedron(ieqs=[[0,0,0,-1,1,1,0]])\n",
    "#(2,2)\n",
    "H6  = Polyhedron(eqns=[[0,1,0,1,0,0,0]],ieqs=[[0,0,0,0,1,0,1]])\n",
    "H7  = Polyhedron(eqns=[[0,0,0,0,1,0,1]],ieqs=[[0,1,0,1,0,0,0]])\n",
    "#(2,3)\n",
    "H8  = Polyhedron(ieqs=[[0,0,1,1,-1,0,0]])\n",
    "#(3,1)\n",
    "H9  = Polyhedron(ieqs=[[0,0,0,1,0,-1,1]])\n",
    "#(3,2)\n",
    "H10 = Polyhedron(ieqs=[[0,1,0,0,0,1,-1]])\n",
    "#(3,3)\n",
    "H11 = Polyhedron(eqns=[[0,0,1,0,0,1,0]],ieqs=[[0,0,0,0,1,0,1]])\n",
    "H12 = Polyhedron(eqns=[[0,0,0,0,1,0,1]],ieqs=[[0,0,1,0,0,1,0]])"
   ]
  },
  {
   "cell_type": "markdown",
   "metadata": {},
   "source": [
    "Redoing the Hyperplanes as regions"
   ]
  },
  {
   "cell_type": "code",
   "execution_count": 4,
   "metadata": {},
   "outputs": [],
   "source": [
    "#(1,1)\n",
    "R1   = Polyhedron(ieqs = [[0,-1,1,-1,0,1,0],[0,-1,0,-1,0,0,0]])\n",
    "R2   = Polyhedron(ieqs = [[0,1,0,1,0,0,0],[0,0,1,0,0,1,0]])\n",
    "R3   = Polyhedron(ieqs = [[0,0,-1,0,0,-1,0],[0,1,-1,1,0,-1,0]])\n",
    "F11  = [R1,R2,R3]\n",
    "#(1,2)\n",
    "R4   = Polyhedron(ieqs = [[0,-1,1,0,0,0,1]])\n",
    "R5   = Polyhedron(ieqs = [[0,1,-1,0,0,0,-1]])\n",
    "F12  = [R4,R5]\n",
    "#(1,3)\n",
    "R6   = Polyhedron(ieqs = [[0,1,-1,0,1,0,0]])\n",
    "R7   = Polyhedron(ieqs = [[0,-1,1,0,-1,0,0]])\n",
    "F13  = [R6,R7]\n",
    "#(2,1)\n",
    "R8   = Polyhedron(ieqs = [[0,0,0,-1,1,1,0]])\n",
    "R9   = Polyhedron(ieqs = [[0,0,0,1,-1,-1,0]])\n",
    "F21  = [R8,R9]\n",
    "#(2,2)\n",
    "R10  = Polyhedron(ieqs = [[0,-1,0,-1,1,0,1],[0,-1,0,-1,0,0,0]])\n",
    "R11  = Polyhedron(ieqs = [[0,0,0,0,1,0,1],[0,1,0,1,0,0,0]])\n",
    "R12  = Polyhedron(ieqs = [[0,0,0,0,-1,0,-1],[0,1,0,1,-1,0,-1]])\n",
    "F22  = [R10,R11,R12]\n",
    "#(2,3)\n",
    "R13  = Polyhedron(ieqs = [[0,0,1,1,-1,0,0]])\n",
    "R14  = Polyhedron(ieqs = [[0,0,-1,-1,1,0,0]])\n",
    "F23  = [R13,R14]\n",
    "#(3,1)\n",
    "R15  = Polyhedron(ieqs = [[0,0,0,1,0,-1,1]])\n",
    "R16  = Polyhedron(ieqs = [[0,0,0,-1,0,1,-1]])\n",
    "F31  = [R15,R16]\n",
    "#(3,2)\n",
    "R17  = Polyhedron(ieqs = [[0,1,0,0,0,1,-1]])\n",
    "R18  = Polyhedron(ieqs = [[0,-1,0,0,0,-1,1]])\n",
    "F32  = [R17,R18]\n",
    "#(3,3)\n",
    "R19  = Polyhedron(ieqs = [[0,0,-1,0,1,-1,1],[0,0,-1,0,0,-1,0]])\n",
    "R20  = Polyhedron(ieqs = [[0,0,1,0,0,1,0],[0,0,0,0,1,0,1]])\n",
    "R21  = Polyhedron(ieqs = [[0,0,1,0,-1,1,-1],[0,0,0,0,-1,0,-1]])\n",
    "F33  = [R19,R20,R21]"
   ]
  },
  {
   "cell_type": "markdown",
   "metadata": {},
   "source": [
    "Find the feasible, full dimensional regions:"
   ]
  },
  {
   "cell_type": "code",
   "execution_count": 5,
   "metadata": {},
   "outputs": [],
   "source": [
    "def regions_of_complex(polyhedral_complex):\n",
    "    r\"\"\"\n",
    "    Returns the feasible regions of the ``polyhedral_complex``.\n",
    "    Follows the method of regions in the hyperplane arrangements.\n",
    "    \n",
    "    INPUT: \n",
    "    \n",
    "    - ``polyhedral_complex`` -- list. A list of polyhedron objects\n",
    "    \n",
    "    OUTPUT:\n",
    "    \n",
    "    A tuple of regions.\n",
    "    \"\"\"\n",
    "    R = polyhedral_complex[0][0].base_ring()\n",
    "    universe = Polyhedron(eqns = [[0] + [0]*6],base_ring = R)\n",
    "    regions = [universe]\n",
    "    for fan in polyhedral_complex:\n",
    "        subdivided = []\n",
    "        for region in regions:\n",
    "            for cone in fan:\n",
    "                part = region.intersection(cone)\n",
    "                if part.dim()==6:\n",
    "                    subdivided.append(part)\n",
    "        regions = subdivided\n",
    "    return tuple(regions)"
   ]
  },
  {
   "cell_type": "markdown",
   "metadata": {},
   "source": [
    "Test it on the fans"
   ]
  },
  {
   "cell_type": "code",
   "execution_count": 6,
   "metadata": {},
   "outputs": [],
   "source": [
    "six_variables_complex = [F11,F12,F13,F21,F22,F23,F31,F32,F33]\n",
    "regions = regions_of_complex(six_variables_complex)\n"
   ]
  },
  {
   "cell_type": "code",
   "execution_count": 7,
   "metadata": {},
   "outputs": [
    {
     "data": {
      "text/plain": [
       "117"
      ]
     },
     "execution_count": 7,
     "metadata": {},
     "output_type": "execute_result"
    }
   ],
   "source": [
    "len(regions)"
   ]
  },
  {
   "cell_type": "markdown",
   "metadata": {},
   "source": [
    "Extend the list of assumptions by adding pairs of assumptions of the form $2a + b - c > 0, c + d > 0$ to $2a + b + d > 0$"
   ]
  },
  {
   "cell_type": "code",
   "execution_count": 9,
   "metadata": {},
   "outputs": [],
   "source": [
    "import re\n",
    "def extend_assumptions(integer):\n",
    "    #integer is the number of rounds in which we combine each pair\n",
    "    for i in range(integer):\n",
    "        #extract all inequalities\n",
    "        #assuming that all inequalities are of the form \"2a+b-c>0\"\n",
    "        pos_str = []\n",
    "        for assumption in assumptions():\n",
    "            asstr = str(assumption)\n",
    "            if re.search(\" > 0\", asstr):\n",
    "                pos_str.append(re.split(\" > \", asstr)[0])\n",
    "\n",
    "        #try to add combined assumptions\n",
    "        for term1 in pos_str:\n",
    "            for term2 in pos_str:\n",
    "                try:\n",
    "                    eval('assume('+term1+' + '+term2+' > 0)')\n",
    "                except:\n",
    "                    continue   "
   ]
  },
  {
   "cell_type": "markdown",
   "metadata": {},
   "source": [
    "Discard the infeasible regions"
   ]
  },
  {
   "cell_type": "code",
   "execution_count": 10,
   "metadata": {},
   "outputs": [],
   "source": [
    "def feasible_regions(initial_regions):\n",
    "    r\"\"\"\n",
    "    From the regions of a polyhedral complex, return the feasible regions.\n",
    "    \n",
    "    INPUT:\n",
    "    \n",
    "    -  ``initial_regions`` -- tuple of polyhedron objects. \n",
    "    \n",
    "    OUTPUT:\n",
    "    \n",
    "    tuple of polyhedron objects representiing the feasible regions.\n",
    "    \"\"\"\n",
    "    \n",
    "    symbols_vec = vector([0,a,b,c,d,e,f])\n",
    "    final_regions = list(initial_regions)\n",
    "    for region in initial_regions:\n",
    "        forget()\n",
    "        assume(a,b,c,d,e,f,'integer')\n",
    "        for ineq in region.inequalities_list():\n",
    "            new_ineq = symbols_vec.dot_product(vector(ineq))\n",
    "            assume(new_ineq > 0)\n",
    "        extend_assumptions(2)\n",
    "        if a+c < 0 or b+e < 0 or d+f < 0:\n",
    "            final_regions.remove(region)\n",
    "            print str(len(final_regions))+' regions left'\n",
    "    return final_regions\n",
    "\n",
    "    '''\n",
    "    symbols_vec = vector([0,a,b,c,d,e,f])\n",
    "    final_regions = []\n",
    "    left = len(regions)\n",
    "    for region in initial_regions:\n",
    "        forget()\n",
    "        assume(a,b,c,d,e,f,'integer')\n",
    "        for ineq in region.inequalities_list():\n",
    "            new_ineq = symbols_vec.dot_product(vector(ineq))\n",
    "            assume(new_ineq > 0)\n",
    "        extend_assumptions(2)\n",
    "        if not (a+c < 0 or b+e < 0 or d+f < 0):\n",
    "            final_regions.append([region, assumptions()])\n",
    "        else:\n",
    "            left += -1\n",
    "            print str(left)+' regions left'\n",
    "    return final_regions\n",
    "    '''"
   ]
  },
  {
   "cell_type": "code",
   "execution_count": 11,
   "metadata": {},
   "outputs": [
    {
     "name": "stdout",
     "output_type": "stream",
     "text": [
      "116 regions left\n",
      "115 regions left\n",
      "114 regions left\n",
      "113 regions left\n",
      "112 regions left\n",
      "111 regions left\n",
      "110 regions left\n",
      "109 regions left\n",
      "108 regions left\n",
      "107 regions left\n",
      "106 regions left\n",
      "105 regions left\n",
      "104 regions left\n",
      "103 regions left\n",
      "102 regions left\n",
      "101 regions left\n",
      "100 regions left\n",
      "99 regions left\n",
      "98 regions left\n",
      "97 regions left\n",
      "96 regions left\n",
      "95 regions left\n",
      "94 regions left\n",
      "93 regions left\n",
      "92 regions left\n",
      "91 regions left\n",
      "90 regions left\n",
      "89 regions left\n",
      "88 regions left\n",
      "87 regions left\n",
      "86 regions left\n",
      "85 regions left\n",
      "84 regions left\n",
      "83 regions left\n",
      "82 regions left\n",
      "81 regions left\n",
      "80 regions left\n",
      "79 regions left\n",
      "78 regions left\n",
      "77 regions left\n",
      "76 regions left\n",
      "75 regions left\n",
      "74 regions left\n",
      "73 regions left\n",
      "72 regions left\n",
      "71 regions left\n",
      "70 regions left\n",
      "69 regions left\n",
      "68 regions left\n",
      "67 regions left\n",
      "66 regions left\n",
      "65 regions left\n",
      "64 regions left\n",
      "63 regions left\n",
      "62 regions left\n",
      "61 regions left\n",
      "60 regions left\n",
      "59 regions left\n",
      "58 regions left\n",
      "57 regions left\n",
      "56 regions left\n",
      "55 regions left\n",
      "54 regions left\n",
      "53 regions left\n",
      "52 regions left\n",
      "51 regions left\n",
      "50 regions left\n",
      "49 regions left\n",
      "48 regions left\n",
      "47 regions left\n",
      "46 regions left\n",
      "45 regions left\n",
      "44 regions left\n",
      "43 regions left\n",
      "42 regions left\n",
      "41 regions left\n",
      "40 regions left\n",
      "39 regions left\n",
      "38 regions left\n",
      "37 regions left\n",
      "36 regions left\n",
      "35 regions left\n",
      "34 regions left\n",
      "33 regions left\n",
      "32 regions left\n",
      "31 regions left\n",
      "30 regions left\n",
      "29 regions left\n",
      "28 regions left\n",
      "27 regions left\n",
      "26 regions left\n",
      "25 regions left\n",
      "24 regions left\n",
      "23 regions left\n",
      "22 regions left\n",
      "21 regions left\n",
      "20 regions left\n",
      "19 regions left\n",
      "18 regions left\n"
     ]
    }
   ],
   "source": [
    "feas_regs = feasible_regions(regions)"
   ]
  },
  {
   "cell_type": "code",
   "execution_count": 12,
   "metadata": {},
   "outputs": [
    {
     "data": {
      "text/plain": [
       "18"
      ]
     },
     "execution_count": 12,
     "metadata": {},
     "output_type": "execute_result"
    }
   ],
   "source": [
    "len(feas_regs)"
   ]
  },
  {
   "cell_type": "code",
   "execution_count": 13,
   "metadata": {},
   "outputs": [
    {
     "data": {
      "text/plain": [
       "[[0, 1, -1, 0, 1, 0, 0],\n",
       " [0, -1, 1, -1, 0, 1, 0],\n",
       " [0, 0, -1, 0, 0, -1, 0],\n",
       " [0, 0, 0, 1, 0, -1, 1]]"
      ]
     },
     "execution_count": 13,
     "metadata": {},
     "output_type": "execute_result"
    }
   ],
   "source": [
    "first_region= regions[0]\n",
    "first_region.inequalities_list()"
   ]
  },
  {
   "cell_type": "markdown",
   "metadata": {},
   "source": [
    "Try to get the Ehrhart polynomial for ``first_region``\n",
    "These inequalities imply the following kleene star:\n",
    "D_star_one = \n",
    "$\\begin{pmatrix}\n",
    "a+c & a & b \\\\\n",
    "c & a+c & c+b \\\\\n",
    "e  & a + e & b+e\n",
    "\\end{pmatrix}$"
   ]
  },
  {
   "cell_type": "code",
   "execution_count": 15,
   "metadata": {},
   "outputs": [],
   "source": [
    "def tropical_vertices_from_region(region):\n",
    "    r\"\"\"\n",
    "    Return the symbolic tropical vertices corresponding to \n",
    "    a certain region. \n",
    "    \n",
    "    INPUT:\n",
    "    \n",
    "    - ``region`` -- a polyhedron object. \n",
    "    \n",
    "    OUTPUT:\n",
    "    \n",
    "    A list of the tropical vertices (already in the plane). \n",
    "    \"\"\"\n",
    "    forget()\n",
    "    symbols_vec = vector([0,a,b,c,d,e,f])\n",
    "    assume(a,b,c,d,e,f,'integer')\n",
    "    for ineq in region.inequalities_list():\n",
    "        new_ineq = symbols_vec.dot_product(vector(ineq))\n",
    "        assume(new_ineq > 0)\n",
    "    extend_assumptions(2)\n",
    "    Kleene = matrix([[min(min(0, a+c),min(a+c,b+e)), min(a,a,b+f)  , min(b,a+d,b)],\n",
    "                     [min(c,c,d+e)  , min(a+c,0,d+f), min(c+b,d,d)],\n",
    "                     [min(e,f+c,e)  , min(a+e,f,f)  , min(e+b,d+f,0)]])\n",
    "    #subtract the first entry\n",
    "    L = list()\n",
    "    for i in range(len(Kleene.rows())):\n",
    "        new_row = list()\n",
    "        j = Kleene.row(i)[0]\n",
    "        for k in range(1,len(Kleene.row(i))):\n",
    "            new_row.append(Kleene.row(i)[k] - j)\n",
    "        L.append(new_row)\n",
    "    return L\n",
    "    \n",
    "    \n"
   ]
  },
  {
   "cell_type": "code",
   "execution_count": 16,
   "metadata": {},
   "outputs": [
    {
     "data": {
      "text/plain": [
       "[[a, b], [-c, -c + d], [-e + f, -e]]"
      ]
     },
     "execution_count": 16,
     "metadata": {},
     "output_type": "execute_result"
    }
   ],
   "source": [
    "verts = tropical_vertices_from_region(feas_regs[0])\n",
    "verts"
   ]
  },
  {
   "cell_type": "code",
   "execution_count": 18,
   "metadata": {},
   "outputs": [],
   "source": [
    "polytron = compute_pseudovertices(verts)"
   ]
  },
  {
   "cell_type": "code",
   "execution_count": 19,
   "metadata": {},
   "outputs": [
    {
     "data": {
      "text/plain": [
       "{'edges': [[0, 1], [0, 2], [1, 3], [2, 3]],\n",
       " 'pseudo': [[a, b], [-c, -c + d], [-e + f, -e], [-c, -e]],\n",
       " 'vertices': [[a, b], [-c, -c + d], [-e + f, -e]]}"
      ]
     },
     "execution_count": 19,
     "metadata": {},
     "output_type": "execute_result"
    }
   ],
   "source": [
    "polytron"
   ]
  },
  {
   "cell_type": "code",
   "execution_count": 20,
   "metadata": {},
   "outputs": [],
   "source": [
    "generating_f = gen_fct(polytron).factor()"
   ]
  },
  {
   "cell_type": "code",
   "execution_count": 21,
   "metadata": {},
   "outputs": [
    {
     "name": "stdout",
     "output_type": "stream",
     "text": [
      "(t1^(a*n + c*n + e*n + 3)*t2^(b*n + c*n + e*n + 3) - t1^(a*n + c*n + e*n + 2)*t2^(b*n + c*n + e*n + 3) - t1^(a*n + c*n + e*n + 3)*t2^(b*n + c*n + e*n + 2) + t1^(a*n + c*n + e*n + 2)*t2^(b*n + c*n + e*n + 2) - t1^(c*n + f*n + 2)*t2^(c*n + 2) + t1^(e*n + 2)*t2^(c*n + 2) + t1^(c*n + f*n + 2)*t2^(c*n + 1) + t1^(c*n + f*n + 1)*t2^(c*n + 1) - 2*t1^(e*n + 1)*t2^(c*n + 1) - t1^(c*n + f*n + 1)*t2^(c*n) + t1^(e*n)*t2^(c*n) - t1^(e*n + 2)*t2^(d*n + e*n + 2) + t1^(e*n + 1)*t2^(d*n + e*n + 2) + t1^(e*n + 1)*t2^(d*n + e*n + 1) - t1^(e*n)*t2^(d*n + e*n + 1))*t1^(-c*n - e*n)*t2^(-c*n - e*n)/((t1*t2 - 1)^2*(t1 - 1)*(t2 - 1))\n"
     ]
    }
   ],
   "source": [
    "print generating_f"
   ]
  },
  {
   "cell_type": "markdown",
   "metadata": {},
   "source": [
    "Try to compute the generating function for all feasible regions. So far, this works for all but region 12 and 15:"
   ]
  },
  {
   "cell_type": "code",
   "execution_count": 26,
   "metadata": {},
   "outputs": [
    {
     "name": "stdout",
     "output_type": "stream",
     "text": [
      "cannot find primitive vector in direction (-a - d - e , -a - d - e)\n",
      "impossible to compute generating function for region 12\n",
      "cannot find primitive vector in direction (-b - c - f , 0)\n",
      "impossible to compute generating function for region 15\n"
     ]
    }
   ],
   "source": [
    "count = 0\n",
    "generating_fcts = []\n",
    "for region in feas_regs:\n",
    "    verts = tropical_vertices_from_region(region)\n",
    "    polytron = compute_pseudovertices(verts)\n",
    "    try:\n",
    "        generating_f = gen_fct(polytron).factor()\n",
    "        generating_fcts.append(generating_f)\n",
    "    except:\n",
    "        print 'impossible to compute generating function for region '+str(count)\n",
    "        continue\n",
    "    count += 1"
   ]
  },
  {
   "cell_type": "markdown",
   "metadata": {},
   "source": [
    "Replace all variables by $(1-t)$ and apply l'hopital in order to evaluate the generating function at $(1,\\dots,1)$:"
   ]
  },
  {
   "cell_type": "code",
   "execution_count": 31,
   "metadata": {},
   "outputs": [],
   "source": [
    "def lhopital(generating_f):\n",
    "    #substitute all variables by (1-t)\n",
    "    t = var('t')\n",
    "    for j in range(1,3):\n",
    "         generating_f = generating_f.subs({var('t'+str(j)):1-t})\n",
    "        #generating_f = generating_f.subs({var('t'+str(j)):1-j*t})\n",
    "    \n",
    "    #l'hopital\n",
    "    p = generating_f.numerator()\n",
    "    q = generating_f.denominator()\n",
    "    alpha = 0\n",
    "    p_deriv= p\n",
    "    q_deriv = q\n",
    "    while true:\n",
    "        p_deriv = p_deriv.derivative(t)\n",
    "        q_deriv = q_deriv.derivative(t)\n",
    "        alpha += 1\n",
    "        if not (p_deriv(t=0)==0 or q_deriv(t=0)==0):\n",
    "            break\n",
    "    return p_deriv(t=0)/q_deriv(t=0)"
   ]
  },
  {
   "cell_type": "markdown",
   "metadata": {},
   "source": [
    "Evaluate the generating functions of all regions but 12 and 15 at $(1,\\dots,1)$:"
   ]
  },
  {
   "cell_type": "code",
   "execution_count": 35,
   "metadata": {},
   "outputs": [],
   "source": [
    "multivariate_ehrhart = []\n",
    "for generating_f in generating_fcts:\n",
    "    multivariate_ehrhart.append(lhopital(generating_f).simplify_full())"
   ]
  },
  {
   "cell_type": "code",
   "execution_count": 36,
   "metadata": {},
   "outputs": [
    {
     "data": {
      "text/plain": [
       "[1/8*(a^2 + 2*a*b + b^2 - 4*c^2 + 8*c*d - 2*d^2 + 8*c*e - 4*e^2 + 8*e*f - 2*f^2)*n^2 + 1/8*(7*a + 7*b + 4*c - 4*d + 4*e - 4*f)*n + 5/4,\n",
       " -1/4*(a^2 - 2*a*b - b^2 + 2*(a - b)*c + 2*c^2 - 2*c*d + d^2 - 4*(a + c)*e)*n^2 + 1/4*(a + 5*b + 2*c - d + 4*e)*n + 1,\n",
       " 1/8*(a^2 + 2*a*b + b^2 + 2*(a + b)*c + c^2 + 4*c*d - 2*d^2 + 4*c*f + 2*f^2)*n^2 + 1/8*(7*a + 7*b + 11*c - 4*d)*n + 5/4,\n",
       " 1/4*(a^2 + 2*a*b - b^2 + 4*b*c + 2*(a - b + 2*c)*e - 2*e^2 + 2*e*f - f^2)*n^2 + 1/4*(5*a + b + 4*c + 2*e - f)*n + 1,\n",
       " (a*b + b*c + (a + c)*e)*n^2 + (a + b + c + e)*n + 1,\n",
       " 1/4*(a^2 + 2*a*b - b^2 + 2*(a + b)*c + 2*c^2 + 2*c*f + f^2)*n^2 + 1/4*(5*a + b + 6*c + f)*n + 1,\n",
       " 1/8*(a^2 + 2*a*b + b^2 + 2*d^2 + 2*(a + b + 2*d)*e + e^2 + 4*e*f - 2*f^2)*n^2 + 1/8*(7*a + 7*b + 11*e - 4*f)*n + 5/4,\n",
       " -1/4*(a^2 - 2*a*b - b^2 - d^2 - 2*(a + b + d)*e - 2*e^2)*n^2 + 1/4*(a + 5*b + d + 6*e)*n + 1,\n",
       " 1/8*(4*a^2 - 4*c^2 + 4*(a + 2*c)*d - d^2 + 8*c*e - 4*e^2 + 8*e*f - 2*f^2)*n^2 + 1/8*(14*a + 4*c + 3*d + 4*e - 4*f)*n + 5/4,\n",
       " 1/2*(a^2 - c^2 + 2*(a + c)*d + 2*(a + c)*e)*n^2 + 1/2*(3*a + c + 2*d + 2*e)*n + 1,\n",
       " 1/8*(4*a^2 + 4*a*c + c^2 + 2*(2*a + 3*c)*d - d^2 + 4*c*f + 2*f^2)*n^2 + 1/8*(14*a + 11*c + 3*d)*n + 5/4,\n",
       " 1/8*(4*a^2 + 4*a*d + 3*d^2 + 2*(2*a + 3*d)*e + e^2 + 4*e*f - 2*f^2)*n^2 + 1/8*(14*a + 7*d + 11*e - 4*f)*n + 5/4,\n",
       " 1/8*(4*b^2 - 4*c^2 + 8*c*d - 2*d^2 + 8*c*e - 4*e^2 + 4*(b + 2*e)*f - f^2)*n^2 + 1/8*(14*b + 4*c - 4*d + 4*e + 3*f)*n + 5/4,\n",
       " 1/8*(4*b^2 + 4*b*c + c^2 + 4*c*d - 2*d^2 + 2*(2*b + 3*c)*f + 3*f^2)*n^2 + 1/8*(14*b + 11*c - 4*d + 7*f)*n + 5/4,\n",
       " 1/2*(b^2 + 2*b*c + 2*c*e - e^2 + 2*(b + e)*f)*n^2 + 1/2*(3*b + 2*c + e + 2*f)*n + 1,\n",
       " 1/8*(4*b^2 + 2*d^2 + 4*(b + d)*e + e^2 + 2*(2*b + 3*e)*f - f^2)*n^2 + 1/8*(14*b + 11*e + 3*f)*n + 5/4]"
      ]
     },
     "execution_count": 36,
     "metadata": {},
     "output_type": "execute_result"
    }
   ],
   "source": [
    "multivariate_ehrhart"
   ]
  }
 ],
 "metadata": {
  "kernelspec": {
   "display_name": "SageMath 8.3",
   "language": "",
   "name": "sagemath"
  },
  "language_info": {
   "codemirror_mode": {
    "name": "ipython",
    "version": 2
   },
   "file_extension": ".py",
   "mimetype": "text/x-python",
   "name": "python",
   "nbconvert_exporter": "python",
   "pygments_lexer": "ipython2",
   "version": "2.7.15"
  }
 },
 "nbformat": 4,
 "nbformat_minor": 2
}
