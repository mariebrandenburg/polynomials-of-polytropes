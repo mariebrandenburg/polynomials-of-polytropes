{
 "cells": [
  {
   "cell_type": "markdown",
   "metadata": {},
   "source": [
    "# Preamble: A lot of functions."
   ]
  },
  {
   "cell_type": "code",
   "execution_count": 2,
   "metadata": {},
   "outputs": [],
   "source": [
    "a,b,c,d,e,f = var('a,b,c,d,e,f')"
   ]
  },
  {
   "cell_type": "code",
   "execution_count": 3,
   "metadata": {},
   "outputs": [],
   "source": [
    "def symbols_to_vector(symbolic_expression):\n",
    "    symbols_vec = [0,a,b,c,d,e,f]\n",
    "    string = str(symbolic_expression)\n",
    "    vec = [0,0,0,0,0,0,0]\n",
    "    sign = 1\n",
    "    if string == \"0\":\n",
    "        return vector(vec)\n",
    "    for letter in string:\n",
    "        if letter in [\" \"]:\n",
    "            continue\n",
    "        elif letter in [\"+\"]:\n",
    "            sign = 1\n",
    "        elif letter in [\"-\"]:\n",
    "            sign = -1\n",
    "        elif var(letter) in symbols_vec:\n",
    "            index = symbols_vec.index(var(letter))\n",
    "            vec[index] = 1*sign\n",
    "    return vector(vec)\n",
    "\n",
    "def vector_to_symbols(vec):\n",
    "        symbols_vec = vector([0,a,b,c,d,e,f])\n",
    "        return symbols_vec.dot_product(vector(vec))\n",
    "\n",
    "class expression:\n",
    "    \n",
    "    def __init__(self, coordinates, assumptions):\n",
    "        self.assumptions = assumptions\n",
    "        self.coordinates = vector(coordinates)\n",
    "        \n",
    "    def is_valid_strict(self):\n",
    "        #checks if a strict inequality (question) is satified under the assumptions of other strict inequalities\n",
    "        #this is not satisfied if intP interected with H_c is nonempty\n",
    "        P = Polyhedron(ieqs = self.assumptions)\n",
    "        #complement of halfspace defined by strict inequality in question\n",
    "        H_c = Polyhedron(ieqs = [[-i for i in self.coordinates]]) \n",
    "        if len(H_c.intersection(P).vertices())==0:\n",
    "            return true\n",
    "        else:\n",
    "            for F in P.faces(P.dimension()-1):\n",
    "                if H_c.intersection(F.as_polyhedron()) == H_c.intersection(P):\n",
    "                    return true\n",
    "        return false\n",
    "    \n",
    "    def is_valid_nonstrict(self):\n",
    "        #checks if a non-strict inequality (question) is satified under the assumptions of other strict inequalities\n",
    "        #this is satisfied if intP is contained in H. H is closed, so this is equivalent to P contianed in H\n",
    "        P = Polyhedron(ieqs = self.assumptions)\n",
    "        H = Polyhedron(ieqs = [self.coordinates]) \n",
    "        if H.intersection(P)==P:\n",
    "            return true\n",
    "        else:     \n",
    "            return false\n",
    "\n",
    "    def  __gt__(self, other):\n",
    "        #definition of >\n",
    "        #return self.is_valid_strict(assumptions, self.coordinates - other.coordinates)\n",
    "        return expression(coordinates = self.coordinates - other.coordinates, assumptions = self.assumptions).is_valid_strict()\n",
    "    \n",
    "    def __lt__(self,other):\n",
    "        #definition of <\n",
    "        return expression(coordinates = other.coordinates - self.coordinates, assumptions = self.assumptions).is_valid_strict()\n",
    "    \n",
    "    def __eq__(self, other):\n",
    "        #definition of ==\n",
    "        if expression(coordinates = self.coordinates - other.coordinates, assumptions = self.assumptions).is_valid_nonstrict() and expression(coordinates = other.coordinates - self.coordinates, assumptions = self.assumptions).is_valid_nonstrict(): \n",
    "            return true\n",
    "        else:\n",
    "            return false\n",
    "    \n",
    "    def __le__(self, other):\n",
    "        #definition of <=\n",
    "        return (self<other or self==other)\n",
    "    \n",
    "    def __ge__(self, other):\n",
    "        #definition of >=\n",
    "        return (self>other or self==other)\n",
    "    \n",
    "    def __add__(self,other):\n",
    "        #definition of +\n",
    "        return expression(coordinates = self.coordinates + other.coordinates, assumptions = self.assumptions)\n",
    "    \n",
    "    def __sub__(self,other):\n",
    "        #definition of -\n",
    "        return expression(coordinates = self.coordinates - other.coordinates, assumptions = self.assumptions)\n",
    "    \n",
    "    def is_comparable_to(self, other):\n",
    "        if self>= other or self <= other:\n",
    "            return true\n",
    "        else:\n",
    "            return false\n",
    "        \n",
    "    def as_symbols(self):\n",
    "        symbols_vec = vector([0,a,b,c,d,e,f])\n",
    "        return symbols_vec.dot_product(vector(self.coordinates))\n",
    "    \n",
    "\n",
    "\n",
    "def minimum(expr1, expr2):\n",
    "    if expr1 <= expr2:\n",
    "        return expr1\n",
    "    elif expr2 <= expr1:\n",
    "        return expr2\n",
    "    else:\n",
    "        print(\"cannot decide minimum of \"+str(ieq1)+\" and \"+str(ieq2)+\" under assumptions \"+str(assumptions))\n",
    "\n",
    "def intersect_trop_lines(assumptions, first,second):\n",
    "    #translate symbolic expressions into vectors\n",
    "    a_ex = expression(assumptions = assumptions, coordinates = symbols_to_vector(first[0]))\n",
    "    b_ex = expression(assumptions = assumptions, coordinates = symbols_to_vector(first[1]))\n",
    "    c_ex = expression(assumptions = assumptions, coordinates = symbols_to_vector(second[0]))\n",
    "    d_ex = expression(assumptions = assumptions, coordinates = symbols_to_vector(second[1]))\n",
    "    res = []\n",
    "    if c_ex>a_ex and d_ex>b_ex and c_ex-a_ex<d_ex-b_ex: #region 1\n",
    "        res = [c_ex, b_ex - a_ex + c_ex]\n",
    "    #elif c_ex>a_ex and d_ex>b_ex and c_ex-a_ex==d_ex-b_ex: #region 1 intersected 2\n",
    "    #    return []\n",
    "    elif c_ex>a_ex and d_ex>b_ex and c_ex-a_ex>d_ex-b_ex: #region 2\n",
    "        res = [a_ex - b_ex + d_ex, d_ex]\n",
    "    #elif c_ex>a_ex and d_ex==b_ex and c_ex-a_ex>d_ex-b_ex: #region 2 intersected 3\n",
    "    #    return []\n",
    "    elif c_ex>a_ex and d_ex<b_ex and c_ex-a_ex>d_ex-b_ex: #region 3\n",
    "        res = [a_ex, d_ex]\n",
    "    #elif c_ex==a_ex and d_ex<b_ex and c_ex-a_ex>d_ex-b_ex: #region 3 intersected 4\n",
    "    #    return []\n",
    "    elif c_ex<a_ex and d_ex<b_ex and c_ex-a_ex>d_ex-b_ex: #region 4\n",
    "        res = [a_ex, a_ex - c_ex + d_ex]\n",
    "    #elif c_ex<a_ex and d_ex<b_ex and c_ex-a_ex==d_ex-b_ex: #region 4 intersected 5\n",
    "    #    return []   \n",
    "    elif c_ex<a_ex and d_ex<b_ex and c_ex-a_ex<d_ex-b_ex: #region 5\n",
    "        res = [b_ex + c_ex - d_ex, b_ex]\n",
    "    #elif c_ex<a_ex and d_ex==b_ex and c_ex-a_ex<d_ex-b_ex: #region 5 intersected 6\n",
    "    #    return []\n",
    "    elif c_ex<a_ex and d_ex>b_ex and c_ex-a_ex<d_ex-b_ex: #region 6\n",
    "        res = [c_ex, b_ex]\n",
    "    #elif c_ex==a_ex and d_ex>b_ex and c_ex-a_ex<d_ex-b_ex: #region 6 intersected 1\n",
    "    #    return []\n",
    "    \n",
    "    elif a_ex>c_ex and b_ex>d_ex and a_ex-c_ex<b_ex-d_ex: #region 1\n",
    "        res = [a_ex, d_ex - c_ex + a_ex]\n",
    "    elif a_ex>c_ex and b_ex>d_ex and a_ex-c_ex>b_ex-d_ex: #region 2\n",
    "        res = [c_ex - d_ex + b_ex, b_ex]\n",
    "    elif a_ex>c_ex and b_ex<d_ex and a_ex-c_ex>b_ex-d_ex: #region 3\n",
    "        res = [c_ex, b_ex]\n",
    "    elif a_ex<c_ex and b_ex<d_ex and a_ex-c_ex>b_ex-d_ex: #region 4\n",
    "        res = [c_ex, c_ex - a_ex + b_ex]  \n",
    "    elif a_ex<c_ex and b_ex<d_ex and a_ex-c_ex<b_ex-d_ex: #region 5\n",
    "        res = [d_ex + a_ex - b_ex, d_ex]\n",
    "    elif a_ex<c_ex and b_ex>d_ex and a_ex-c_ex<b_ex-d_ex: #region 6\n",
    "        res = [a_ex, d_ex]\n",
    "\n",
    "    if len(res):\n",
    "        return [el.as_symbols() for el in res]\n",
    "\n",
    "    \n",
    "class polytron:\n",
    "    def __init__(self, assumptions, vertices):\n",
    "        self.assumptions = assumptions\n",
    "        self.vertices = vertices\n",
    "        self.pseudovertices = self.get_pseudo_and_edges(assumptions, self.vertices)[0]\n",
    "        self.edges = self.get_pseudo_and_edges(assumptions, vertices)[1]\n",
    "        \n",
    "    def get_pseudo_and_edges(self, assumptions, vertices):\n",
    "        pseudovertices = copy(vertices)\n",
    "        edges = []\n",
    "        for pair in Subsets(range(len(vertices)),2):\n",
    "            intersection = intersect_trop_lines(assumptions, vertices[pair[0]],vertices[pair[1]])\n",
    "            if intersection:\n",
    "                pseudovertices.append(intersection)\n",
    "                index = len(pseudovertices)-1\n",
    "                edges.append([pair[0],index])\n",
    "                edges.append([pair[1],index])\n",
    "            else:\n",
    "                edges.append(list(pair))\n",
    "        return [pseudovertices, edges]\n",
    "\n",
    "\n",
    "def tangent_cone(polytron, vertex_index):\n",
    "    \n",
    "    def primitive_vector_in_edge_direction(assumptions, direction):\n",
    "        x = expression(assumptions = assumptions, coordinates = symbols_to_vector(direction[0]))\n",
    "        y = expression(assumptions = assumptions, coordinates = symbols_to_vector(direction[1]))\n",
    "        x_negative = expression(assumptions = assumptions, coordinates = [-i for i in x.coordinates])\n",
    "        y_negative = expression(assumptions = assumptions, coordinates = [-i for i in y.coordinates])\n",
    "        zero = expression(assumptions = assumptions, coordinates = [0,0,0,0,0,0,0])\n",
    "        \n",
    "        if x==zero and y>zero:\n",
    "            primitive = [ 0, 1]\n",
    "        elif x==zero and y<zero:\n",
    "            primitive = [ 0,-1]\n",
    "        elif x>zero and y>zero:\n",
    "            primitive = [ 1, 1]\n",
    "        elif x>zero and y==zero:\n",
    "            primitive = [ 1, 0]\n",
    "        elif x<zero and y==zero:\n",
    "            primitive = [-1, 0]\n",
    "        elif x<zero and y<zero:\n",
    "            primitive = [-1,-1]\n",
    "        else:\n",
    "            print 'cannot find primitive vector in direction ('+str(x.coordinates)+' , '+str(y.coordinates)+') under assumptions '+str(x.assumptions)\n",
    "        return primitive\n",
    "    \n",
    "    ##compute the generating function of the tangent cone at the given vertex\n",
    "    vertex = polytron.pseudovertices[vertex_index]\n",
    "    \n",
    "    \n",
    "    #find neighbours of vertex\n",
    "    incident_edges_index = [edge for edge in polytron.edges if vertex_index in edge]\n",
    "    neighbours_index = []\n",
    "    for edge_index in incident_edges_index:\n",
    "        for index in edge_index:\n",
    "            if index==vertex_index:\n",
    "                continue\n",
    "            else:\n",
    "                neighbours_index.append(index)    \n",
    "    neighbours = [ polytron.pseudovertices[index] for index in neighbours_index ]\n",
    "    \n",
    "    #compute edge-directions\n",
    "    edge_directions = [ [neighbour[0]-vertex[0],neighbour[1]-vertex[1]] for neighbour in neighbours ]\n",
    "    \n",
    "    primitives=[]\n",
    "    #find primitive vector in edge-direction\n",
    "    for direction in edge_directions:\n",
    "        primitives.append(primitive_vector_in_edge_direction(polytron.assumptions, direction))\n",
    "    \n",
    "    \n",
    "    t1, t2, n = var('t1, t2, n')\n",
    "    return ( t1^(n*vertex[0])* t2^(n*vertex[1]) )  / ( (1 - t1^primitives[0][0] * t2^primitives[0][1]) * (1 - t1^primitives[1][0] * t2^primitives[1][1])  )\n"
   ]
  },
  {
   "cell_type": "markdown",
   "metadata": {},
   "source": [
    "# The Data Structure"
   ]
  },
  {
   "cell_type": "markdown",
   "metadata": {},
   "source": [
    "For each combinatorial type of polytropes, our input consists of inequalities of the form $a-b+f > 0$ in terms of variables $a,b,c,d,e,f$. For practical reasons, we translate such inequalities to $0 / \\pm 1$-vectors. \n",
    "\n",
    "For example, the inequality $a > 0$ is translated to $(0, 1, 0, 0, 0, 0)$,  $b > 0$ is translated to $(0, 0, 1, 0, 0, 0, 0)$ and $a-b+f>0$ becomes $(0, 1, -1, 0, 0, 0, 1)$. "
   ]
  },
  {
   "cell_type": "markdown",
   "metadata": {},
   "source": [
    "Instead of symbolic expressions, we work with the class ``expression``. An ``expression`` consists two things: <br/>\n",
    "1. The ``coordinates`` is a $0/\\pm 1$-vector, that corresponds to a symbolic expression. <br/>\n",
    "2. The ``assumptions`` is a list of assumptions, also corresponding to symbolic exressions.\n",
    "\n",
    "The expression ``e1`` below corrsponds to the symbolic expression $a>0$ under the assumptions $a>0, a+b>0$, the expression ``e2`` corresponds to the symbolic expression $b>0$ under the same assumption, and ``zero`` corresponds to $0$. "
   ]
  },
  {
   "cell_type": "code",
   "execution_count": 4,
   "metadata": {},
   "outputs": [
    {
     "data": {
      "text/plain": [
       "a"
      ]
     },
     "execution_count": 4,
     "metadata": {},
     "output_type": "execute_result"
    }
   ],
   "source": [
    "e1 = expression(coordinates = [0,1,0,0,0,0,0], assumptions = [[0,1,0,0,0,0,0],[0,1,1,0,0,0,0]])\n",
    "e2 = expression(coordinates = [0,0,1,0,0,0,0], assumptions = [[0,1,0,0,0,0,0],[0,1,1,0,0,0,0]])\n",
    "zero = expression(coordinates = [0,0,0,0,0,0,0], assumptions = [[0,1,0,0,0,0,0],[0,1,1,0,0,0,0]])\n",
    "e1.as_symbols()"
   ]
  },
  {
   "cell_type": "markdown",
   "metadata": {},
   "source": [
    "When we test if $a>0$ is valid under these assumptions, then internally the expression generates the polyhedron that is defined by the inequalities given by ```assumptions``` and checks whether the interior of this polyhedron is contained in the open halfspace that has ```coordinates``` as normal vector."
   ]
  },
  {
   "cell_type": "code",
   "execution_count": 5,
   "metadata": {},
   "outputs": [
    {
     "data": {
      "text/plain": [
       "True"
      ]
     },
     "execution_count": 5,
     "metadata": {},
     "output_type": "execute_result"
    }
   ],
   "source": [
    "e1.is_valid_strict()"
   ]
  },
  {
   "cell_type": "markdown",
   "metadata": {},
   "source": [
    "If both expressions have the same asumptions, then we can add them up."
   ]
  },
  {
   "cell_type": "code",
   "execution_count": 6,
   "metadata": {},
   "outputs": [
    {
     "name": "stdout",
     "output_type": "stream",
     "text": [
      "a + b\n",
      "(0, 1, 1, 0, 0, 0, 0)\n"
     ]
    }
   ],
   "source": [
    "g = e1+e2\n",
    "print g.as_symbols()\n",
    "print g.coordinates"
   ]
  },
  {
   "cell_type": "markdown",
   "metadata": {},
   "source": [
    "We can try to compare them:"
   ]
  },
  {
   "cell_type": "code",
   "execution_count": 7,
   "metadata": {},
   "outputs": [
    {
     "name": "stdout",
     "output_type": "stream",
     "text": [
      "False\n",
      "True\n"
     ]
    }
   ],
   "source": [
    "print e1.is_comparable_to(e2)\n",
    "print zero.is_comparable_to(g)"
   ]
  },
  {
   "cell_type": "markdown",
   "metadata": {},
   "source": [
    "If they are comparable, we can find the minimum:"
   ]
  },
  {
   "cell_type": "code",
   "execution_count": 8,
   "metadata": {},
   "outputs": [
    {
     "name": "stdout",
     "output_type": "stream",
     "text": [
      "True\n",
      "0\n"
     ]
    }
   ],
   "source": [
    "print zero < g\n",
    "print minimum(zero,g).as_symbols()"
   ]
  },
  {
   "cell_type": "markdown",
   "metadata": {},
   "source": [
    "# Constructing the Kleene fan"
   ]
  },
  {
   "cell_type": "markdown",
   "metadata": {},
   "source": [
    "Making the Polyhedral Subdivision of $\\mathbb R^d$  for 6 variables"
   ]
  },
  {
   "cell_type": "markdown",
   "metadata": {},
   "source": [
    "The Setup: "
   ]
  },
  {
   "cell_type": "code",
   "execution_count": 9,
   "metadata": {},
   "outputs": [
    {
     "data": {
      "image/png": "[encoded data removed]",
      "text/plain": [
       "Graphics object consisting of 18 graphics primitives"
      ]
     },
     "metadata": {},
     "output_type": "display_data"
    }
   ],
   "source": [
    "D = matrix([[0,a,b],[c,0,d],[e,f,0]])\n",
    "DG = DiGraph(D,weighted = True)\n",
    "DG.show(edge_labels = True)"
   ]
  },
  {
   "cell_type": "markdown",
   "metadata": {},
   "source": [
    "Here is the Kleene star of D:\n",
    "D_Star = $\n",
    "\\begin{pmatrix}\n",
    "min(0,a+c,b+e) & min(a,a,b+f)   & min(b,a+d,b) \\\\\n",
    "min(c,c,d+e)   & min(a+c,0,d+f) & min(c+b,d,d) \\\\\n",
    "min(e,f+c,e)   & min(a+e,f,f)   & min(e+b,d+f,0)\n",
    "\\end{pmatrix}$"
   ]
  },
  {
   "cell_type": "markdown",
   "metadata": {},
   "source": [
    "Creating the regions of the Kleene fan"
   ]
  },
  {
   "cell_type": "code",
   "execution_count": 11,
   "metadata": {},
   "outputs": [],
   "source": [
    "#(1,1)\n",
    "R1   = Polyhedron(ieqs = [[0,-1,1,-1,0,1,0],[0,-1,0,-1,0,0,0]])\n",
    "R2   = Polyhedron(ieqs = [[0,1,0,1,0,0,0],[0,0,1,0,0,1,0]])\n",
    "R3   = Polyhedron(ieqs = [[0,0,-1,0,0,-1,0],[0,1,-1,1,0,-1,0]])\n",
    "F11  = [R1,R2,R3]\n",
    "#(1,2)\n",
    "R4   = Polyhedron(ieqs = [[0,-1,1,0,0,0,1]])\n",
    "R5   = Polyhedron(ieqs = [[0,1,-1,0,0,0,-1]])\n",
    "F12  = [R4,R5]\n",
    "#(1,3)\n",
    "R6   = Polyhedron(ieqs = [[0,1,-1,0,1,0,0]])\n",
    "R7   = Polyhedron(ieqs = [[0,-1,1,0,-1,0,0]])\n",
    "F13  = [R6,R7]\n",
    "#(2,1)\n",
    "R8   = Polyhedron(ieqs = [[0,0,0,-1,1,1,0]])\n",
    "R9   = Polyhedron(ieqs = [[0,0,0,1,-1,-1,0]])\n",
    "F21  = [R8,R9]\n",
    "#(2,2)\n",
    "R10  = Polyhedron(ieqs = [[0,-1,0,-1,1,0,1],[0,-1,0,-1,0,0,0]])\n",
    "R11  = Polyhedron(ieqs = [[0,0,0,0,1,0,1],[0,1,0,1,0,0,0]])\n",
    "R12  = Polyhedron(ieqs = [[0,0,0,0,-1,0,-1],[0,1,0,1,-1,0,-1]])\n",
    "F22  = [R10,R11,R12]\n",
    "#(2,3)\n",
    "R13  = Polyhedron(ieqs = [[0,0,1,1,-1,0,0]])\n",
    "R14  = Polyhedron(ieqs = [[0,0,-1,-1,1,0,0]])\n",
    "F23  = [R13,R14]\n",
    "#(3,1)\n",
    "R15  = Polyhedron(ieqs = [[0,0,0,1,0,-1,1]])\n",
    "R16  = Polyhedron(ieqs = [[0,0,0,-1,0,1,-1]])\n",
    "F31  = [R15,R16]\n",
    "#(3,2)\n",
    "R17  = Polyhedron(ieqs = [[0,1,0,0,0,1,-1]])\n",
    "R18  = Polyhedron(ieqs = [[0,-1,0,0,0,-1,1]])\n",
    "F32  = [R17,R18]\n",
    "#(3,3)\n",
    "R19  = Polyhedron(ieqs = [[0,0,-1,0,1,-1,1],[0,0,-1,0,0,-1,0]])\n",
    "R20  = Polyhedron(ieqs = [[0,0,1,0,0,1,0],[0,0,0,0,1,0,1]])\n",
    "R21  = Polyhedron(ieqs = [[0,0,1,0,-1,1,-1],[0,0,0,0,-1,0,-1]])\n",
    "F33  = [R19,R20,R21]\n",
    "#nonnegative coordinates\n",
    "R22 = Polyhedron(ieqs = [[0,1, 0,0,0,0,0],[0,0,1,0,0,0,0],[0,0,0,1,0,0,0],[0,0,0,0,1,0,0],[0,0,0,0,0,1,0],[0,0,0,0,0,0,1]])\n",
    "F = [R22]"
   ]
  },
  {
   "cell_type": "markdown",
   "metadata": {},
   "source": [
    "Find the feasible, full dimensional regions:"
   ]
  },
  {
   "cell_type": "code",
   "execution_count": 12,
   "metadata": {},
   "outputs": [],
   "source": [
    "def regions_of_complex(polyhedral_complex):\n",
    "    r\"\"\"\n",
    "    Returns the feasible regions of the ``polyhedral_complex``.\n",
    "    Follows the method of regions in the hyperplane arrangements.\n",
    "    \n",
    "    INPUT: \n",
    "    \n",
    "    - ``polyhedral_complex`` -- list. A list of polyhedron objects\n",
    "    \n",
    "    OUTPUT:\n",
    "    \n",
    "    A tuple of regions.\n",
    "    \"\"\"\n",
    "    length = len(polyhedral_complex[0][0].vertices()[0])\n",
    "    R = polyhedral_complex[0][0].base_ring()\n",
    "    universe = Polyhedron(eqns = [[0] + [0]*length],base_ring = R)\n",
    "    regions = [universe]\n",
    "    for fan in polyhedral_complex:\n",
    "        subdivided = []\n",
    "        for region in regions:\n",
    "            for cone in fan:\n",
    "                part = region.intersection(cone)\n",
    "                if part.dim()==length:\n",
    "                    subdivided.append(part)\n",
    "        regions = subdivided\n",
    "    return tuple(regions)"
   ]
  },
  {
   "cell_type": "markdown",
   "metadata": {},
   "source": [
    "Test it on the fans"
   ]
  },
  {
   "cell_type": "code",
   "execution_count": 13,
   "metadata": {},
   "outputs": [],
   "source": [
    "six_variables_complex = [F11,F12,F13,F21,F22,F23,F31,F32,F33]\n",
    "regions = regions_of_complex(six_variables_complex)"
   ]
  },
  {
   "cell_type": "code",
   "execution_count": 14,
   "metadata": {},
   "outputs": [
    {
     "data": {
      "text/plain": [
       "117"
      ]
     },
     "execution_count": 14,
     "metadata": {},
     "output_type": "execute_result"
    }
   ],
   "source": [
    "len(regions)"
   ]
  },
  {
   "cell_type": "markdown",
   "metadata": {},
   "source": [
    "Discard the infeasible regions"
   ]
  },
  {
   "cell_type": "code",
   "execution_count": 15,
   "metadata": {},
   "outputs": [],
   "source": [
    "def feasible_regions(initial_regions):\n",
    "    r\"\"\"\n",
    "    From the regions of a polyhedral complex, return the feasible regions.\n",
    "    \n",
    "    INPUT:\n",
    "    \n",
    "    -  ``initial_regions`` -- tuple of polyhedron objects. \n",
    "    \n",
    "    OUTPUT:\n",
    "    \n",
    "    tuple of polyhedron objects representiing the feasible regions.\n",
    "    \"\"\"\n",
    "\n",
    "    final_regions = list(initial_regions)\n",
    "    for region in initial_regions:\n",
    "        ass = region.inequalities_list()\n",
    "        q1 = expression(coordinates = [0,1, 0,1, 0, 0, 0], assumptions = ass)\n",
    "        q2 = expression(coordinates = [0, 0,1, 0, 0,1, 0], assumptions = ass)\n",
    "        q3 = expression(coordinates = [0, 0, 0, 0,1, 0,1], assumptions = ass)\n",
    "        if q1.is_valid_strict() and q2.is_valid_strict() and q3.is_valid_strict():\n",
    "            continue\n",
    "        else:\n",
    "            final_regions.remove(region)\n",
    "    return final_regions"
   ]
  },
  {
   "cell_type": "code",
   "execution_count": 16,
   "metadata": {},
   "outputs": [],
   "source": [
    "feas_regs = feasible_regions(regions)"
   ]
  },
  {
   "cell_type": "code",
   "execution_count": 17,
   "metadata": {},
   "outputs": [
    {
     "data": {
      "text/plain": [
       "18"
      ]
     },
     "execution_count": 17,
     "metadata": {},
     "output_type": "execute_result"
    }
   ],
   "source": [
    "len(feas_regs)"
   ]
  },
  {
   "cell_type": "markdown",
   "metadata": {},
   "source": [
    "# Computing the Polytropes"
   ]
  },
  {
   "cell_type": "code",
   "execution_count": 17,
   "metadata": {},
   "outputs": [
    {
     "data": {
      "text/plain": [
       "[[0, -1, 1, 0, 0, 0, 1],\n",
       " [0, 0, 0, -1, 1, 1, 0],\n",
       " [0, 0, 0, 0, 0, 0, 1],\n",
       " [0, 0, 0, 0, 0, 1, 0],\n",
       " [0, 0, 0, 0, 1, 0, 0],\n",
       " [0, 0, 0, 1, 0, -1, 1],\n",
       " [0, 0, 0, 1, 0, 0, 0],\n",
       " [0, 0, 1, 0, 0, 0, 0],\n",
       " [0, 0, 1, 1, -1, 0, 0],\n",
       " [0, 1, -1, 0, 1, 0, 0],\n",
       " [0, 1, 0, 0, 0, 0, 0],\n",
       " [0, 1, 0, 0, 0, 1, -1]]"
      ]
     },
     "execution_count": 17,
     "metadata": {},
     "output_type": "execute_result"
    }
   ],
   "source": [
    "first_region= feas_regs[0]\n",
    "first_region.inequalities_list()"
   ]
  },
  {
   "cell_type": "markdown",
   "metadata": {},
   "source": [
    "The ```first_region``` is defined by the inequalities <br/>\n",
    "$a < b + f$ <br/>\n",
    "$c < d + e$ <br/>\n",
    "$e < c + f$ <br/>\n",
    "$d < b + c$ <br/>\n",
    "$b < a + d$ <br/>\n",
    "$f < a + e$ <br/>\n",
    "$a,b,c,d,e,f > 0$"
   ]
  },
  {
   "cell_type": "markdown",
   "metadata": {},
   "source": [
    "These inequalities imply the following kleene star:\n",
    "D_star_one = \n",
    "$\\begin{pmatrix}\n",
    "0 & a & b \\\\\n",
    "c & 0 & d \\\\\n",
    "e & f & 0\n",
    "\\end{pmatrix}$\n",
    "\n",
    "This Kleene star corresponds to a polytrope with tropical vertices $(a,b), (-c, d-c), (f-e, -e)$, given the above inequalities. This is a hexagon."
   ]
  },
  {
   "cell_type": "code",
   "execution_count": 18,
   "metadata": {},
   "outputs": [],
   "source": [
    "def tropical_vertices_from_region(region):\n",
    "    r\"\"\"\n",
    "    Return the symbolic tropical vertices corresponding to \n",
    "    a certain region. \n",
    "    \n",
    "    INPUT:\n",
    "    \n",
    "    - ``region`` -- a polyhedron object. \n",
    "    \n",
    "    OUTPUT:\n",
    "    \n",
    "    A list of the tropical vertices (already in the plane). \n",
    "    \"\"\"\n",
    "\n",
    "    ass = region.inequalities_list()\n",
    "    zero = expression(assumptions = ass, coordinates = [0, 0, 0, 0, 0, 0, 0])\n",
    "    a_ex = expression(assumptions = ass, coordinates = [0, 1, 0, 0, 0, 0, 0])\n",
    "    b_ex = expression(assumptions = ass, coordinates = [0, 0, 1, 0, 0, 0, 0])\n",
    "    c_ex = expression(assumptions = ass, coordinates = [0, 0, 0, 1, 0, 0, 0])\n",
    "    d_ex = expression(assumptions = ass, coordinates = [0, 0, 0, 0, 1, 0, 0])\n",
    "    e_ex = expression(assumptions = ass, coordinates = [0, 0, 0, 0, 0, 1, 0])\n",
    "    f_ex = expression(assumptions = ass, coordinates = [0, 0, 0, 0, 0, 0, 1])\n",
    "    K = [ [zero,                    minimum(a_ex,b_ex+f_ex), minimum(a_ex+d_ex,b_ex)],\n",
    "          [minimum(c_ex,d_ex+e_ex), zero,                    minimum(c_ex+b_ex,d_ex)],\n",
    "          [minimum(f_ex+c_ex,e_ex), minimum(a_ex+e_ex,f_ex), zero                   ]]\n",
    "    symbols_vec = vector([0,a,b,c,d,e,f])\n",
    "    Kleene = []\n",
    "    for row in K:\n",
    "        Kleene.append([ symbols_vec.dot_product(entry.coordinates) for entry in row ])\n",
    "    Kleene = matrix(Kleene)\n",
    "    #subtract the first entry\n",
    "    L = list()\n",
    "    for i in range(len(Kleene.rows())):\n",
    "        new_row = list()\n",
    "        j = Kleene.row(i)[0]\n",
    "        for k in range(1,len(Kleene.row(i))):\n",
    "            new_row.append(Kleene.row(i)[k] - j)\n",
    "        L.append(new_row)\n",
    "    return L"
   ]
  },
  {
   "cell_type": "code",
   "execution_count": 19,
   "metadata": {},
   "outputs": [
    {
     "data": {
      "text/plain": [
       "[[a, b], [-c, -c + d], [-e + f, -e]]"
      ]
     },
     "execution_count": 19,
     "metadata": {},
     "output_type": "execute_result"
    }
   ],
   "source": [
    "verts = tropical_vertices_from_region(first_region)\n",
    "verts"
   ]
  },
  {
   "cell_type": "markdown",
   "metadata": {},
   "source": [
    "Given the tropical vertices and the respective set of inequalities, we can now define our polytrope."
   ]
  },
  {
   "cell_type": "code",
   "execution_count": 20,
   "metadata": {},
   "outputs": [],
   "source": [
    "ass = first_region.inequalities_list()\n",
    "poly = polytron(assumptions = ass, vertices = verts)"
   ]
  },
  {
   "cell_type": "code",
   "execution_count": 21,
   "metadata": {},
   "outputs": [
    {
     "data": {
      "text/plain": [
       "[[a, b], [-c, -c + d], [-e + f, -e]]"
      ]
     },
     "execution_count": 21,
     "metadata": {},
     "output_type": "execute_result"
    }
   ],
   "source": [
    "poly.vertices"
   ]
  },
  {
   "cell_type": "code",
   "execution_count": 22,
   "metadata": {},
   "outputs": [
    {
     "data": {
      "text/plain": [
       "[[a, b], [-c, -c + d], [-e + f, -e], [b - d, b], [a, a - f], [-c, -e]]"
      ]
     },
     "execution_count": 22,
     "metadata": {},
     "output_type": "execute_result"
    }
   ],
   "source": [
    "poly.pseudovertices"
   ]
  },
  {
   "cell_type": "markdown",
   "metadata": {},
   "source": [
    "# Generating function and Ehrhart Polynomial"
   ]
  },
  {
   "cell_type": "markdown",
   "metadata": {},
   "source": [
    "We compute the generating function using Brion's Theorem"
   ]
  },
  {
   "cell_type": "code",
   "execution_count": 23,
   "metadata": {},
   "outputs": [],
   "source": [
    "def gen_fct(polytron):\n",
    "    return sum([tangent_cone(polytron,vertex_index) for vertex_index in range(len(polytron.pseudovertices))])"
   ]
  },
  {
   "cell_type": "code",
   "execution_count": 24,
   "metadata": {},
   "outputs": [
    {
     "data": {
      "text/plain": [
       "(t1^2*t1^(a*n)*t1^(c*n)*t1^(e*n)*t2^2*t2^(b*n)*t2^(c*n)*t2^(e*n)/(t1^(f*n)*t2^(d*n)) - t1*t1^(a*n)*t1^(c*n)*t1^(e*n)*t2*t2^(b*n)*t2^(c*n)*t2^(e*n)/(t1^(f*n)*t2^(d*n)) - t1*t1^(b*n)*t1^(c*n)*t1^(e*n)*t2^2*t2^(b*n)*t2^(c*n)*t2^(e*n)/(t1^(d*n)*t1^(f*n)*t2^(d*n)) - t1^2*t1^(a*n)*t1^(c*n)*t1^(e*n)*t2*t2^(a*n)*t2^(c*n)*t2^(e*n)/(t1^(f*n)*t2^(d*n)*t2^(f*n)) + t1*t1^(b*n)*t1^(c*n)*t1^(e*n)*t2*t2^(b*n)*t2^(c*n)*t2^(e*n)/(t1^(d*n)*t1^(f*n)*t2^(d*n)) + t1*t1^(a*n)*t1^(c*n)*t1^(e*n)*t2*t2^(a*n)*t2^(c*n)*t2^(e*n)/(t1^(f*n)*t2^(d*n)*t2^(f*n)) - t1*t1^(c*n)*t2*t2^(c*n)/t2^(d*n) - t1*t1^(e*n)*t2*t2^(e*n)/t1^(f*n) + t1*t1^(c*n)*t2^(c*n)/t2^(d*n) + t1*t1^(e*n)*t2*t2^(c*n)/(t1^(f*n)*t2^(d*n)) + t1^(e*n)*t2*t2^(e*n)/t1^(f*n) - t1^(e*n)*t2^(c*n)/(t1^(f*n)*t2^(d*n)))/((t1*t2 - 1)*(t1 - 1)*t1^(c*n)*t1^((e - f)*n)*(t2 - 1)*t2^((c - d)*n)*t2^(e*n))"
      ]
     },
     "execution_count": 24,
     "metadata": {},
     "output_type": "execute_result"
    }
   ],
   "source": [
    "generating_f = gen_fct(poly).factor()\n",
    "generating_f"
   ]
  },
  {
   "cell_type": "markdown",
   "metadata": {},
   "source": [
    "We can get the Ehrhart Pplynomial by evaluating the generating function at $(1,\\dots,1)$. But since this would mean division by zero in this case, we first have to replace all variables by $(1-t)$ apply l'hopital."
   ]
  },
  {
   "cell_type": "code",
   "execution_count": 25,
   "metadata": {},
   "outputs": [],
   "source": [
    "def lhopital(generating_f):\n",
    "    #substitute all variables by (1-t)\n",
    "    t = var('t')\n",
    "    for j in range(1,3):\n",
    "         generating_f = generating_f.subs({var('t'+str(j)):1-t})\n",
    "        #generating_f = generating_f.subs({var('t'+str(j)):1-j*t})\n",
    "    \n",
    "    #l'hopital\n",
    "    p = generating_f.numerator()\n",
    "    q = generating_f.denominator()\n",
    "    alpha = 0\n",
    "    p_deriv= p\n",
    "    q_deriv = q\n",
    "    while true:\n",
    "        p_deriv = p_deriv.derivative(t)\n",
    "        q_deriv = q_deriv.derivative(t)\n",
    "        alpha += 1\n",
    "        if not (p_deriv(t=0)==0 or q_deriv(t=0)==0):\n",
    "            break\n",
    "    return p_deriv(t=0)/q_deriv(t=0)"
   ]
  },
  {
   "cell_type": "code",
   "execution_count": 26,
   "metadata": {},
   "outputs": [
    {
     "data": {
      "text/plain": [
       "-1/2*(a^2 - 2*a*b + b^2 + c^2 - 2*(b + c)*d + d^2 - 2*c*e + e^2 - 2*(a + e)*f + f^2)*n^2 + 1/2*(a + b + c + d + e + f)*n + 1"
      ]
     },
     "execution_count": 26,
     "metadata": {},
     "output_type": "execute_result"
    }
   ],
   "source": [
    "ehrhart = lhopital(generating_f).simplify_full()\n",
    "ehrhart"
   ]
  },
  {
   "cell_type": "markdown",
   "metadata": {},
   "source": [
    "# Do it for all regions."
   ]
  },
  {
   "cell_type": "markdown",
   "metadata": {},
   "source": [
    "Computing the generating function for all feasible regions"
   ]
  },
  {
   "cell_type": "code",
   "execution_count": 28,
   "metadata": {},
   "outputs": [
    {
     "name": "stdout",
     "output_type": "stream",
     "text": [
      "computed polytron for region 0\n",
      "computed polytron for region 1\n",
      "computed polytron for region 2\n",
      "computed polytron for region 3\n",
      "computed polytron for region 4\n",
      "computed polytron for region 5\n",
      "computed polytron for region 6\n",
      "computed polytron for region 7\n",
      "computed polytron for region 8\n",
      "computed polytron for region 9\n",
      "computed polytron for region 10\n",
      "computed polytron for region 11\n",
      "computed polytron for region 12\n",
      "computed polytron for region 13\n",
      "computed polytron for region 14\n",
      "computed polytron for region 15\n",
      "computed polytron for region 16\n",
      "computed polytron for region 17\n"
     ]
    }
   ],
   "source": [
    "count = -1\n",
    "generating_fcts = {}\n",
    "for region in feas_regs:\n",
    "    verts = tropical_vertices_from_region(region)\n",
    "    ass = region.inequalities_list()\n",
    "    poly = polytron(ass, verts)\n",
    "    count += 1\n",
    "    print 'computed polytron for region '+str(count)\n",
    "    try:\n",
    "        generating_f = gen_fct(poly).factor()\n",
    "        generating_fcts[generating_f] = ass\n",
    "    except:\n",
    "        print 'impossible to compute generating function for region '+str(count)\n",
    "        continue"
   ]
  },
  {
   "cell_type": "code",
   "execution_count": 30,
   "metadata": {},
   "outputs": [],
   "source": [
    "multivariate_ehrhart = {}\n",
    "for generating_f, ieqs in generating_fcts.items():\n",
    "    ehr = lhopital(generating_f).simplify_full()\n",
    "    multivariate_ehrhart[ehr] = ieqs"
   ]
  },
  {
   "cell_type": "code",
   "execution_count": 39,
   "metadata": {},
   "outputs": [
    {
     "name": "stdout",
     "output_type": "stream",
     "text": [
      "1/2*(2*a*d + d^2 + 2*d*e + 2*(a + e)*f - f^2)*n^2 + 1/2*(2*a + 3*d + 2*e + f)*n + 1\n",
      "   if -a + b - d > 0, f > 0, e > 0, d > 0, c - d - e > 0, a + e - f > 0, a > 0\n",
      "\n",
      "-1/2*(a^2 - 2*a*b - 2*b*c - 2*c*e + e^2 - 2*(a + e)*f + f^2)*n^2 + 1/2*(a + 2*b + 2*c + e + f)*n + 1\n",
      "   if -a + b + f > 0, -b - c + d > 0, f > 0, e > 0, a + e - f > 0, c - e + f > 0, c > 0, b > 0, a > 0\n",
      "\n",
      "-1/2*(a^2 - 2*a*b + b^2 - 2*(b + c)*d + d^2 - 2*(a + c)*f)*n^2 + 1/2*(a + b + 2*c + d + 2*f)*n + 1\n",
      "   if -a + b + f > 0, -c + e - f > 0, f > 0, a > 0, d > 0, c > 0, b > 0, b + c - d > 0, a - b + d > 0\n",
      "\n",
      "-1/2*(a^2 - 2*a*b + b^2 - 2*b*d - 2*d*e - 2*(a + e)*f + f^2)*n^2 + 1/2*(a + b + 2*d + 2*e + f)*n + 1\n",
      "   if -a + b + f > 0, f > 0, e > 0, d > 0, c - d - e > 0, b > 0, a - b + d > 0, a > 0, a + e - f > 0\n",
      "\n",
      "1/2*(2*a*b - b^2 + 2*b*d + 2*(a + d)*e + e^2)*n^2 + 1/2*(2*a + b + 2*d + 3*e)*n + 1\n",
      "   if -a - e + f > 0, a > 0, e > 0, d > 0, c - d - e > 0, b > 0, a - b + d > 0\n",
      "\n",
      "((a + c)*d + (a + c)*f)*n^2 + (a + c + d + f)*n + 1\n",
      "   if -a + b - d > 0, -c + e - f > 0, f > 0, a > 0, d > 0, c > 0\n",
      "\n",
      "(a*b + b*c + (a + c)*e)*n^2 + (a + b + c + e)*n + 1\n",
      "   if -a - e + f > 0, -b - c + d > 0, a > 0, e > 0, b > 0, c > 0\n",
      "\n",
      "-1/2*(c^2 - 2*(b + c)*d + d^2 - 2*c*e + e^2 - 2*(b + e)*f)*n^2 + 1/2*(2*b + c + d + e + 2*f)*n + 1\n",
      "   if -c + d + e > 0, f > 0, e > 0, d > 0, c - e + f > 0, c > 0, b > 0, b + c - d > 0, a - b - f > 0\n",
      "\n",
      "1/2*(b^2 + 2*b*c + 2*c*e - e^2 + 2*(b + e)*f)*n^2 + 1/2*(3*b + 2*c + e + 2*f)*n + 1\n",
      "   if -b - c + d > 0, f > 0, e > 0, a - b - f > 0, c - e + f > 0, c > 0, b > 0\n",
      "\n",
      "1/2*(2*a*b - b^2 - c^2 + 2*(b + c)*d - d^2 + 2*(a + c)*e)*n^2 + 1/2*(2*a + b + c + d + 2*e)*n + 1\n",
      "   if -a - e + f > 0, -c + d + e > 0, a > 0, e > 0, d > 0, c > 0, b > 0, b + c - d > 0, a - b + d > 0\n",
      "\n",
      "-1/2*(a^2 - 2*a*b + b^2 + c^2 - 2*(b + c)*d + d^2 - 2*c*e + e^2 - 2*(a + e)*f + f^2)*n^2 + 1/2*(a + b + c + d + e + f)*n + 1\n",
      "   if -a + b + f > 0, -c + d + e > 0, f > 0, e > 0, d > 0, c - e + f > 0, c > 0, b > 0, b + c - d > 0, a - b + d > 0, a > 0, a + e - f > 0\n",
      "\n",
      "1/2*(a^2 + 2*a*d + d^2 + 2*(a + d)*e + e^2)*n^2 + 3/2*(a + d + e)*n + 1\n",
      "   if -a - e + f > 0, -a + b - d > 0, a > 0, e > 0, d > 0, c - d - e > 0\n",
      "\n",
      "-1/2*(c^2 - 2*(a + c)*d - 2*c*e + e^2 - 2*(a + e)*f + f^2)*n^2 + 1/2*(2*a + c + 2*d + e + f)*n + 1\n",
      "   if -a + b - d > 0, -c + d + e > 0, f > 0, e > 0, d > 0, c - e + f > 0, c > 0, a + e - f > 0, a > 0\n",
      "\n",
      "(b*d + d*e + (b + e)*f)*n^2 + (b + d + e + f)*n + 1\n",
      "   if f > 0, e > 0, d > 0, c - d - e > 0, b > 0, a - b - f > 0\n",
      "\n",
      "-1/2*(a^2 - 2*a*b - 2*b*c - c^2 - 2*(a + c)*f)*n^2 + 1/2*(a + 2*b + 3*c + 2*f)*n + 1\n",
      "   if -a + b + f > 0, -b - c + d > 0, -c + e - f > 0, f > 0, a > 0, b > 0, c > 0\n",
      "\n",
      "1/2*(b^2 + 2*b*c + c^2 + 2*(b + c)*f + f^2)*n^2 + 3/2*(b + c + f)*n + 1\n",
      "   if -b - c + d > 0, -c + e - f > 0, f > 0, a - b - f > 0, b > 0, c > 0\n",
      "\n",
      "1/2*(a^2 - c^2 + 2*(a + c)*d + 2*(a + c)*e)*n^2 + 1/2*(3*a + c + 2*d + 2*e)*n + 1\n",
      "   if -a - e + f > 0, -a + b - d > 0, -c + d + e > 0, a > 0, e > 0, d > 0, c > 0\n",
      "\n",
      "1/2*(2*(b + c)*d - d^2 + 2*(b + c)*f + f^2)*n^2 + 1/2*(2*b + 2*c + d + 3*f)*n + 1\n",
      "   if -c + e - f > 0, f > 0, a - b - f > 0, d > 0, c > 0, b > 0, b + c - d > 0\n",
      "\n"
     ]
    }
   ],
   "source": [
    "for ehr, ieqs in multivariate_ehrhart.items():\n",
    "    print ehr\n",
    "    conditions = [vector_to_symbols(ieq)>0 for ieq in ieqs]\n",
    "    print \"   if \"+str(conditions).strip('[]')\n",
    "    print \"\""
   ]
  }
 ],
 "metadata": {
  "kernelspec": {
   "display_name": "SageMath 8.8.beta5",
   "language": "",
   "name": "sagemath"
  },
  "language_info": {
   "codemirror_mode": {
    "name": "ipython",
    "version": 2
   },
   "file_extension": ".py",
   "mimetype": "text/x-python",
   "name": "python",
   "nbconvert_exporter": "python",
   "pygments_lexer": "ipython2",
   "version": "2.7.15"
  }
 },
 "nbformat": 4,
 "nbformat_minor": 2
}
