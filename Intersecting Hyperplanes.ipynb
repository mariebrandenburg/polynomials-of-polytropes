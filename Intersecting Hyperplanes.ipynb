{
 "cells": [
  {
   "cell_type": "markdown",
   "metadata": {},
   "source": [
    "# Preamble: The uninteresting but necessary functions"
   ]
  },
  {
   "cell_type": "code",
   "execution_count": null,
   "metadata": {},
   "outputs": [],
   "source": [
    "##### Ignore this ####\n",
    "#We test it on the feasible region ```feas_regs[0]``` and two of the vertices of the corresponding polytron.\n",
    "'''\n",
    "a,b,c,d,e,f,x,y = var('a,b,c,d,e,f,x,y')\n",
    "region = [[0, -1, 1, 0, 0, 0, 1],\n",
    "         [0, 0, 0, -1, 1, 1, 0],\n",
    "         [0, 1, 0, 0, 0, 1, -1],\n",
    "         [0, 0, 0, 1, 0, -1, 1],\n",
    "         [0, 1, -1, 0, 1, 0, 0],\n",
    "         [0, 0, 1, 1, -1, 0, 0]]\n",
    "v1 = [a, b]\n",
    "v2 = [-e + f, -e]\n",
    "points = [v1, v2]\n",
    "'''"
   ]
  },
  {
   "cell_type": "code",
   "execution_count": 1,
   "metadata": {},
   "outputs": [],
   "source": [
    "import re\n",
    "def symbols_to_vector(symbolic_expression):\n",
    "    symbols_vec = [0,a,b,c,d,x,y]\n",
    "    string = str(symbolic_expression)\n",
    "    vec = [0,0,0,0,0,0,0]\n",
    "    sign = 1\n",
    "    if string == \"0\":\n",
    "        return vector(vec)\n",
    "    for letter in string:\n",
    "        if letter in [\" \"]:\n",
    "            continue\n",
    "        elif letter in [\"+\"]:\n",
    "            sign = 1\n",
    "        elif letter in [\"-\"]:\n",
    "            sign = -1\n",
    "        elif var(letter) in symbols_vec:\n",
    "            index = symbols_vec.index(var(letter))\n",
    "            vec[index] = 1*sign\n",
    "    return vector(vec)\n",
    "\n",
    "def vector_to_symbols(vect):\n",
    "    symbols_vec = vector([0,a,b,c,d,x,y])\n",
    "    return symbols_vec.dot_product(vector(vect))\n",
    "\n",
    "def string_to_symbols(string):\n",
    "    #input string of the form a + b - c\n",
    "    #output: symbolic expresseion a+b-c\n",
    "    if string[0] in ['-']:\n",
    "        sign = -1\n",
    "        string = string[1:]\n",
    "    else:\n",
    "        sign = 1\n",
    "    res = 0\n",
    "    spl = string.split()\n",
    "    for letter in spl:\n",
    "        if letter in ['+']:\n",
    "            sign = 1\n",
    "        elif letter in ['-']:\n",
    "            sign = -1\n",
    "        else:\n",
    "            symbol = var(letter)\n",
    "            res += sign*symbol\n",
    "    return res"
   ]
  },
  {
   "cell_type": "code",
   "execution_count": 2,
   "metadata": {},
   "outputs": [],
   "source": [
    "class tropical_line: #min tropical line\n",
    "    def __init__(self, apex, assumptions):\n",
    "        self.apex = apex\n",
    "        self.terms = [x-apex[0],y-apex[1],0]\n",
    "        self.assumptions = assumptions\n",
    "        self.horizontal = self.get_horizontal()\n",
    "        self.vertical = self.get_vertical()\n",
    "        self.diagonal = self.get_diagonal()\n",
    "        self.halfrays = [self.vertical, self.horizontal, self.diagonal]\n",
    "        \n",
    "    def get_diagonal(self):\n",
    "        vectors = [symbols_to_vector(term) for term in self.terms]\n",
    "        equations = [vectors[0]-vectors[1]]\n",
    "        inequalities = [vectors[2]-vectors[0],vectors[2]-vectors[1]]\n",
    "        return Polyhedron(eqns = equations, ieqs = inequalities+self.assumptions)\n",
    "\n",
    "    def get_horizontal(self):\n",
    "        vectors = [symbols_to_vector(term) for term in self.terms]\n",
    "        equations = [vectors[1]-vectors[2]]\n",
    "        inequalities = [vectors[0]-vectors[1],vectors[0]-vectors[2]]\n",
    "        return Polyhedron(eqns = equations, ieqs = inequalities+self.assumptions)\n",
    "\n",
    "    def get_vertical(self):\n",
    "        vectors = [symbols_to_vector(term) for term in self.terms]\n",
    "        equations = [vectors[0]-vectors[2]]\n",
    "        inequalities = [vectors[1]-vectors[0],vectors[1]-vectors[2]]\n",
    "        return Polyhedron(eqns = equations, ieqs = inequalities+self.assumptions)"
   ]
  },
  {
   "cell_type": "code",
   "execution_count": 6,
   "metadata": {},
   "outputs": [],
   "source": [
    "a, b, c, d, x, y = var('a, b, c, d, x, y')"
   ]
  },
  {
   "cell_type": "markdown",
   "metadata": {},
   "source": [
    "# The Interesting Part"
   ]
  },
  {
   "cell_type": "markdown",
   "metadata": {},
   "source": [
    "We consider the unique tropical lines (min) that has the point $(a,b)$ as apex. That is, we consider the tropical variety defined by $f(x,y) = \\text{min} \\{x-a, y-b, 0 \\}$. Each of the halfrays of the tropical line are given by a set of equations and inequalities. We refer to these halfrays as ```horizontal, vertical``` and ```diagonal```.\n",
    "\n",
    "It consists of three halfrays: The ```horizontal``` halfray is given by the set of $x-a = 0 \\leq y-b$, the halfrays ```vertical``` and ```diagonal``` are defined analogously.\n",
    "\n",
    "A tropical line always carries global ```assumptions``` about the relationship between the variables with it, e.g. $a>c, d<b$."
   ]
  },
  {
   "cell_type": "markdown",
   "metadata": {},
   "source": [
    "If the assumptions come from a cone in the Kleene star fan, the assumptions look like this:"
   ]
  },
  {
   "cell_type": "code",
   "execution_count": 7,
   "metadata": {},
   "outputs": [],
   "source": [
    "region = [[0,1,0,-1,0],  #c<a\n",
    "          [0,0,1,0,-1],  #d<b\n",
    "          [0,1,-1,-1,1]  #c-a<d-b\n",
    "         ]"
   ]
  },
  {
   "cell_type": "markdown",
   "metadata": {},
   "source": [
    "Since the inequalities in the region do not take the variables $x$ and $y$ into account, we have to extend these vectors in order to embed them into $\\mathbb{R}^6$."
   ]
  },
  {
   "cell_type": "code",
   "execution_count": 8,
   "metadata": {},
   "outputs": [
    {
     "data": {
      "text/plain": [
       "[[0, 1, 0, -1, 0, 0, 0], [0, 0, 1, 0, -1, 0, 0], [0, 1, -1, -1, 1, 0, 0]]"
      ]
     },
     "execution_count": 8,
     "metadata": {},
     "output_type": "execute_result"
    }
   ],
   "source": [
    "global_assumptions = [el+[0,0] for el in region]\n",
    "global_assumptions"
   ]
  },
  {
   "cell_type": "markdown",
   "metadata": {},
   "source": [
    "Let's create a tropical line that has apex $(a,b)$"
   ]
  },
  {
   "cell_type": "code",
   "execution_count": 9,
   "metadata": {},
   "outputs": [
    {
     "data": {
      "text/plain": [
       "[-a + x, -b + y, 0]"
      ]
     },
     "execution_count": 9,
     "metadata": {},
     "output_type": "execute_result"
    }
   ],
   "source": [
    "t1 = tropical_line(apex = [a,b], assumptions = global_assumptions)\n",
    "t1.terms"
   ]
  },
  {
   "cell_type": "markdown",
   "metadata": {},
   "source": [
    "The ```vertical``` halfray of ```t1``` is a polyhedron defined by the inequalities $x-a = 0 \\leq y-b$ and the ```assumptions``` $c<a, d<b, c-a<d-b$."
   ]
  },
  {
   "cell_type": "code",
   "execution_count": 10,
   "metadata": {},
   "outputs": [
    {
     "data": {
      "text/plain": [
       "(An equation (1, 0, 0, 0, -1, 0) x + 0 == 0,\n",
       " An inequality (0, -1, 0, 0, 0, 1) x + 0 >= 0,\n",
       " An inequality (0, 1, 0, -1, 0, 0) x + 0 >= 0,\n",
       " An inequality (1, -1, -1, 1, 0, 0) x + 0 >= 0)"
      ]
     },
     "execution_count": 10,
     "metadata": {},
     "output_type": "execute_result"
    }
   ],
   "source": [
    "t1.vertical.Hrepresentation()"
   ]
  },
  {
   "cell_type": "markdown",
   "metadata": {},
   "source": [
    "Let's define a tropical line ```t2``` with apex $(c,d)$ and compute the intersection point of ```t1.diagonal``` and ```t2.horizontal``` under the ```assumptions``` $c<a, d<b, c-a<d-b$."
   ]
  },
  {
   "cell_type": "code",
   "execution_count": 11,
   "metadata": {},
   "outputs": [
    {
     "data": {
      "text/plain": [
       "[-c + x, -d + y, 0]"
      ]
     },
     "execution_count": 11,
     "metadata": {},
     "output_type": "execute_result"
    }
   ],
   "source": [
    "t2 = tropical_line(apex = [c,d], assumptions = global_assumptions)\n",
    "t2.terms"
   ]
  },
  {
   "cell_type": "code",
   "execution_count": 12,
   "metadata": {},
   "outputs": [
    {
     "data": {
      "text/plain": [
       "(An equation (0, 0, 0, 1, 0, -1) x + 0 == 0,\n",
       " An equation (1, -1, 0, 1, -1, 0) x + 0 == 0,\n",
       " An inequality (1, -1, -1, 1, 0, 0) x + 0 >= 0,\n",
       " An inequality (0, 1, 0, -1, 0, 0) x + 0 >= 0)"
      ]
     },
     "execution_count": 12,
     "metadata": {},
     "output_type": "execute_result"
    }
   ],
   "source": [
    "intersection = t1.diagonal.intersection(t2.horizontal)\n",
    "intersection.Hrepresentation()"
   ]
  },
  {
   "cell_type": "markdown",
   "metadata": {},
   "source": [
    "Translate these equations and inequalities to symbolic expressressions:"
   ]
  },
  {
   "cell_type": "code",
   "execution_count": 13,
   "metadata": {},
   "outputs": [
    {
     "data": {
      "text/plain": [
       "[d - y == 0, a - b + d - x == 0]"
      ]
     },
     "execution_count": 13,
     "metadata": {},
     "output_type": "execute_result"
    }
   ],
   "source": [
    "equations    = [vector_to_symbols([0]+list(eqn.A())) ==0 for eqn in intersection.equations()]\n",
    "equations"
   ]
  },
  {
   "cell_type": "code",
   "execution_count": 14,
   "metadata": {},
   "outputs": [
    {
     "data": {
      "text/plain": [
       "[a - b - c + d > 0, b - d > 0]"
      ]
     },
     "execution_count": 14,
     "metadata": {},
     "output_type": "execute_result"
    }
   ],
   "source": [
    "inequalities = [vector_to_symbols([0]+list(ieq.A())) > 0 for ieq in intersection.inequalities()]\n",
    "inequalities"
   ]
  },
  {
   "cell_type": "markdown",
   "metadata": {},
   "source": [
    "Solve this system of inequalities / equations for x and y!"
   ]
  },
  {
   "cell_type": "code",
   "execution_count": 15,
   "metadata": {},
   "outputs": [
    {
     "data": {
      "text/plain": [
       "[[x == a - b + d, y == d, b - d > 0, a - b - c + d > 0]]"
      ]
     },
     "execution_count": 15,
     "metadata": {},
     "output_type": "execute_result"
    }
   ],
   "source": [
    "solution = solve(inequalities+equations, x,y)\n",
    "solution"
   ]
  },
  {
   "cell_type": "markdown",
   "metadata": {},
   "source": [
    "Extract the relevant data from this solution:"
   ]
  },
  {
   "cell_type": "code",
   "execution_count": 17,
   "metadata": {},
   "outputs": [
    {
     "name": "stdout",
     "output_type": "stream",
     "text": [
      "intersection point: [a - b + d, d]\n"
     ]
    }
   ],
   "source": [
    "#parsing the solution\n",
    "relevant = [re.split(' == ', str(el)) for el in solution[0] if ' == ' in str(el)]\n",
    "res = [None,None]\n",
    "for el in relevant:\n",
    "    if 'x' in el:\n",
    "        el.remove('x')\n",
    "        res[0] = string_to_symbols(el[0])\n",
    "    elif 'y' in el:\n",
    "        el.remove('y')\n",
    "        res[1] = string_to_symbols(el[0])\n",
    "\n",
    "print 'intersection point: '+str(res)"
   ]
  },
  {
   "cell_type": "markdown",
   "metadata": {},
   "source": [
    "If we instead consider the intersection of ```t1.diagonal``` and ```t2.vertical``` under the ```assumptions``` $c<a, d<b, c-a<d-b$, we have the equation ```(1, -1, -1, 1, 0, 0) x + 0 == 0```, which translates to $a-c = d-b$."
   ]
  },
  {
   "cell_type": "code",
   "execution_count": 18,
   "metadata": {},
   "outputs": [
    {
     "data": {
      "text/plain": [
       "(An equation (1, -1, -1, 0, 0, 1) x + 0 == 0,\n",
       " An equation (0, 0, 1, 0, -1, 0) x + 0 == 0,\n",
       " An equation (1, -1, -1, 1, 0, 0) x + 0 == 0,\n",
       " An inequality (1, 0, -1, 0, 0, 0) x + 0 >= 0)"
      ]
     },
     "execution_count": 18,
     "metadata": {},
     "output_type": "execute_result"
    }
   ],
   "source": [
    "intersection = t1.diagonal.intersection(t2.vertical)\n",
    "intersection.Hrepresentation()"
   ]
  },
  {
   "cell_type": "markdown",
   "metadata": {},
   "source": [
    "This means that all solutions in this (closed) polyhedron satisfy $c-a\\leq d-b$ only with equality. In this case, we can say that the $2$-dimensional halfrays do not intersect, given that our assumptions containing only strict inequalities. "
   ]
  },
  {
   "cell_type": "markdown",
   "metadata": {},
   "source": [
    "Compare each pair of halfrays to get the intersection point:"
   ]
  },
  {
   "cell_type": "code",
   "execution_count": 19,
   "metadata": {},
   "outputs": [
    {
     "name": "stdout",
     "output_type": "stream",
     "text": [
      "[a - b + d, d]\n"
     ]
    }
   ],
   "source": [
    "res = [0,0]\n",
    "count = 0\n",
    "for ray1 in t1.halfrays:\n",
    "    for ray2 in t2.halfrays:\n",
    "        intersection = ray1.intersection(ray2)\n",
    "        eq = [list(equation.A()) for equation in intersection.equations()]\n",
    "        if [1, 0, -1, 0, 0, 0] in eq or [0, 1, 0, -1, 0, 0] in eq or [1,-1,-1,1,0,0] in eq:\n",
    "            continue\n",
    "        else:\n",
    "            inequalities = [vector_to_symbols([0]+list(ieq.A())) > 0 for ieq in intersection.inequalities()]\n",
    "            equations    = [vector_to_symbols([0]+list(eqn.A())) ==0 for eqn in intersection.equations()]\n",
    "            solution = solve(inequalities+equations, x,y)\n",
    "            if len(solution)==1:\n",
    "                #parsing the solution\n",
    "                relevant = [re.split(' == ', str(el)) for el in solution[0] if ' == ' in str(el)]\n",
    "                for el in relevant:\n",
    "                    if 'x' in el:\n",
    "                        el.remove('x')\n",
    "                        res[0] = string_to_symbols(el[0])\n",
    "                    elif 'y' in el:\n",
    "                        el.remove('y')\n",
    "                        res[1] = string_to_symbols(el[0])\n",
    "                print res\n",
    "            else:\n",
    "                print 'more than one solution'"
   ]
  }
 ],
 "metadata": {
  "kernelspec": {
   "display_name": "SageMath 8.3",
   "language": "",
   "name": "sagemath"
  },
  "language_info": {
   "codemirror_mode": {
    "name": "ipython",
    "version": 2
   },
   "file_extension": ".py",
   "mimetype": "text/x-python",
   "name": "python",
   "nbconvert_exporter": "python",
   "pygments_lexer": "ipython2",
   "version": "2.7.15"
  }
 },
 "nbformat": 4,
 "nbformat_minor": 2
}
