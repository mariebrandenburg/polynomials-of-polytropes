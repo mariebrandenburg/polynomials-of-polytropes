{
 "cells": [
  {
   "cell_type": "markdown",
   "metadata": {},
   "source": [
    "# Computing the convex hull of 2 points in d-space"
   ]
  },
  {
   "cell_type": "markdown",
   "metadata": {},
   "source": [
    "Following the book 'Introduction to Tropical Goemetry', Prop. 5.2.5"
   ]
  },
  {
   "cell_type": "markdown",
   "metadata": {},
   "source": [
    "First, we copy some stuff from the other sage code that allows us to compute everything symbolically"
   ]
  },
  {
   "cell_type": "code",
   "execution_count": 78,
   "metadata": {},
   "outputs": [],
   "source": [
    "a,b,c,d,e,f = var('a,b,c,d,e,f')"
   ]
  },
  {
   "cell_type": "code",
   "execution_count": 79,
   "metadata": {},
   "outputs": [],
   "source": [
    "def symbols_to_vector(symbolic_expression):\n",
    "    symbols_vec = [0,a,b,c,d,e,f]\n",
    "    string = str(symbolic_expression)\n",
    "    vec = [0,0,0,0,0,0,0]\n",
    "    sign = 1\n",
    "    if string == \"0\":\n",
    "        return vector(vec)\n",
    "    for letter in string:\n",
    "        if letter in [\" \"]:\n",
    "            continue\n",
    "        elif letter in [\"+\"]:\n",
    "            sign = 1\n",
    "        elif letter in [\"-\"]:\n",
    "            sign = -1\n",
    "        elif var(letter) in symbols_vec:\n",
    "            index = symbols_vec.index(var(letter))\n",
    "            vec[index] = 1*sign\n",
    "    return vector(vec)\n",
    "\n",
    "class expression:\n",
    "    \n",
    "    def __init__(self, coordinates, assumptions):\n",
    "        self.assumptions = assumptions\n",
    "        self.coordinates = vector(coordinates)\n",
    "        \n",
    "    def is_valid_strict(self):\n",
    "        #checks if a strict inequality (question) is satified under the assumptions of other strict inequalities\n",
    "        #this is not satisfied if intP interected with H_c is nonempty\n",
    "        P = Polyhedron(ieqs = self.assumptions)\n",
    "        #complement of halfspace defined by strict inequality in question\n",
    "        H_c = Polyhedron(ieqs = [[-i for i in self.coordinates]]) \n",
    "        if len(H_c.intersection(P).vertices())==0:\n",
    "            return true\n",
    "        else:\n",
    "            for F in P.faces(5):\n",
    "                if H_c.intersection(F.as_polyhedron()) == H_c.intersection(P):\n",
    "                    return true\n",
    "        return false\n",
    "    \n",
    "    def is_valid_nonstrict(self):\n",
    "        #checks if a non-strict inequality (question) is satified under the assumptions of other strict inequalities\n",
    "        #this is satisfied if intP is contained in H. H is closed, so this is equivalent to P contianed in H\n",
    "        P = Polyhedron(ieqs = self.assumptions)\n",
    "        H = Polyhedron(ieqs = [self.coordinates]) \n",
    "        if H.intersection(P)==P:\n",
    "            return true\n",
    "        else:     \n",
    "            return false\n",
    "\n",
    "    def  __gt__(self, other):\n",
    "        #definition of >\n",
    "        #return self.is_valid_strict(assumptions, self.coordinates - other.coordinates)\n",
    "        return expression(coordinates = self.coordinates - other.coordinates, assumptions = self.assumptions).is_valid_strict()\n",
    "    \n",
    "    def __lt__(self,other):\n",
    "        #definition of <\n",
    "        return expression(coordinates = other.coordinates - self.coordinates, assumptions = self.assumptions).is_valid_strict()\n",
    "    \n",
    "    def __eq__(self, other):\n",
    "        #definition of ==\n",
    "        if expression(coordinates = self.coordinates - other.coordinates, assumptions = self.assumptions).is_valid_nonstrict() and expression(coordinates = other.coordinates - self.coordinates, assumptions = self.assumptions).is_valid_nonstrict(): \n",
    "            return true\n",
    "        else:\n",
    "            return false\n",
    "    \n",
    "    def __le__(self, other):\n",
    "        #definition of <=\n",
    "        return (self<other or self==other)\n",
    "    \n",
    "    def __ge__(self, other):\n",
    "        #definition of >=\n",
    "        return (self>other or self==other)\n",
    "    \n",
    "    def __add__(self,other):\n",
    "        #definition of +\n",
    "        return expression(coordinates = self.coordinates + other.coordinates, assumptions = self.assumptions)\n",
    "    \n",
    "    def __sub__(self,other):\n",
    "        #definition of -\n",
    "        return expression(coordinates = self.coordinates - other.coordinates, assumptions = self.assumptions)\n",
    "    \n",
    "    def is_comparable_to(self, other):\n",
    "        if self>= other or self <= other:\n",
    "            return true\n",
    "        else:\n",
    "            return false\n",
    "        \n",
    "    def as_symbols(self):\n",
    "        symbols_vec = vector([0,a,b,c,d,e,f])\n",
    "        return symbols_vec.dot_product(vector(self.coordinates))"
   ]
  },
  {
   "cell_type": "markdown",
   "metadata": {},
   "source": [
    "As test set, we take the first feasible region in the Kleene fan, which corresponds to the Kleene star\n",
    "$\\begin{pmatrix}\n",
    "0 & a & b \\\\\n",
    "c & 0 & d \\\\\n",
    "e & f & 0\n",
    "\\end{pmatrix}$.\n",
    "\n",
    "Thus, the corresponding polytrope has tropical vertices $(a,b), (-c, d-c), (f-e, -e)$."
   ]
  },
  {
   "cell_type": "code",
   "execution_count": 80,
   "metadata": {},
   "outputs": [],
   "source": [
    "region_ieqs = [[0, -1, 1, 0, 0, 0, 1],\n",
    " [0, 0, 0, -1, 1, 1, 0],\n",
    " [0, 0, 0, 0, 0, 0, 1],\n",
    " [0, 0, 0, 0, 0, 1, 0],\n",
    " [0, 0, 0, 0, 1, 0, 0],\n",
    " [0, 0, 0, 1, 0, -1, 1],\n",
    " [0, 0, 0, 1, 0, 0, 0],\n",
    " [0, 0, 1, 0, 0, 0, 0],\n",
    " [0, 0, 1, 1, -1, 0, 0],\n",
    " [0, 1, -1, 0, 1, 0, 0],\n",
    " [0, 1, 0, 0, 0, 0, 0],\n",
    " [0, 1, 0, 0, 0, 1, -1]]\n",
    "vertices = [[a,b], [-c, d-c], [f-e, -e]]"
   ]
  },
  {
   "cell_type": "code",
   "execution_count": 81,
   "metadata": {},
   "outputs": [
    {
     "name": "stdout",
     "output_type": "stream",
     "text": [
      "[a, b] [-c, -c + d]\n"
     ]
    }
   ],
   "source": [
    "vertex1 = vertices[0]\n",
    "vertex2 = vertices[1]\n",
    "print vertex1, vertex2"
   ]
  },
  {
   "cell_type": "markdown",
   "metadata": {},
   "source": [
    "For normalization purposes, we have to add a 0 as first coordinate"
   ]
  },
  {
   "cell_type": "code",
   "execution_count": 82,
   "metadata": {},
   "outputs": [
    {
     "name": "stdout",
     "output_type": "stream",
     "text": [
      "(0, a, b) (0, -c, -c + d)\n"
     ]
    }
   ],
   "source": [
    "v1 = vector([0]+list(vertex1))\n",
    "v2 = vector([0]+list(vertex2))\n",
    "length = len(list(v1))\n",
    "print v1, v2"
   ]
  },
  {
   "cell_type": "markdown",
   "metadata": {},
   "source": [
    "We want to find a permutation $\\pi$ of indices such that $v2_{\\pi(i)}-v1_{\\pi(i)}\\leq v2_{\\pi(i+1)}-v1_{\\pi(i+1)}$ for all indices $i$"
   ]
  },
  {
   "cell_type": "code",
   "execution_count": 83,
   "metadata": {},
   "outputs": [
    {
     "data": {
      "text/plain": [
       "[[0, 0], [-a - c, 1], [-b - c + d, 2]]"
      ]
     },
     "execution_count": 83,
     "metadata": {},
     "output_type": "execute_result"
    }
   ],
   "source": [
    "pairs = [[v2[i]-v1[i], i] for i in range(length)]\n",
    "pairs"
   ]
  },
  {
   "cell_type": "code",
   "execution_count": 84,
   "metadata": {},
   "outputs": [
    {
     "data": {
      "text/plain": [
       "[[-a - c, 1], [-b - c + d, 2], [0, 0]]"
      ]
     },
     "execution_count": 84,
     "metadata": {},
     "output_type": "execute_result"
    }
   ],
   "source": [
    "sorted_ex = sorted([[expression(assumptions = region_ieqs, coordinates = symbols_to_vector(el[0])), el[1]] for el in pairs],key=lambda x: x[0])\n",
    "[[el[0].as_symbols(), el[1]] for el in sorted_ex]"
   ]
  },
  {
   "cell_type": "markdown",
   "metadata": {},
   "source": [
    "Following Prop. 5.2.5, we can explicitly write down the points on the line"
   ]
  },
  {
   "cell_type": "code",
   "execution_count": 85,
   "metadata": {},
   "outputs": [
    {
     "name": "stdout",
     "output_type": "stream",
     "text": [
      "[[-a - c, -c, -c + d]]\n"
     ]
    }
   ],
   "source": [
    "pseudovertices = []\n",
    "for i in range(1,length-1):\n",
    "    current = permutation[i]\n",
    "    pseudo = [0]*length\n",
    "    for index in permutation[:i]:\n",
    "        pseudo[index] = v2[index]\n",
    "    for index in permutation[i:]:\n",
    "        pseudo[index] = v2[current] - v1[current] + v1[index]\n",
    "    pseudovertices.append(pseudo)\n",
    "print pseudovertices"
   ]
  },
  {
   "cell_type": "markdown",
   "metadata": {},
   "source": [
    "Normalize by setting the first coordinate to zero"
   ]
  },
  {
   "cell_type": "code",
   "execution_count": 86,
   "metadata": {},
   "outputs": [
    {
     "name": "stdout",
     "output_type": "stream",
     "text": [
      "(0, a, a + d)\n"
     ]
    }
   ],
   "source": [
    "for point in pseudovertices:\n",
    "    normalization = vector(pseudo) - vector([pseudo[0]]*length)\n",
    "    print normalization"
   ]
  },
  {
   "cell_type": "code",
   "execution_count": 89,
   "metadata": {},
   "outputs": [],
   "source": [
    "def pseudovertices_on_line_symb(vertex1,vertex2,assumpt):\n",
    "    #add zero for normalization purposes\n",
    "    v1 = vector([0]+list(vertex1))\n",
    "    v2 = vector([0]+list(vertex2))\n",
    "    length = len(list(v1))\n",
    "    #find permutation p of indices s.t. v2[p(i)]-v1[p(i)]<=v2[p(i+1)]-v1[p(i+1)]\n",
    "    pairs = [[v2[i]-v1[i], i] for i in range(length)]\n",
    "    sorted_ex = sorted([[expression(assumptions = assumpt, coordinates = symbols_to_vector(el[0])), el[1]] for el in pairs],key=lambda x: x[0])\n",
    "    permutation = [x[1] for x in sorted_ex]\n",
    "    #compute inner pseudovertices on line segment\n",
    "    pseudovertices = []\n",
    "    for i in range(1,length-1):\n",
    "        current = permutation[i]\n",
    "        pseudo = [0]*length\n",
    "        for index in permutation[:i]:\n",
    "            pseudo[index] = v2[index]\n",
    "        for index in permutation[i:]:\n",
    "            pseudo[index] = v2[current] - v1[current] + v1[index]\n",
    "        normalization = vector(pseudo) - vector([pseudo[0]]*length)\n",
    "        pseudovertices.append(list(normalization[1:]))\n",
    "    return pseudovertices"
   ]
  },
  {
   "cell_type": "code",
   "execution_count": 90,
   "metadata": {},
   "outputs": [
    {
     "name": "stdout",
     "output_type": "stream",
     "text": [
      "[[b - d, b]]\n",
      "[[a, a - f]]\n",
      "[[-c, -e]]\n"
     ]
    }
   ],
   "source": [
    "for pair in Subsets(range(len(vertices)),2):\n",
    "    print pseudovertices_on_line_symb(vertices[pair[0]],vertices[pair[1]],region_ieqs)"
   ]
  },
  {
   "cell_type": "markdown",
   "metadata": {},
   "source": [
    "The same works for actual numbers:"
   ]
  },
  {
   "cell_type": "code",
   "execution_count": 91,
   "metadata": {},
   "outputs": [],
   "source": [
    "def pseudovertices_on_line(vertex1,vertex2):\n",
    "    #add zero for normalization purposes\n",
    "    v1 = vector([0]+list(vertex1))\n",
    "    v2 = vector([0]+list(vertex2))\n",
    "    length = len(list(v1))\n",
    "    #find permutation p of indices s.t. v2[p(i)]-v1[p(i)]<=v2[p(i+1)]-v1[p(i+1)]\n",
    "    pairs = [[v2[i]-v1[i], i] for i in range(length)]\n",
    "    permutation = [x[1] for x in sorted(pairs,key=lambda x: x[0])]\n",
    "    #compute inner pseudovertices on line segment\n",
    "    pseudovertices = []\n",
    "    for i in range(1,length-1):\n",
    "        current = permutation[i]\n",
    "        pseudo = [0]*length\n",
    "        for index in permutation[:i]:\n",
    "            pseudo[index] = v2[index]\n",
    "        for index in permutation[i:]:\n",
    "            pseudo[index] = v2[current] - v1[current] + v1[index]\n",
    "        normalization = vector(pseudo) - vector([pseudo[0]]*length)\n",
    "        pseudovertices.append(list(normalization[1:]))\n",
    "    return pseudovertices"
   ]
  },
  {
   "cell_type": "code",
   "execution_count": 93,
   "metadata": {},
   "outputs": [
    {
     "data": {
      "text/plain": [
       "[[1, 1, 1, 1, 1], [1, 2, 2, 2, 2], [1, 2, 3, 3, 3], [1, 2, 3, 4, 4]]"
      ]
     },
     "execution_count": 93,
     "metadata": {},
     "output_type": "execute_result"
    }
   ],
   "source": [
    "pseudovertices_on_line([0,0,0,0,0],[1,2,3,4,5])"
   ]
  },
  {
   "cell_type": "code",
   "execution_count": null,
   "metadata": {},
   "outputs": [],
   "source": []
  }
 ],
 "metadata": {
  "kernelspec": {
   "display_name": "SageMath 8.3",
   "language": "",
   "name": "sagemath"
  },
  "language_info": {
   "codemirror_mode": {
    "name": "ipython",
    "version": 2
   },
   "file_extension": ".py",
   "mimetype": "text/x-python",
   "name": "python",
   "nbconvert_exporter": "python",
   "pygments_lexer": "ipython2",
   "version": "2.7.15"
  }
 },
 "nbformat": 4,
 "nbformat_minor": 2
}
