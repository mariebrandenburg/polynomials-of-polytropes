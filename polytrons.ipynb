{
 "cells": [
  {
   "cell_type": "code",
   "execution_count": 298,
   "metadata": {},
   "outputs": [],
   "source": [
    "def intersect_trop_lines(first,second):\n",
    "    a = first[0]\n",
    "    b = first[1]\n",
    "    c = second[0]\n",
    "    d = second[1]\n",
    "    #anchored at (c,d)\n",
    "    if a>c and b>d and a>b: #1\n",
    "        return [c+b,d+b]\n",
    "    if a>c and b>d and a<b: #2\n",
    "        return [c+a,d+a]\n",
    "    if a>c and b>d and a==b:\n",
    "        return [c+b-d,b]\n",
    "    if a<c and b>d: #3\n",
    "        return [a,d]\n",
    "    if a<c and b<d and a<b: #4\n",
    "        return [a+d-b,d]\n",
    "    if a<c and b<d and a>b: #5\n",
    "        return [c,b+c-a]\n",
    "    if a<c and b<d and a==b:\n",
    "        return [c,b+c-a]\n",
    "    if a>c and d>b: #6\n",
    "        return [c,b]\n",
    "    #anchored at (a,b)\n",
    "    if c>a and d>b and c>d: #1\n",
    "        return [a+d,b+d]\n",
    "    if c>a and d>b and c<d: #2\n",
    "        return [a+c,b+c]\n",
    "    if c>a and d>b and c==d:\n",
    "        return [a+d-b,d]\n",
    "    if c<a and d>b: #3\n",
    "        return [c,b]\n",
    "    if c<a and d<b and c<d: #4\n",
    "        return [c+b-d,b]\n",
    "    if c<a and d<b and c>d: #5\n",
    "        return [a,d+a-c]\n",
    "    if c<a and d<b and c==d:\n",
    "        return [a,d+a-c]\n",
    "    if c>a and b>d: #6\n",
    "        return [a,d]\n",
    "    \n",
    "    \n",
    "def compute_pseudovertices(vertices):\n",
    "    pseudovertices = copy(vertices)\n",
    "    edges = []\n",
    "    for pair in Subsets(range(len(vertices)),2):\n",
    "        if intersect_trop_lines(vertices[pair[0]],vertices[pair[1]]):\n",
    "            pseudovertices.append(intersect_trop_lines(vertices[pair[0]],vertices[pair[1]]))\n",
    "            index = len(pseudovertices)-1\n",
    "            edges.append([pair[0],index])\n",
    "            edges.append([pair[1],index])\n",
    "        else:\n",
    "            edges.append(list(pair))\n",
    "    return {'pseudo': pseudovertices, 'edges': edges, 'vertices': vertices}\n",
    "\n",
    "\n",
    "def tangent_cone(polytron, vertex_index):\n",
    "    \n",
    "    def primitive_vector_in_edge_direction(direction):\n",
    "        x = direction[0]\n",
    "        y = direction[1]\n",
    "        if x==0 and y>0:\n",
    "            primitive = [ 0, 1]\n",
    "        elif x==0 and y<0:\n",
    "            primitive = [ 0,-1]\n",
    "        elif x>0 and y>0:\n",
    "            primitive = [ 1, 1]\n",
    "        elif x>0 and y==0:\n",
    "            primitive = [ 1, 0]\n",
    "        elif x<0 and y==0:\n",
    "            primitive = [-1, 0]\n",
    "        elif x<0 and y<0:\n",
    "            primitive = [-1,-1]\n",
    "        else:\n",
    "            print 'not assigned'\n",
    "        return primitive\n",
    "    \n",
    "    ##compute the generating function of the tangent cone at the given vertex\n",
    "    vertex = polytron['pseudo'][vertex_index]\n",
    "    \n",
    "    \n",
    "    #find neighbours of vertex\n",
    "    incident_edges_index = [edge for edge in polytron[\"edges\"] if vertex_index in edge]\n",
    "    neighbours_index = []\n",
    "    for edge_index in incident_edges_index:\n",
    "        for index in edge_index:\n",
    "            if index==vertex_index:\n",
    "                continue\n",
    "            else:\n",
    "                neighbours_index.append(index)    \n",
    "    neighbours = [ polytron['pseudo'][index] for index in neighbours_index ]\n",
    "    \n",
    "    #compute edge-directions\n",
    "    edge_directions = [ [neighbour[0]-vertex[0],neighbour[1]-vertex[1]] for neighbour in neighbours ]\n",
    "    \n",
    "    primitives=[]\n",
    "    #find primitive vector in edge-direction\n",
    "    for direction in edge_directions:\n",
    "        primitives.append(primitive_vector_in_edge_direction(direction))\n",
    "    \n",
    "    \n",
    "    t1, t2, n = var('t1, t2, n')\n",
    "    return ( t1^(n*vertex[0])* t2^(n*vertex[1]) )  / ( (1 - t1^primitives[0][0] * t2^primitives[0][1]) * (1 - t1^primitives[1][0] * t2^primitives[1][1])  )\n",
    "\n",
    "def gen_fct(polytron):\n",
    "    #for vertex_index in range(len(polytron[\"pseudo\"])):\n",
    "        #print tangent_cone(polytron,vertex_index)  \n",
    "    return sum([tangent_cone(polytron,vertex_index) for vertex_index in range(len(polytron[\"pseudo\"]))])\n",
    "\n",
    "def ehrhart(polytron):\n",
    "    solutions = [f(a=0,b=0).factor()(n=k).factor()(t1=1,t2=1) for k in range(1,4)]\n",
    "    mat = matrix([ [1,1,1],\n",
    "                   [4,2,1],\n",
    "                   [9,3,1] ])\n",
    "    coeffs = mat.solve_right(vector(solutions))\n",
    "    t = var('t')\n",
    "    return sum(coeffs[i]*t^(2-i) for i in range(3))\n",
    "        \n"
   ]
  },
  {
   "cell_type": "code",
   "execution_count": 299,
   "metadata": {},
   "outputs": [
    {
     "name": "stdout",
     "output_type": "stream",
     "text": [
      "(t1^2*t1^((a + 3)*n)*t1^(b*n)*t1^(2*n)*t2^2*t2^(a*n)*t2^n - t1*t1^((a + 3)*n)*t1^(b*n)*t1^(2*n)*t2*t2^(a*n)*t2^n - t1^2*t1^((a + 3)*n)*t1^(b*n)*t1^(2*n)*t2 - t1*t1^((a + 3)*n)*t2^2*t2^(a*n)*t2^n + t1*t1^((a + 3)*n)*t2*t2^(a*n)*t2^n + t1*t1^((a + 3)*n)*t1^(b*n)*t1^(2*n) + t1^(2*n)*t2 - t1^(2*n), (t1*t2 - 1)*(t1 - 1)*t1^((a + 3)*n)*t1^(2*n)*(t2 - 1)*t2^(a*n))\n"
     ]
    }
   ],
   "source": [
    "a, b = var('a, b')\n",
    "forget(assumptions())\n",
    "assume( a>-1, -a-3<b, -b - 2<0)\n",
    "\n",
    "vertices = [[b,1],[-a-3,-a],[b,-a]]\n",
    "polytron = compute_pseudovertices(vertices)\n",
    "#print polytron\n",
    "\n",
    "print gen_fct(polytron).numerator_denominator() \n",
    "f = gen_fct(polytron).factor()"
   ]
  },
  {
   "cell_type": "code",
   "execution_count": 301,
   "metadata": {},
   "outputs": [
    {
     "data": {
      "text/plain": [
       "5/2*t^2 + 7/2*t + 1"
      ]
     },
     "execution_count": 301,
     "metadata": {},
     "output_type": "execute_result"
    }
   ],
   "source": [
    "ehrhart(polytron)"
   ]
  },
  {
   "cell_type": "code",
   "execution_count": null,
   "metadata": {},
   "outputs": [],
   "source": []
  },
  {
   "cell_type": "code",
   "execution_count": null,
   "metadata": {},
   "outputs": [],
   "source": []
  }
 ],
 "metadata": {
  "kernelspec": {
   "display_name": "SageMath 8.3",
   "language": "",
   "name": "sagemath"
  },
  "language_info": {
   "codemirror_mode": {
    "name": "ipython",
    "version": 2
   },
   "file_extension": ".py",
   "mimetype": "text/x-python",
   "name": "python",
   "nbconvert_exporter": "python",
   "pygments_lexer": "ipython2",
   "version": "2.7.15"
  }
 },
 "nbformat": 4,
 "nbformat_minor": 2
}
